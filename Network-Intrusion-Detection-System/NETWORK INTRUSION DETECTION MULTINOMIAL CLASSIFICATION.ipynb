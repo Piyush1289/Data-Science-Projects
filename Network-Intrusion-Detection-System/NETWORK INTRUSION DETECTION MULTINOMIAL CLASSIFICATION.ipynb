{
 "cells": [
  {
   "cell_type": "code",
   "execution_count": 2,
   "metadata": {},
   "outputs": [],
   "source": [
    "import pandas as pd\n",
    "import numpy as np\n",
    "import matplotlib.pyplot as plt\n",
    "%matplotlib inline\n",
    "\n",
    "import scipy.stats as stats\n",
    "import pandas_profiling \n",
    "\n",
    "import seaborn as sns\n",
    "from matplotlib.backends.backend_pdf import PdfPages\n",
    "\n",
    "import statsmodels.formula.api as sm\n",
    "\n",
    "\n",
    "from sklearn.model_selection import train_test_split\n",
    "from sklearn import metrics\n",
    "from sklearn.linear_model import LogisticRegression\n",
    "from statsmodels.stats.outliers_influence import variance_inflation_factor\n",
    "from patsy import dmatrices\n",
    "\n",
    "from sklearn.metrics import roc_curve, auc\n"
   ]
  },
  {
   "cell_type": "code",
   "execution_count": 3,
   "metadata": {},
   "outputs": [],
   "source": [
    "### Notebook configuration settings\n",
    "pd.set_option('display.max_columns', None)\n",
    "pd.options.display.max_rows = 1000\n",
    "pd.options.display.float_format = '{:.3f}'.format\n",
    "import warnings\n",
    "warnings.filterwarnings('ignore')"
   ]
  },
  {
   "cell_type": "code",
   "execution_count": 4,
   "metadata": {},
   "outputs": [],
   "source": [
    "writer=pd.ExcelWriter('network_intrusion_multinomial_clsfn.xlsx', engine='xlsxwriter')"
   ]
  },
  {
   "cell_type": "markdown",
   "metadata": {},
   "source": [
    "### Importing network train and test file"
   ]
  },
  {
   "cell_type": "code",
   "execution_count": 5,
   "metadata": {},
   "outputs": [],
   "source": [
    "### Train file\n",
    "network_train=pd.read_csv('NSL_Dataset\\Train.txt',sep=',',header=None)"
   ]
  },
  {
   "cell_type": "code",
   "execution_count": 6,
   "metadata": {},
   "outputs": [],
   "source": [
    "### Test file\n",
    "network_test=pd.read_csv('NSL_Dataset\\Test.txt',sep=',',header=None)"
   ]
  },
  {
   "cell_type": "code",
   "execution_count": 7,
   "metadata": {},
   "outputs": [],
   "source": [
    "BASIC_FEATURES=['DURATION','PROTOCOL_TYPE','SERVICE','FLAG','SRC_BYTES','DST_BYTES','LAND','WRONG_FRAGMENT','URGENT']"
   ]
  },
  {
   "cell_type": "code",
   "execution_count": 8,
   "metadata": {},
   "outputs": [],
   "source": [
    "CONTENT_FEATURES =['HOT','NUM_FAILED_LOGINS','LOGGED_IN','NUM_COMPROMISED','ROOT_SHELL','SU_ATTEMPTED','NUM_ROOT','NUM_FILE_CREATIONS','NUM_SHELLS','NUM_ACCESS_FILES','NUM_OUTBOUND_CMDS','IS_HOST_LOGIN','IS_GUEST_LOGIN']"
   ]
  },
  {
   "cell_type": "code",
   "execution_count": 9,
   "metadata": {},
   "outputs": [],
   "source": [
    "TIME_FEATURES=['COUNT','SRV_COUNT','SERROR_RATE','SRV_SERROR_RATE','RERROR_RATE','SRV_RERROR_RATE','SAME_SRV_RATE','DIFF_SRV_RATE','SRV_DIFF_HOST_RATE']"
   ]
  },
  {
   "cell_type": "code",
   "execution_count": 10,
   "metadata": {},
   "outputs": [],
   "source": [
    "HOST_FEATURES=['DST_HOST_COUNT','DST_HOST_SRV_COUNT','DST_HOST_SAME_SRV_RATE','DST_HOST_DIFF_SRV_RATE','DST_HOST_SAME_SRC_PORT_RATE','DST_HOST_SRV_DIFF_HOST_RATE','DST_HOST_SERROR_RATE','DST_HOST_SRV_SERROR_RATE','DST_HOST_RERROR_RATE','DST_HOST_SRV_RERROR_RATE']"
   ]
  },
  {
   "cell_type": "code",
   "execution_count": 11,
   "metadata": {},
   "outputs": [],
   "source": [
    "OTHER_FEATURES=['ATTACK','LAST_FLAG']"
   ]
  },
  {
   "cell_type": "code",
   "execution_count": 12,
   "metadata": {},
   "outputs": [],
   "source": [
    "total_features=BASIC_FEATURES+CONTENT_FEATURES+TIME_FEATURES+HOST_FEATURES+OTHER_FEATURES"
   ]
  },
  {
   "cell_type": "code",
   "execution_count": 13,
   "metadata": {},
   "outputs": [],
   "source": [
    "network_train.columns=total_features"
   ]
  },
  {
   "cell_type": "code",
   "execution_count": 14,
   "metadata": {},
   "outputs": [],
   "source": [
    "network_test.columns=total_features"
   ]
  },
  {
   "cell_type": "markdown",
   "metadata": {},
   "source": [
    "### Train and test dataset structure"
   ]
  },
  {
   "cell_type": "code",
   "execution_count": 15,
   "metadata": {},
   "outputs": [
    {
     "data": {
      "text/plain": [
       "(125973, 43)"
      ]
     },
     "execution_count": 15,
     "metadata": {},
     "output_type": "execute_result"
    }
   ],
   "source": [
    "network_train.shape"
   ]
  },
  {
   "cell_type": "code",
   "execution_count": 16,
   "metadata": {},
   "outputs": [
    {
     "data": {
      "text/html": [
       "<div>\n",
       "<style scoped>\n",
       "    .dataframe tbody tr th:only-of-type {\n",
       "        vertical-align: middle;\n",
       "    }\n",
       "\n",
       "    .dataframe tbody tr th {\n",
       "        vertical-align: top;\n",
       "    }\n",
       "\n",
       "    .dataframe thead th {\n",
       "        text-align: right;\n",
       "    }\n",
       "</style>\n",
       "<table border=\"1\" class=\"dataframe\">\n",
       "  <thead>\n",
       "    <tr style=\"text-align: right;\">\n",
       "      <th></th>\n",
       "      <th>DURATION</th>\n",
       "      <th>PROTOCOL_TYPE</th>\n",
       "      <th>SERVICE</th>\n",
       "      <th>FLAG</th>\n",
       "      <th>SRC_BYTES</th>\n",
       "      <th>DST_BYTES</th>\n",
       "      <th>LAND</th>\n",
       "      <th>WRONG_FRAGMENT</th>\n",
       "      <th>URGENT</th>\n",
       "      <th>HOT</th>\n",
       "      <th>NUM_FAILED_LOGINS</th>\n",
       "      <th>LOGGED_IN</th>\n",
       "      <th>NUM_COMPROMISED</th>\n",
       "      <th>ROOT_SHELL</th>\n",
       "      <th>SU_ATTEMPTED</th>\n",
       "      <th>NUM_ROOT</th>\n",
       "      <th>NUM_FILE_CREATIONS</th>\n",
       "      <th>NUM_SHELLS</th>\n",
       "      <th>NUM_ACCESS_FILES</th>\n",
       "      <th>NUM_OUTBOUND_CMDS</th>\n",
       "      <th>IS_HOST_LOGIN</th>\n",
       "      <th>IS_GUEST_LOGIN</th>\n",
       "      <th>COUNT</th>\n",
       "      <th>SRV_COUNT</th>\n",
       "      <th>SERROR_RATE</th>\n",
       "      <th>SRV_SERROR_RATE</th>\n",
       "      <th>RERROR_RATE</th>\n",
       "      <th>SRV_RERROR_RATE</th>\n",
       "      <th>SAME_SRV_RATE</th>\n",
       "      <th>DIFF_SRV_RATE</th>\n",
       "      <th>SRV_DIFF_HOST_RATE</th>\n",
       "      <th>DST_HOST_COUNT</th>\n",
       "      <th>DST_HOST_SRV_COUNT</th>\n",
       "      <th>DST_HOST_SAME_SRV_RATE</th>\n",
       "      <th>DST_HOST_DIFF_SRV_RATE</th>\n",
       "      <th>DST_HOST_SAME_SRC_PORT_RATE</th>\n",
       "      <th>DST_HOST_SRV_DIFF_HOST_RATE</th>\n",
       "      <th>DST_HOST_SERROR_RATE</th>\n",
       "      <th>DST_HOST_SRV_SERROR_RATE</th>\n",
       "      <th>DST_HOST_RERROR_RATE</th>\n",
       "      <th>DST_HOST_SRV_RERROR_RATE</th>\n",
       "      <th>ATTACK</th>\n",
       "      <th>LAST_FLAG</th>\n",
       "    </tr>\n",
       "  </thead>\n",
       "  <tbody>\n",
       "    <tr>\n",
       "      <td>0</td>\n",
       "      <td>0</td>\n",
       "      <td>tcp</td>\n",
       "      <td>ftp_data</td>\n",
       "      <td>SF</td>\n",
       "      <td>491</td>\n",
       "      <td>0</td>\n",
       "      <td>0</td>\n",
       "      <td>0</td>\n",
       "      <td>0</td>\n",
       "      <td>0</td>\n",
       "      <td>0</td>\n",
       "      <td>0</td>\n",
       "      <td>0</td>\n",
       "      <td>0</td>\n",
       "      <td>0</td>\n",
       "      <td>0</td>\n",
       "      <td>0</td>\n",
       "      <td>0</td>\n",
       "      <td>0</td>\n",
       "      <td>0</td>\n",
       "      <td>0</td>\n",
       "      <td>0</td>\n",
       "      <td>2</td>\n",
       "      <td>2</td>\n",
       "      <td>0.000</td>\n",
       "      <td>0.000</td>\n",
       "      <td>0.000</td>\n",
       "      <td>0.000</td>\n",
       "      <td>1.000</td>\n",
       "      <td>0.000</td>\n",
       "      <td>0.000</td>\n",
       "      <td>150</td>\n",
       "      <td>25</td>\n",
       "      <td>0.170</td>\n",
       "      <td>0.030</td>\n",
       "      <td>0.170</td>\n",
       "      <td>0.000</td>\n",
       "      <td>0.000</td>\n",
       "      <td>0.000</td>\n",
       "      <td>0.050</td>\n",
       "      <td>0.000</td>\n",
       "      <td>normal</td>\n",
       "      <td>20</td>\n",
       "    </tr>\n",
       "    <tr>\n",
       "      <td>1</td>\n",
       "      <td>0</td>\n",
       "      <td>udp</td>\n",
       "      <td>other</td>\n",
       "      <td>SF</td>\n",
       "      <td>146</td>\n",
       "      <td>0</td>\n",
       "      <td>0</td>\n",
       "      <td>0</td>\n",
       "      <td>0</td>\n",
       "      <td>0</td>\n",
       "      <td>0</td>\n",
       "      <td>0</td>\n",
       "      <td>0</td>\n",
       "      <td>0</td>\n",
       "      <td>0</td>\n",
       "      <td>0</td>\n",
       "      <td>0</td>\n",
       "      <td>0</td>\n",
       "      <td>0</td>\n",
       "      <td>0</td>\n",
       "      <td>0</td>\n",
       "      <td>0</td>\n",
       "      <td>13</td>\n",
       "      <td>1</td>\n",
       "      <td>0.000</td>\n",
       "      <td>0.000</td>\n",
       "      <td>0.000</td>\n",
       "      <td>0.000</td>\n",
       "      <td>0.080</td>\n",
       "      <td>0.150</td>\n",
       "      <td>0.000</td>\n",
       "      <td>255</td>\n",
       "      <td>1</td>\n",
       "      <td>0.000</td>\n",
       "      <td>0.600</td>\n",
       "      <td>0.880</td>\n",
       "      <td>0.000</td>\n",
       "      <td>0.000</td>\n",
       "      <td>0.000</td>\n",
       "      <td>0.000</td>\n",
       "      <td>0.000</td>\n",
       "      <td>normal</td>\n",
       "      <td>15</td>\n",
       "    </tr>\n",
       "    <tr>\n",
       "      <td>2</td>\n",
       "      <td>0</td>\n",
       "      <td>tcp</td>\n",
       "      <td>private</td>\n",
       "      <td>S0</td>\n",
       "      <td>0</td>\n",
       "      <td>0</td>\n",
       "      <td>0</td>\n",
       "      <td>0</td>\n",
       "      <td>0</td>\n",
       "      <td>0</td>\n",
       "      <td>0</td>\n",
       "      <td>0</td>\n",
       "      <td>0</td>\n",
       "      <td>0</td>\n",
       "      <td>0</td>\n",
       "      <td>0</td>\n",
       "      <td>0</td>\n",
       "      <td>0</td>\n",
       "      <td>0</td>\n",
       "      <td>0</td>\n",
       "      <td>0</td>\n",
       "      <td>0</td>\n",
       "      <td>123</td>\n",
       "      <td>6</td>\n",
       "      <td>1.000</td>\n",
       "      <td>1.000</td>\n",
       "      <td>0.000</td>\n",
       "      <td>0.000</td>\n",
       "      <td>0.050</td>\n",
       "      <td>0.070</td>\n",
       "      <td>0.000</td>\n",
       "      <td>255</td>\n",
       "      <td>26</td>\n",
       "      <td>0.100</td>\n",
       "      <td>0.050</td>\n",
       "      <td>0.000</td>\n",
       "      <td>0.000</td>\n",
       "      <td>1.000</td>\n",
       "      <td>1.000</td>\n",
       "      <td>0.000</td>\n",
       "      <td>0.000</td>\n",
       "      <td>neptune</td>\n",
       "      <td>19</td>\n",
       "    </tr>\n",
       "    <tr>\n",
       "      <td>3</td>\n",
       "      <td>0</td>\n",
       "      <td>tcp</td>\n",
       "      <td>http</td>\n",
       "      <td>SF</td>\n",
       "      <td>232</td>\n",
       "      <td>8153</td>\n",
       "      <td>0</td>\n",
       "      <td>0</td>\n",
       "      <td>0</td>\n",
       "      <td>0</td>\n",
       "      <td>0</td>\n",
       "      <td>1</td>\n",
       "      <td>0</td>\n",
       "      <td>0</td>\n",
       "      <td>0</td>\n",
       "      <td>0</td>\n",
       "      <td>0</td>\n",
       "      <td>0</td>\n",
       "      <td>0</td>\n",
       "      <td>0</td>\n",
       "      <td>0</td>\n",
       "      <td>0</td>\n",
       "      <td>5</td>\n",
       "      <td>5</td>\n",
       "      <td>0.200</td>\n",
       "      <td>0.200</td>\n",
       "      <td>0.000</td>\n",
       "      <td>0.000</td>\n",
       "      <td>1.000</td>\n",
       "      <td>0.000</td>\n",
       "      <td>0.000</td>\n",
       "      <td>30</td>\n",
       "      <td>255</td>\n",
       "      <td>1.000</td>\n",
       "      <td>0.000</td>\n",
       "      <td>0.030</td>\n",
       "      <td>0.040</td>\n",
       "      <td>0.030</td>\n",
       "      <td>0.010</td>\n",
       "      <td>0.000</td>\n",
       "      <td>0.010</td>\n",
       "      <td>normal</td>\n",
       "      <td>21</td>\n",
       "    </tr>\n",
       "    <tr>\n",
       "      <td>4</td>\n",
       "      <td>0</td>\n",
       "      <td>tcp</td>\n",
       "      <td>http</td>\n",
       "      <td>SF</td>\n",
       "      <td>199</td>\n",
       "      <td>420</td>\n",
       "      <td>0</td>\n",
       "      <td>0</td>\n",
       "      <td>0</td>\n",
       "      <td>0</td>\n",
       "      <td>0</td>\n",
       "      <td>1</td>\n",
       "      <td>0</td>\n",
       "      <td>0</td>\n",
       "      <td>0</td>\n",
       "      <td>0</td>\n",
       "      <td>0</td>\n",
       "      <td>0</td>\n",
       "      <td>0</td>\n",
       "      <td>0</td>\n",
       "      <td>0</td>\n",
       "      <td>0</td>\n",
       "      <td>30</td>\n",
       "      <td>32</td>\n",
       "      <td>0.000</td>\n",
       "      <td>0.000</td>\n",
       "      <td>0.000</td>\n",
       "      <td>0.000</td>\n",
       "      <td>1.000</td>\n",
       "      <td>0.000</td>\n",
       "      <td>0.090</td>\n",
       "      <td>255</td>\n",
       "      <td>255</td>\n",
       "      <td>1.000</td>\n",
       "      <td>0.000</td>\n",
       "      <td>0.000</td>\n",
       "      <td>0.000</td>\n",
       "      <td>0.000</td>\n",
       "      <td>0.000</td>\n",
       "      <td>0.000</td>\n",
       "      <td>0.000</td>\n",
       "      <td>normal</td>\n",
       "      <td>21</td>\n",
       "    </tr>\n",
       "  </tbody>\n",
       "</table>\n",
       "</div>"
      ],
      "text/plain": [
       "   DURATION PROTOCOL_TYPE   SERVICE FLAG  SRC_BYTES  DST_BYTES  LAND  \\\n",
       "0         0           tcp  ftp_data   SF        491          0     0   \n",
       "1         0           udp     other   SF        146          0     0   \n",
       "2         0           tcp   private   S0          0          0     0   \n",
       "3         0           tcp      http   SF        232       8153     0   \n",
       "4         0           tcp      http   SF        199        420     0   \n",
       "\n",
       "   WRONG_FRAGMENT  URGENT  HOT  NUM_FAILED_LOGINS  LOGGED_IN  NUM_COMPROMISED  \\\n",
       "0               0       0    0                  0          0                0   \n",
       "1               0       0    0                  0          0                0   \n",
       "2               0       0    0                  0          0                0   \n",
       "3               0       0    0                  0          1                0   \n",
       "4               0       0    0                  0          1                0   \n",
       "\n",
       "   ROOT_SHELL  SU_ATTEMPTED  NUM_ROOT  NUM_FILE_CREATIONS  NUM_SHELLS  \\\n",
       "0           0             0         0                   0           0   \n",
       "1           0             0         0                   0           0   \n",
       "2           0             0         0                   0           0   \n",
       "3           0             0         0                   0           0   \n",
       "4           0             0         0                   0           0   \n",
       "\n",
       "   NUM_ACCESS_FILES  NUM_OUTBOUND_CMDS  IS_HOST_LOGIN  IS_GUEST_LOGIN  COUNT  \\\n",
       "0                 0                  0              0               0      2   \n",
       "1                 0                  0              0               0     13   \n",
       "2                 0                  0              0               0    123   \n",
       "3                 0                  0              0               0      5   \n",
       "4                 0                  0              0               0     30   \n",
       "\n",
       "   SRV_COUNT  SERROR_RATE  SRV_SERROR_RATE  RERROR_RATE  SRV_RERROR_RATE  \\\n",
       "0          2        0.000            0.000        0.000            0.000   \n",
       "1          1        0.000            0.000        0.000            0.000   \n",
       "2          6        1.000            1.000        0.000            0.000   \n",
       "3          5        0.200            0.200        0.000            0.000   \n",
       "4         32        0.000            0.000        0.000            0.000   \n",
       "\n",
       "   SAME_SRV_RATE  DIFF_SRV_RATE  SRV_DIFF_HOST_RATE  DST_HOST_COUNT  \\\n",
       "0          1.000          0.000               0.000             150   \n",
       "1          0.080          0.150               0.000             255   \n",
       "2          0.050          0.070               0.000             255   \n",
       "3          1.000          0.000               0.000              30   \n",
       "4          1.000          0.000               0.090             255   \n",
       "\n",
       "   DST_HOST_SRV_COUNT  DST_HOST_SAME_SRV_RATE  DST_HOST_DIFF_SRV_RATE  \\\n",
       "0                  25                   0.170                   0.030   \n",
       "1                   1                   0.000                   0.600   \n",
       "2                  26                   0.100                   0.050   \n",
       "3                 255                   1.000                   0.000   \n",
       "4                 255                   1.000                   0.000   \n",
       "\n",
       "   DST_HOST_SAME_SRC_PORT_RATE  DST_HOST_SRV_DIFF_HOST_RATE  \\\n",
       "0                        0.170                        0.000   \n",
       "1                        0.880                        0.000   \n",
       "2                        0.000                        0.000   \n",
       "3                        0.030                        0.040   \n",
       "4                        0.000                        0.000   \n",
       "\n",
       "   DST_HOST_SERROR_RATE  DST_HOST_SRV_SERROR_RATE  DST_HOST_RERROR_RATE  \\\n",
       "0                 0.000                     0.000                 0.050   \n",
       "1                 0.000                     0.000                 0.000   \n",
       "2                 1.000                     1.000                 0.000   \n",
       "3                 0.030                     0.010                 0.000   \n",
       "4                 0.000                     0.000                 0.000   \n",
       "\n",
       "   DST_HOST_SRV_RERROR_RATE   ATTACK  LAST_FLAG  \n",
       "0                     0.000   normal         20  \n",
       "1                     0.000   normal         15  \n",
       "2                     0.000  neptune         19  \n",
       "3                     0.010   normal         21  \n",
       "4                     0.000   normal         21  "
      ]
     },
     "execution_count": 16,
     "metadata": {},
     "output_type": "execute_result"
    }
   ],
   "source": [
    "network_train.head()"
   ]
  },
  {
   "cell_type": "code",
   "execution_count": 17,
   "metadata": {},
   "outputs": [
    {
     "data": {
      "text/plain": [
       "(22544, 43)"
      ]
     },
     "execution_count": 17,
     "metadata": {},
     "output_type": "execute_result"
    }
   ],
   "source": [
    "network_test.shape"
   ]
  },
  {
   "cell_type": "code",
   "execution_count": 18,
   "metadata": {},
   "outputs": [
    {
     "data": {
      "text/html": [
       "<div>\n",
       "<style scoped>\n",
       "    .dataframe tbody tr th:only-of-type {\n",
       "        vertical-align: middle;\n",
       "    }\n",
       "\n",
       "    .dataframe tbody tr th {\n",
       "        vertical-align: top;\n",
       "    }\n",
       "\n",
       "    .dataframe thead th {\n",
       "        text-align: right;\n",
       "    }\n",
       "</style>\n",
       "<table border=\"1\" class=\"dataframe\">\n",
       "  <thead>\n",
       "    <tr style=\"text-align: right;\">\n",
       "      <th></th>\n",
       "      <th>DURATION</th>\n",
       "      <th>PROTOCOL_TYPE</th>\n",
       "      <th>SERVICE</th>\n",
       "      <th>FLAG</th>\n",
       "      <th>SRC_BYTES</th>\n",
       "      <th>DST_BYTES</th>\n",
       "      <th>LAND</th>\n",
       "      <th>WRONG_FRAGMENT</th>\n",
       "      <th>URGENT</th>\n",
       "      <th>HOT</th>\n",
       "      <th>NUM_FAILED_LOGINS</th>\n",
       "      <th>LOGGED_IN</th>\n",
       "      <th>NUM_COMPROMISED</th>\n",
       "      <th>ROOT_SHELL</th>\n",
       "      <th>SU_ATTEMPTED</th>\n",
       "      <th>NUM_ROOT</th>\n",
       "      <th>NUM_FILE_CREATIONS</th>\n",
       "      <th>NUM_SHELLS</th>\n",
       "      <th>NUM_ACCESS_FILES</th>\n",
       "      <th>NUM_OUTBOUND_CMDS</th>\n",
       "      <th>IS_HOST_LOGIN</th>\n",
       "      <th>IS_GUEST_LOGIN</th>\n",
       "      <th>COUNT</th>\n",
       "      <th>SRV_COUNT</th>\n",
       "      <th>SERROR_RATE</th>\n",
       "      <th>SRV_SERROR_RATE</th>\n",
       "      <th>RERROR_RATE</th>\n",
       "      <th>SRV_RERROR_RATE</th>\n",
       "      <th>SAME_SRV_RATE</th>\n",
       "      <th>DIFF_SRV_RATE</th>\n",
       "      <th>SRV_DIFF_HOST_RATE</th>\n",
       "      <th>DST_HOST_COUNT</th>\n",
       "      <th>DST_HOST_SRV_COUNT</th>\n",
       "      <th>DST_HOST_SAME_SRV_RATE</th>\n",
       "      <th>DST_HOST_DIFF_SRV_RATE</th>\n",
       "      <th>DST_HOST_SAME_SRC_PORT_RATE</th>\n",
       "      <th>DST_HOST_SRV_DIFF_HOST_RATE</th>\n",
       "      <th>DST_HOST_SERROR_RATE</th>\n",
       "      <th>DST_HOST_SRV_SERROR_RATE</th>\n",
       "      <th>DST_HOST_RERROR_RATE</th>\n",
       "      <th>DST_HOST_SRV_RERROR_RATE</th>\n",
       "      <th>ATTACK</th>\n",
       "      <th>LAST_FLAG</th>\n",
       "    </tr>\n",
       "  </thead>\n",
       "  <tbody>\n",
       "    <tr>\n",
       "      <td>0</td>\n",
       "      <td>0</td>\n",
       "      <td>tcp</td>\n",
       "      <td>private</td>\n",
       "      <td>REJ</td>\n",
       "      <td>0</td>\n",
       "      <td>0</td>\n",
       "      <td>0</td>\n",
       "      <td>0</td>\n",
       "      <td>0</td>\n",
       "      <td>0</td>\n",
       "      <td>0</td>\n",
       "      <td>0</td>\n",
       "      <td>0</td>\n",
       "      <td>0</td>\n",
       "      <td>0</td>\n",
       "      <td>0</td>\n",
       "      <td>0</td>\n",
       "      <td>0</td>\n",
       "      <td>0</td>\n",
       "      <td>0</td>\n",
       "      <td>0</td>\n",
       "      <td>0</td>\n",
       "      <td>229</td>\n",
       "      <td>10</td>\n",
       "      <td>0.000</td>\n",
       "      <td>0.000</td>\n",
       "      <td>1.000</td>\n",
       "      <td>1.000</td>\n",
       "      <td>0.040</td>\n",
       "      <td>0.060</td>\n",
       "      <td>0.000</td>\n",
       "      <td>255</td>\n",
       "      <td>10</td>\n",
       "      <td>0.040</td>\n",
       "      <td>0.060</td>\n",
       "      <td>0.000</td>\n",
       "      <td>0.000</td>\n",
       "      <td>0.000</td>\n",
       "      <td>0.000</td>\n",
       "      <td>1.000</td>\n",
       "      <td>1.000</td>\n",
       "      <td>neptune</td>\n",
       "      <td>21</td>\n",
       "    </tr>\n",
       "    <tr>\n",
       "      <td>1</td>\n",
       "      <td>0</td>\n",
       "      <td>tcp</td>\n",
       "      <td>private</td>\n",
       "      <td>REJ</td>\n",
       "      <td>0</td>\n",
       "      <td>0</td>\n",
       "      <td>0</td>\n",
       "      <td>0</td>\n",
       "      <td>0</td>\n",
       "      <td>0</td>\n",
       "      <td>0</td>\n",
       "      <td>0</td>\n",
       "      <td>0</td>\n",
       "      <td>0</td>\n",
       "      <td>0</td>\n",
       "      <td>0</td>\n",
       "      <td>0</td>\n",
       "      <td>0</td>\n",
       "      <td>0</td>\n",
       "      <td>0</td>\n",
       "      <td>0</td>\n",
       "      <td>0</td>\n",
       "      <td>136</td>\n",
       "      <td>1</td>\n",
       "      <td>0.000</td>\n",
       "      <td>0.000</td>\n",
       "      <td>1.000</td>\n",
       "      <td>1.000</td>\n",
       "      <td>0.010</td>\n",
       "      <td>0.060</td>\n",
       "      <td>0.000</td>\n",
       "      <td>255</td>\n",
       "      <td>1</td>\n",
       "      <td>0.000</td>\n",
       "      <td>0.060</td>\n",
       "      <td>0.000</td>\n",
       "      <td>0.000</td>\n",
       "      <td>0.000</td>\n",
       "      <td>0.000</td>\n",
       "      <td>1.000</td>\n",
       "      <td>1.000</td>\n",
       "      <td>neptune</td>\n",
       "      <td>21</td>\n",
       "    </tr>\n",
       "    <tr>\n",
       "      <td>2</td>\n",
       "      <td>2</td>\n",
       "      <td>tcp</td>\n",
       "      <td>ftp_data</td>\n",
       "      <td>SF</td>\n",
       "      <td>12983</td>\n",
       "      <td>0</td>\n",
       "      <td>0</td>\n",
       "      <td>0</td>\n",
       "      <td>0</td>\n",
       "      <td>0</td>\n",
       "      <td>0</td>\n",
       "      <td>0</td>\n",
       "      <td>0</td>\n",
       "      <td>0</td>\n",
       "      <td>0</td>\n",
       "      <td>0</td>\n",
       "      <td>0</td>\n",
       "      <td>0</td>\n",
       "      <td>0</td>\n",
       "      <td>0</td>\n",
       "      <td>0</td>\n",
       "      <td>0</td>\n",
       "      <td>1</td>\n",
       "      <td>1</td>\n",
       "      <td>0.000</td>\n",
       "      <td>0.000</td>\n",
       "      <td>0.000</td>\n",
       "      <td>0.000</td>\n",
       "      <td>1.000</td>\n",
       "      <td>0.000</td>\n",
       "      <td>0.000</td>\n",
       "      <td>134</td>\n",
       "      <td>86</td>\n",
       "      <td>0.610</td>\n",
       "      <td>0.040</td>\n",
       "      <td>0.610</td>\n",
       "      <td>0.020</td>\n",
       "      <td>0.000</td>\n",
       "      <td>0.000</td>\n",
       "      <td>0.000</td>\n",
       "      <td>0.000</td>\n",
       "      <td>normal</td>\n",
       "      <td>21</td>\n",
       "    </tr>\n",
       "    <tr>\n",
       "      <td>3</td>\n",
       "      <td>0</td>\n",
       "      <td>icmp</td>\n",
       "      <td>eco_i</td>\n",
       "      <td>SF</td>\n",
       "      <td>20</td>\n",
       "      <td>0</td>\n",
       "      <td>0</td>\n",
       "      <td>0</td>\n",
       "      <td>0</td>\n",
       "      <td>0</td>\n",
       "      <td>0</td>\n",
       "      <td>0</td>\n",
       "      <td>0</td>\n",
       "      <td>0</td>\n",
       "      <td>0</td>\n",
       "      <td>0</td>\n",
       "      <td>0</td>\n",
       "      <td>0</td>\n",
       "      <td>0</td>\n",
       "      <td>0</td>\n",
       "      <td>0</td>\n",
       "      <td>0</td>\n",
       "      <td>1</td>\n",
       "      <td>65</td>\n",
       "      <td>0.000</td>\n",
       "      <td>0.000</td>\n",
       "      <td>0.000</td>\n",
       "      <td>0.000</td>\n",
       "      <td>1.000</td>\n",
       "      <td>0.000</td>\n",
       "      <td>1.000</td>\n",
       "      <td>3</td>\n",
       "      <td>57</td>\n",
       "      <td>1.000</td>\n",
       "      <td>0.000</td>\n",
       "      <td>1.000</td>\n",
       "      <td>0.280</td>\n",
       "      <td>0.000</td>\n",
       "      <td>0.000</td>\n",
       "      <td>0.000</td>\n",
       "      <td>0.000</td>\n",
       "      <td>saint</td>\n",
       "      <td>15</td>\n",
       "    </tr>\n",
       "    <tr>\n",
       "      <td>4</td>\n",
       "      <td>1</td>\n",
       "      <td>tcp</td>\n",
       "      <td>telnet</td>\n",
       "      <td>RSTO</td>\n",
       "      <td>0</td>\n",
       "      <td>15</td>\n",
       "      <td>0</td>\n",
       "      <td>0</td>\n",
       "      <td>0</td>\n",
       "      <td>0</td>\n",
       "      <td>0</td>\n",
       "      <td>0</td>\n",
       "      <td>0</td>\n",
       "      <td>0</td>\n",
       "      <td>0</td>\n",
       "      <td>0</td>\n",
       "      <td>0</td>\n",
       "      <td>0</td>\n",
       "      <td>0</td>\n",
       "      <td>0</td>\n",
       "      <td>0</td>\n",
       "      <td>0</td>\n",
       "      <td>1</td>\n",
       "      <td>8</td>\n",
       "      <td>0.000</td>\n",
       "      <td>0.120</td>\n",
       "      <td>1.000</td>\n",
       "      <td>0.500</td>\n",
       "      <td>1.000</td>\n",
       "      <td>0.000</td>\n",
       "      <td>0.750</td>\n",
       "      <td>29</td>\n",
       "      <td>86</td>\n",
       "      <td>0.310</td>\n",
       "      <td>0.170</td>\n",
       "      <td>0.030</td>\n",
       "      <td>0.020</td>\n",
       "      <td>0.000</td>\n",
       "      <td>0.000</td>\n",
       "      <td>0.830</td>\n",
       "      <td>0.710</td>\n",
       "      <td>mscan</td>\n",
       "      <td>11</td>\n",
       "    </tr>\n",
       "  </tbody>\n",
       "</table>\n",
       "</div>"
      ],
      "text/plain": [
       "   DURATION PROTOCOL_TYPE   SERVICE  FLAG  SRC_BYTES  DST_BYTES  LAND  \\\n",
       "0         0           tcp   private   REJ          0          0     0   \n",
       "1         0           tcp   private   REJ          0          0     0   \n",
       "2         2           tcp  ftp_data    SF      12983          0     0   \n",
       "3         0          icmp     eco_i    SF         20          0     0   \n",
       "4         1           tcp    telnet  RSTO          0         15     0   \n",
       "\n",
       "   WRONG_FRAGMENT  URGENT  HOT  NUM_FAILED_LOGINS  LOGGED_IN  NUM_COMPROMISED  \\\n",
       "0               0       0    0                  0          0                0   \n",
       "1               0       0    0                  0          0                0   \n",
       "2               0       0    0                  0          0                0   \n",
       "3               0       0    0                  0          0                0   \n",
       "4               0       0    0                  0          0                0   \n",
       "\n",
       "   ROOT_SHELL  SU_ATTEMPTED  NUM_ROOT  NUM_FILE_CREATIONS  NUM_SHELLS  \\\n",
       "0           0             0         0                   0           0   \n",
       "1           0             0         0                   0           0   \n",
       "2           0             0         0                   0           0   \n",
       "3           0             0         0                   0           0   \n",
       "4           0             0         0                   0           0   \n",
       "\n",
       "   NUM_ACCESS_FILES  NUM_OUTBOUND_CMDS  IS_HOST_LOGIN  IS_GUEST_LOGIN  COUNT  \\\n",
       "0                 0                  0              0               0    229   \n",
       "1                 0                  0              0               0    136   \n",
       "2                 0                  0              0               0      1   \n",
       "3                 0                  0              0               0      1   \n",
       "4                 0                  0              0               0      1   \n",
       "\n",
       "   SRV_COUNT  SERROR_RATE  SRV_SERROR_RATE  RERROR_RATE  SRV_RERROR_RATE  \\\n",
       "0         10        0.000            0.000        1.000            1.000   \n",
       "1          1        0.000            0.000        1.000            1.000   \n",
       "2          1        0.000            0.000        0.000            0.000   \n",
       "3         65        0.000            0.000        0.000            0.000   \n",
       "4          8        0.000            0.120        1.000            0.500   \n",
       "\n",
       "   SAME_SRV_RATE  DIFF_SRV_RATE  SRV_DIFF_HOST_RATE  DST_HOST_COUNT  \\\n",
       "0          0.040          0.060               0.000             255   \n",
       "1          0.010          0.060               0.000             255   \n",
       "2          1.000          0.000               0.000             134   \n",
       "3          1.000          0.000               1.000               3   \n",
       "4          1.000          0.000               0.750              29   \n",
       "\n",
       "   DST_HOST_SRV_COUNT  DST_HOST_SAME_SRV_RATE  DST_HOST_DIFF_SRV_RATE  \\\n",
       "0                  10                   0.040                   0.060   \n",
       "1                   1                   0.000                   0.060   \n",
       "2                  86                   0.610                   0.040   \n",
       "3                  57                   1.000                   0.000   \n",
       "4                  86                   0.310                   0.170   \n",
       "\n",
       "   DST_HOST_SAME_SRC_PORT_RATE  DST_HOST_SRV_DIFF_HOST_RATE  \\\n",
       "0                        0.000                        0.000   \n",
       "1                        0.000                        0.000   \n",
       "2                        0.610                        0.020   \n",
       "3                        1.000                        0.280   \n",
       "4                        0.030                        0.020   \n",
       "\n",
       "   DST_HOST_SERROR_RATE  DST_HOST_SRV_SERROR_RATE  DST_HOST_RERROR_RATE  \\\n",
       "0                 0.000                     0.000                 1.000   \n",
       "1                 0.000                     0.000                 1.000   \n",
       "2                 0.000                     0.000                 0.000   \n",
       "3                 0.000                     0.000                 0.000   \n",
       "4                 0.000                     0.000                 0.830   \n",
       "\n",
       "   DST_HOST_SRV_RERROR_RATE   ATTACK  LAST_FLAG  \n",
       "0                     1.000  neptune         21  \n",
       "1                     1.000  neptune         21  \n",
       "2                     0.000   normal         21  \n",
       "3                     0.000    saint         15  \n",
       "4                     0.710    mscan         11  "
      ]
     },
     "execution_count": 18,
     "metadata": {},
     "output_type": "execute_result"
    }
   ],
   "source": [
    "network_test.head()"
   ]
  },
  {
   "cell_type": "markdown",
   "metadata": {},
   "source": [
    "### Check categorical columns to have equal number of categories in both train and test dataset"
   ]
  },
  {
   "cell_type": "code",
   "execution_count": 19,
   "metadata": {},
   "outputs": [
    {
     "name": "stdout",
     "output_type": "stream",
     "text": [
      "Number of categories in PROTOCOL_TYPE : 3\n",
      "Number of categories in SERVICE : 70\n",
      "Number of categories in FLAG : 11\n",
      "Number of categories in ATTACK : 23\n"
     ]
    }
   ],
   "source": [
    "### Train dataset\n",
    "for col in network_train.columns:\n",
    "    if network_train[col].dtypes == 'object' :\n",
    "        print(f\"Number of categories in {col} : {network_train[col].nunique()}\")"
   ]
  },
  {
   "cell_type": "code",
   "execution_count": null,
   "metadata": {},
   "outputs": [],
   "source": [
    "### Test dataset"
   ]
  },
  {
   "cell_type": "code",
   "execution_count": 20,
   "metadata": {},
   "outputs": [
    {
     "name": "stdout",
     "output_type": "stream",
     "text": [
      "Number of categories in PROTOCOL_TYPE : 3\n",
      "Number of categories in SERVICE : 64\n",
      "Number of categories in FLAG : 11\n",
      "Number of categories in ATTACK : 38\n"
     ]
    }
   ],
   "source": [
    "for col in network_test.columns:\n",
    "    if network_test[col].dtypes == 'object' :\n",
    "        print(f\"Number of categories in {col} : {network_test[col].nunique()}\")"
   ]
  },
  {
   "cell_type": "markdown",
   "metadata": {},
   "source": [
    "- As we have observed that SERVICE column has 6 missing categories in test dataset.We will include this categories while creating dummy variables"
   ]
  },
  {
   "cell_type": "code",
   "execution_count": 21,
   "metadata": {},
   "outputs": [],
   "source": [
    "missing_cols=list(set(network_train['SERVICE'])-set(network_test['SERVICE']))"
   ]
  },
  {
   "cell_type": "markdown",
   "metadata": {},
   "source": [
    "### Creation of user defined functions"
   ]
  },
  {
   "cell_type": "code",
   "execution_count": 22,
   "metadata": {},
   "outputs": [],
   "source": [
    "## function to remove column from categorical and numerical features\n",
    "def remove_columns_from_list(categorical,numerical,col):\n",
    "    if col in categorical:\n",
    "        categorical.remove(col)\n",
    "    elif col in numerical:\n",
    "        numerical.remove(col)\n",
    "    else:\n",
    "        print(\"Variable not present in both the list\")\n",
    "        \n",
    "    return categorical,numerical\n",
    "    "
   ]
  },
  {
   "cell_type": "code",
   "execution_count": 23,
   "metadata": {},
   "outputs": [],
   "source": [
    "def remove_columns_from_main_set(network_data,col):\n",
    "    network_data.drop(col,axis=1,inplace=True)\n",
    "    \n",
    "    "
   ]
  },
  {
   "cell_type": "code",
   "execution_count": 24,
   "metadata": {},
   "outputs": [],
   "source": [
    "def missing_treatment(network_data,col):\n",
    "    if col in categorical:\n",
    "        network_data[col].fillna(network_data[col].mode()[0],inplace=True)\n",
    "    elif col in numerical:\n",
    "        network_data[col].fillna(network_data[col].median(),inplace=True)\n",
    "    else:\n",
    "        print(\"Variable not present in both the list\")\n",
    "    \n",
    "        \n",
    "    "
   ]
  },
  {
   "cell_type": "code",
   "execution_count": 25,
   "metadata": {},
   "outputs": [],
   "source": [
    "def cont_var_summary(x):\n",
    "    return pd.Series([x.count(), x.isnull().sum(), round(x.sum(),2), round(x.mean(),2), round(x.median(),2),  round(x.std(),2), round(x.var(),2), round((x.std()/x.mean()),2), round(x.min(),2), round(x.dropna().quantile(0.01),2), round(x.dropna().quantile(0.05),2),round(x.dropna().quantile(0.10),2),round(x.dropna().quantile(0.25),2),round(x.dropna().quantile(0.50),2),round(x.dropna().quantile(0.75),2), round(x.dropna().quantile(0.90),2),round(x.dropna().quantile(0.95),2), round(x.dropna().quantile(0.99),2),x.max()], \n",
    "                  index=['N', 'NMISS', 'SUM', 'MEAN','MEDIAN', 'STD', 'VAR', 'CV','MIN', 'P1' , 'P5' ,'P10' ,'P25' ,'P50' ,'P75' ,'P90' ,'P95' ,'P99' ,'MAX'])\n",
    "\n",
    "def cat_var_summary(x):\n",
    "    Mode = x.value_counts().sort_values(ascending = False)[0:1].reset_index()\n",
    "    return pd.Series([x.count(), x.isnull().sum(), Mode.iloc[0, 0], Mode.iloc[0, 1], \n",
    "                          round(Mode.iloc[0, 1] * 100/x.count(), 2)], \n",
    "                  index = ['N', 'NMISS', 'MODE', 'FREQ', 'PERCENT'])"
   ]
  },
  {
   "cell_type": "code",
   "execution_count": 26,
   "metadata": {},
   "outputs": [],
   "source": [
    "dummy_var=[]\n",
    "def create_dummies( df, colname ):\n",
    "    col_dummies = pd.get_dummies(df[colname], prefix=colname, drop_first=True)\n",
    "    df = pd.concat([df, col_dummies], axis=1)\n",
    "    df.drop( colname, axis = 1, inplace = True )\n",
    "    for col1 in col_dummies:\n",
    "         dummy_var.append(col1)\n",
    "    return df\n"
   ]
  },
  {
   "cell_type": "markdown",
   "metadata": {},
   "source": [
    "### Numerical and categorical variables"
   ]
  },
  {
   "cell_type": "markdown",
   "metadata": {},
   "source": [
    "#### Train data"
   ]
  },
  {
   "cell_type": "code",
   "execution_count": 27,
   "metadata": {},
   "outputs": [
    {
     "name": "stdout",
     "output_type": "stream",
     "text": [
      "Numerical variables : \n",
      " \n",
      " ['DURATION', 'SRC_BYTES', 'DST_BYTES', 'LAND', 'WRONG_FRAGMENT', 'URGENT', 'HOT', 'NUM_FAILED_LOGINS', 'LOGGED_IN', 'NUM_COMPROMISED', 'ROOT_SHELL', 'SU_ATTEMPTED', 'NUM_ROOT', 'NUM_FILE_CREATIONS', 'NUM_SHELLS', 'NUM_ACCESS_FILES', 'NUM_OUTBOUND_CMDS', 'IS_HOST_LOGIN', 'IS_GUEST_LOGIN', 'COUNT', 'SRV_COUNT', 'SERROR_RATE', 'SRV_SERROR_RATE', 'RERROR_RATE', 'SRV_RERROR_RATE', 'SAME_SRV_RATE', 'DIFF_SRV_RATE', 'SRV_DIFF_HOST_RATE', 'DST_HOST_COUNT', 'DST_HOST_SRV_COUNT', 'DST_HOST_SAME_SRV_RATE', 'DST_HOST_DIFF_SRV_RATE', 'DST_HOST_SAME_SRC_PORT_RATE', 'DST_HOST_SRV_DIFF_HOST_RATE', 'DST_HOST_SERROR_RATE', 'DST_HOST_SRV_SERROR_RATE', 'DST_HOST_RERROR_RATE', 'DST_HOST_SRV_RERROR_RATE', 'LAST_FLAG'] \n",
      "\n",
      "Categorical variables : \n",
      " \n",
      " ['PROTOCOL_TYPE', 'SERVICE', 'FLAG', 'ATTACK'] \n",
      "\n",
      "Number of Numerical variables : \n",
      " \n",
      " 39 \n",
      "\n",
      "Number of Categorical variables : \n",
      " \n",
      " 4 \n",
      "\n"
     ]
    }
   ],
   "source": [
    "\n",
    "numerical_train=[key for key in dict(network_train.dtypes) if dict(network_train.dtypes)[key] in ['float64', 'int64', 'float32', 'int32']]\n",
    "categorical_train=[key for key in dict(network_train.dtypes) if dict(network_train.dtypes)[key] in ['object']]\n",
    "print(f\"Numerical variables : \\n \\n {numerical_train} \\n\")\n",
    "print(f\"Categorical variables : \\n \\n {categorical_train} \\n\")\n",
    "print(f\"Number of Numerical variables : \\n \\n {len(numerical_train)} \\n\")\n",
    "print(f\"Number of Categorical variables : \\n \\n {len(categorical_train)} \\n\")"
   ]
  },
  {
   "cell_type": "markdown",
   "metadata": {},
   "source": [
    "#### Test data"
   ]
  },
  {
   "cell_type": "code",
   "execution_count": 28,
   "metadata": {},
   "outputs": [
    {
     "name": "stdout",
     "output_type": "stream",
     "text": [
      "Numerical variables : \n",
      " \n",
      " ['DURATION', 'SRC_BYTES', 'DST_BYTES', 'LAND', 'WRONG_FRAGMENT', 'URGENT', 'HOT', 'NUM_FAILED_LOGINS', 'LOGGED_IN', 'NUM_COMPROMISED', 'ROOT_SHELL', 'SU_ATTEMPTED', 'NUM_ROOT', 'NUM_FILE_CREATIONS', 'NUM_SHELLS', 'NUM_ACCESS_FILES', 'NUM_OUTBOUND_CMDS', 'IS_HOST_LOGIN', 'IS_GUEST_LOGIN', 'COUNT', 'SRV_COUNT', 'SERROR_RATE', 'SRV_SERROR_RATE', 'RERROR_RATE', 'SRV_RERROR_RATE', 'SAME_SRV_RATE', 'DIFF_SRV_RATE', 'SRV_DIFF_HOST_RATE', 'DST_HOST_COUNT', 'DST_HOST_SRV_COUNT', 'DST_HOST_SAME_SRV_RATE', 'DST_HOST_DIFF_SRV_RATE', 'DST_HOST_SAME_SRC_PORT_RATE', 'DST_HOST_SRV_DIFF_HOST_RATE', 'DST_HOST_SERROR_RATE', 'DST_HOST_SRV_SERROR_RATE', 'DST_HOST_RERROR_RATE', 'DST_HOST_SRV_RERROR_RATE', 'LAST_FLAG'] \n",
      "\n",
      "Categorical variables : \n",
      " \n",
      " ['PROTOCOL_TYPE', 'SERVICE', 'FLAG', 'ATTACK'] \n",
      "\n"
     ]
    }
   ],
   "source": [
    "\n",
    "numerical_test=[key for key in dict(network_test.dtypes) if dict(network_test.dtypes)[key] in ['float64', 'int64', 'float32', 'int32']]\n",
    "categorical_test=[key for key in dict(network_test.dtypes) if dict(network_test.dtypes)[key] in ['object']]\n",
    "print(f\"Numerical variables : \\n \\n {numerical_test} \\n\")\n",
    "print(f\"Categorical variables : \\n \\n {categorical_test} \\n\")"
   ]
  },
  {
   "cell_type": "code",
   "execution_count": null,
   "metadata": {},
   "outputs": [],
   "source": []
  },
  {
   "cell_type": "markdown",
   "metadata": {},
   "source": [
    "### Creation of dummy variables"
   ]
  },
  {
   "cell_type": "markdown",
   "metadata": {},
   "source": [
    "#### Train data"
   ]
  },
  {
   "cell_type": "code",
   "execution_count": 29,
   "metadata": {},
   "outputs": [
    {
     "data": {
      "text/plain": [
       "(125973, 43)"
      ]
     },
     "execution_count": 29,
     "metadata": {},
     "output_type": "execute_result"
    }
   ],
   "source": [
    "network_train.shape"
   ]
  },
  {
   "cell_type": "code",
   "execution_count": 30,
   "metadata": {},
   "outputs": [],
   "source": [
    "for col in ['PROTOCOL_TYPE','SERVICE','FLAG']:\n",
    "    network_train = create_dummies(network_train , col )"
   ]
  },
  {
   "cell_type": "code",
   "execution_count": 31,
   "metadata": {},
   "outputs": [
    {
     "data": {
      "text/plain": [
       "(125973, 121)"
      ]
     },
     "execution_count": 31,
     "metadata": {},
     "output_type": "execute_result"
    }
   ],
   "source": [
    "network_train.shape"
   ]
  },
  {
   "cell_type": "code",
   "execution_count": 32,
   "metadata": {},
   "outputs": [
    {
     "data": {
      "text/html": [
       "<div>\n",
       "<style scoped>\n",
       "    .dataframe tbody tr th:only-of-type {\n",
       "        vertical-align: middle;\n",
       "    }\n",
       "\n",
       "    .dataframe tbody tr th {\n",
       "        vertical-align: top;\n",
       "    }\n",
       "\n",
       "    .dataframe thead th {\n",
       "        text-align: right;\n",
       "    }\n",
       "</style>\n",
       "<table border=\"1\" class=\"dataframe\">\n",
       "  <thead>\n",
       "    <tr style=\"text-align: right;\">\n",
       "      <th></th>\n",
       "      <th>DURATION</th>\n",
       "      <th>SRC_BYTES</th>\n",
       "      <th>DST_BYTES</th>\n",
       "      <th>LAND</th>\n",
       "      <th>WRONG_FRAGMENT</th>\n",
       "      <th>URGENT</th>\n",
       "      <th>HOT</th>\n",
       "      <th>NUM_FAILED_LOGINS</th>\n",
       "      <th>LOGGED_IN</th>\n",
       "      <th>NUM_COMPROMISED</th>\n",
       "      <th>ROOT_SHELL</th>\n",
       "      <th>SU_ATTEMPTED</th>\n",
       "      <th>NUM_ROOT</th>\n",
       "      <th>NUM_FILE_CREATIONS</th>\n",
       "      <th>NUM_SHELLS</th>\n",
       "      <th>NUM_ACCESS_FILES</th>\n",
       "      <th>NUM_OUTBOUND_CMDS</th>\n",
       "      <th>IS_HOST_LOGIN</th>\n",
       "      <th>IS_GUEST_LOGIN</th>\n",
       "      <th>COUNT</th>\n",
       "      <th>SRV_COUNT</th>\n",
       "      <th>SERROR_RATE</th>\n",
       "      <th>SRV_SERROR_RATE</th>\n",
       "      <th>RERROR_RATE</th>\n",
       "      <th>SRV_RERROR_RATE</th>\n",
       "      <th>SAME_SRV_RATE</th>\n",
       "      <th>DIFF_SRV_RATE</th>\n",
       "      <th>SRV_DIFF_HOST_RATE</th>\n",
       "      <th>DST_HOST_COUNT</th>\n",
       "      <th>DST_HOST_SRV_COUNT</th>\n",
       "      <th>DST_HOST_SAME_SRV_RATE</th>\n",
       "      <th>DST_HOST_DIFF_SRV_RATE</th>\n",
       "      <th>DST_HOST_SAME_SRC_PORT_RATE</th>\n",
       "      <th>DST_HOST_SRV_DIFF_HOST_RATE</th>\n",
       "      <th>DST_HOST_SERROR_RATE</th>\n",
       "      <th>DST_HOST_SRV_SERROR_RATE</th>\n",
       "      <th>DST_HOST_RERROR_RATE</th>\n",
       "      <th>DST_HOST_SRV_RERROR_RATE</th>\n",
       "      <th>ATTACK</th>\n",
       "      <th>LAST_FLAG</th>\n",
       "      <th>PROTOCOL_TYPE_tcp</th>\n",
       "      <th>PROTOCOL_TYPE_udp</th>\n",
       "      <th>SERVICE_X11</th>\n",
       "      <th>SERVICE_Z39_50</th>\n",
       "      <th>SERVICE_aol</th>\n",
       "      <th>SERVICE_auth</th>\n",
       "      <th>SERVICE_bgp</th>\n",
       "      <th>SERVICE_courier</th>\n",
       "      <th>SERVICE_csnet_ns</th>\n",
       "      <th>SERVICE_ctf</th>\n",
       "      <th>SERVICE_daytime</th>\n",
       "      <th>SERVICE_discard</th>\n",
       "      <th>SERVICE_domain</th>\n",
       "      <th>SERVICE_domain_u</th>\n",
       "      <th>SERVICE_echo</th>\n",
       "      <th>SERVICE_eco_i</th>\n",
       "      <th>SERVICE_ecr_i</th>\n",
       "      <th>SERVICE_efs</th>\n",
       "      <th>SERVICE_exec</th>\n",
       "      <th>SERVICE_finger</th>\n",
       "      <th>SERVICE_ftp</th>\n",
       "      <th>SERVICE_ftp_data</th>\n",
       "      <th>SERVICE_gopher</th>\n",
       "      <th>SERVICE_harvest</th>\n",
       "      <th>SERVICE_hostnames</th>\n",
       "      <th>SERVICE_http</th>\n",
       "      <th>SERVICE_http_2784</th>\n",
       "      <th>SERVICE_http_443</th>\n",
       "      <th>SERVICE_http_8001</th>\n",
       "      <th>SERVICE_imap4</th>\n",
       "      <th>SERVICE_iso_tsap</th>\n",
       "      <th>SERVICE_klogin</th>\n",
       "      <th>SERVICE_kshell</th>\n",
       "      <th>SERVICE_ldap</th>\n",
       "      <th>SERVICE_link</th>\n",
       "      <th>SERVICE_login</th>\n",
       "      <th>SERVICE_mtp</th>\n",
       "      <th>SERVICE_name</th>\n",
       "      <th>SERVICE_netbios_dgm</th>\n",
       "      <th>SERVICE_netbios_ns</th>\n",
       "      <th>SERVICE_netbios_ssn</th>\n",
       "      <th>SERVICE_netstat</th>\n",
       "      <th>SERVICE_nnsp</th>\n",
       "      <th>SERVICE_nntp</th>\n",
       "      <th>SERVICE_ntp_u</th>\n",
       "      <th>SERVICE_other</th>\n",
       "      <th>SERVICE_pm_dump</th>\n",
       "      <th>SERVICE_pop_2</th>\n",
       "      <th>SERVICE_pop_3</th>\n",
       "      <th>SERVICE_printer</th>\n",
       "      <th>SERVICE_private</th>\n",
       "      <th>SERVICE_red_i</th>\n",
       "      <th>SERVICE_remote_job</th>\n",
       "      <th>SERVICE_rje</th>\n",
       "      <th>SERVICE_shell</th>\n",
       "      <th>SERVICE_smtp</th>\n",
       "      <th>SERVICE_sql_net</th>\n",
       "      <th>SERVICE_ssh</th>\n",
       "      <th>SERVICE_sunrpc</th>\n",
       "      <th>SERVICE_supdup</th>\n",
       "      <th>SERVICE_systat</th>\n",
       "      <th>SERVICE_telnet</th>\n",
       "      <th>SERVICE_tftp_u</th>\n",
       "      <th>SERVICE_tim_i</th>\n",
       "      <th>SERVICE_time</th>\n",
       "      <th>SERVICE_urh_i</th>\n",
       "      <th>SERVICE_urp_i</th>\n",
       "      <th>SERVICE_uucp</th>\n",
       "      <th>SERVICE_uucp_path</th>\n",
       "      <th>SERVICE_vmnet</th>\n",
       "      <th>SERVICE_whois</th>\n",
       "      <th>FLAG_REJ</th>\n",
       "      <th>FLAG_RSTO</th>\n",
       "      <th>FLAG_RSTOS0</th>\n",
       "      <th>FLAG_RSTR</th>\n",
       "      <th>FLAG_S0</th>\n",
       "      <th>FLAG_S1</th>\n",
       "      <th>FLAG_S2</th>\n",
       "      <th>FLAG_S3</th>\n",
       "      <th>FLAG_SF</th>\n",
       "      <th>FLAG_SH</th>\n",
       "    </tr>\n",
       "  </thead>\n",
       "  <tbody>\n",
       "    <tr>\n",
       "      <td>0</td>\n",
       "      <td>0</td>\n",
       "      <td>491</td>\n",
       "      <td>0</td>\n",
       "      <td>0</td>\n",
       "      <td>0</td>\n",
       "      <td>0</td>\n",
       "      <td>0</td>\n",
       "      <td>0</td>\n",
       "      <td>0</td>\n",
       "      <td>0</td>\n",
       "      <td>0</td>\n",
       "      <td>0</td>\n",
       "      <td>0</td>\n",
       "      <td>0</td>\n",
       "      <td>0</td>\n",
       "      <td>0</td>\n",
       "      <td>0</td>\n",
       "      <td>0</td>\n",
       "      <td>0</td>\n",
       "      <td>2</td>\n",
       "      <td>2</td>\n",
       "      <td>0.000</td>\n",
       "      <td>0.000</td>\n",
       "      <td>0.000</td>\n",
       "      <td>0.000</td>\n",
       "      <td>1.000</td>\n",
       "      <td>0.000</td>\n",
       "      <td>0.000</td>\n",
       "      <td>150</td>\n",
       "      <td>25</td>\n",
       "      <td>0.170</td>\n",
       "      <td>0.030</td>\n",
       "      <td>0.170</td>\n",
       "      <td>0.000</td>\n",
       "      <td>0.000</td>\n",
       "      <td>0.000</td>\n",
       "      <td>0.050</td>\n",
       "      <td>0.000</td>\n",
       "      <td>normal</td>\n",
       "      <td>20</td>\n",
       "      <td>1</td>\n",
       "      <td>0</td>\n",
       "      <td>0</td>\n",
       "      <td>0</td>\n",
       "      <td>0</td>\n",
       "      <td>0</td>\n",
       "      <td>0</td>\n",
       "      <td>0</td>\n",
       "      <td>0</td>\n",
       "      <td>0</td>\n",
       "      <td>0</td>\n",
       "      <td>0</td>\n",
       "      <td>0</td>\n",
       "      <td>0</td>\n",
       "      <td>0</td>\n",
       "      <td>0</td>\n",
       "      <td>0</td>\n",
       "      <td>0</td>\n",
       "      <td>0</td>\n",
       "      <td>0</td>\n",
       "      <td>0</td>\n",
       "      <td>1</td>\n",
       "      <td>0</td>\n",
       "      <td>0</td>\n",
       "      <td>0</td>\n",
       "      <td>0</td>\n",
       "      <td>0</td>\n",
       "      <td>0</td>\n",
       "      <td>0</td>\n",
       "      <td>0</td>\n",
       "      <td>0</td>\n",
       "      <td>0</td>\n",
       "      <td>0</td>\n",
       "      <td>0</td>\n",
       "      <td>0</td>\n",
       "      <td>0</td>\n",
       "      <td>0</td>\n",
       "      <td>0</td>\n",
       "      <td>0</td>\n",
       "      <td>0</td>\n",
       "      <td>0</td>\n",
       "      <td>0</td>\n",
       "      <td>0</td>\n",
       "      <td>0</td>\n",
       "      <td>0</td>\n",
       "      <td>0</td>\n",
       "      <td>0</td>\n",
       "      <td>0</td>\n",
       "      <td>0</td>\n",
       "      <td>0</td>\n",
       "      <td>0</td>\n",
       "      <td>0</td>\n",
       "      <td>0</td>\n",
       "      <td>0</td>\n",
       "      <td>0</td>\n",
       "      <td>0</td>\n",
       "      <td>0</td>\n",
       "      <td>0</td>\n",
       "      <td>0</td>\n",
       "      <td>0</td>\n",
       "      <td>0</td>\n",
       "      <td>0</td>\n",
       "      <td>0</td>\n",
       "      <td>0</td>\n",
       "      <td>0</td>\n",
       "      <td>0</td>\n",
       "      <td>0</td>\n",
       "      <td>0</td>\n",
       "      <td>0</td>\n",
       "      <td>0</td>\n",
       "      <td>0</td>\n",
       "      <td>0</td>\n",
       "      <td>0</td>\n",
       "      <td>0</td>\n",
       "      <td>0</td>\n",
       "      <td>0</td>\n",
       "      <td>0</td>\n",
       "      <td>0</td>\n",
       "      <td>0</td>\n",
       "      <td>1</td>\n",
       "      <td>0</td>\n",
       "    </tr>\n",
       "    <tr>\n",
       "      <td>1</td>\n",
       "      <td>0</td>\n",
       "      <td>146</td>\n",
       "      <td>0</td>\n",
       "      <td>0</td>\n",
       "      <td>0</td>\n",
       "      <td>0</td>\n",
       "      <td>0</td>\n",
       "      <td>0</td>\n",
       "      <td>0</td>\n",
       "      <td>0</td>\n",
       "      <td>0</td>\n",
       "      <td>0</td>\n",
       "      <td>0</td>\n",
       "      <td>0</td>\n",
       "      <td>0</td>\n",
       "      <td>0</td>\n",
       "      <td>0</td>\n",
       "      <td>0</td>\n",
       "      <td>0</td>\n",
       "      <td>13</td>\n",
       "      <td>1</td>\n",
       "      <td>0.000</td>\n",
       "      <td>0.000</td>\n",
       "      <td>0.000</td>\n",
       "      <td>0.000</td>\n",
       "      <td>0.080</td>\n",
       "      <td>0.150</td>\n",
       "      <td>0.000</td>\n",
       "      <td>255</td>\n",
       "      <td>1</td>\n",
       "      <td>0.000</td>\n",
       "      <td>0.600</td>\n",
       "      <td>0.880</td>\n",
       "      <td>0.000</td>\n",
       "      <td>0.000</td>\n",
       "      <td>0.000</td>\n",
       "      <td>0.000</td>\n",
       "      <td>0.000</td>\n",
       "      <td>normal</td>\n",
       "      <td>15</td>\n",
       "      <td>0</td>\n",
       "      <td>1</td>\n",
       "      <td>0</td>\n",
       "      <td>0</td>\n",
       "      <td>0</td>\n",
       "      <td>0</td>\n",
       "      <td>0</td>\n",
       "      <td>0</td>\n",
       "      <td>0</td>\n",
       "      <td>0</td>\n",
       "      <td>0</td>\n",
       "      <td>0</td>\n",
       "      <td>0</td>\n",
       "      <td>0</td>\n",
       "      <td>0</td>\n",
       "      <td>0</td>\n",
       "      <td>0</td>\n",
       "      <td>0</td>\n",
       "      <td>0</td>\n",
       "      <td>0</td>\n",
       "      <td>0</td>\n",
       "      <td>0</td>\n",
       "      <td>0</td>\n",
       "      <td>0</td>\n",
       "      <td>0</td>\n",
       "      <td>0</td>\n",
       "      <td>0</td>\n",
       "      <td>0</td>\n",
       "      <td>0</td>\n",
       "      <td>0</td>\n",
       "      <td>0</td>\n",
       "      <td>0</td>\n",
       "      <td>0</td>\n",
       "      <td>0</td>\n",
       "      <td>0</td>\n",
       "      <td>0</td>\n",
       "      <td>0</td>\n",
       "      <td>0</td>\n",
       "      <td>0</td>\n",
       "      <td>0</td>\n",
       "      <td>0</td>\n",
       "      <td>0</td>\n",
       "      <td>0</td>\n",
       "      <td>0</td>\n",
       "      <td>0</td>\n",
       "      <td>1</td>\n",
       "      <td>0</td>\n",
       "      <td>0</td>\n",
       "      <td>0</td>\n",
       "      <td>0</td>\n",
       "      <td>0</td>\n",
       "      <td>0</td>\n",
       "      <td>0</td>\n",
       "      <td>0</td>\n",
       "      <td>0</td>\n",
       "      <td>0</td>\n",
       "      <td>0</td>\n",
       "      <td>0</td>\n",
       "      <td>0</td>\n",
       "      <td>0</td>\n",
       "      <td>0</td>\n",
       "      <td>0</td>\n",
       "      <td>0</td>\n",
       "      <td>0</td>\n",
       "      <td>0</td>\n",
       "      <td>0</td>\n",
       "      <td>0</td>\n",
       "      <td>0</td>\n",
       "      <td>0</td>\n",
       "      <td>0</td>\n",
       "      <td>0</td>\n",
       "      <td>0</td>\n",
       "      <td>0</td>\n",
       "      <td>0</td>\n",
       "      <td>0</td>\n",
       "      <td>0</td>\n",
       "      <td>0</td>\n",
       "      <td>0</td>\n",
       "      <td>0</td>\n",
       "      <td>1</td>\n",
       "      <td>0</td>\n",
       "    </tr>\n",
       "    <tr>\n",
       "      <td>2</td>\n",
       "      <td>0</td>\n",
       "      <td>0</td>\n",
       "      <td>0</td>\n",
       "      <td>0</td>\n",
       "      <td>0</td>\n",
       "      <td>0</td>\n",
       "      <td>0</td>\n",
       "      <td>0</td>\n",
       "      <td>0</td>\n",
       "      <td>0</td>\n",
       "      <td>0</td>\n",
       "      <td>0</td>\n",
       "      <td>0</td>\n",
       "      <td>0</td>\n",
       "      <td>0</td>\n",
       "      <td>0</td>\n",
       "      <td>0</td>\n",
       "      <td>0</td>\n",
       "      <td>0</td>\n",
       "      <td>123</td>\n",
       "      <td>6</td>\n",
       "      <td>1.000</td>\n",
       "      <td>1.000</td>\n",
       "      <td>0.000</td>\n",
       "      <td>0.000</td>\n",
       "      <td>0.050</td>\n",
       "      <td>0.070</td>\n",
       "      <td>0.000</td>\n",
       "      <td>255</td>\n",
       "      <td>26</td>\n",
       "      <td>0.100</td>\n",
       "      <td>0.050</td>\n",
       "      <td>0.000</td>\n",
       "      <td>0.000</td>\n",
       "      <td>1.000</td>\n",
       "      <td>1.000</td>\n",
       "      <td>0.000</td>\n",
       "      <td>0.000</td>\n",
       "      <td>neptune</td>\n",
       "      <td>19</td>\n",
       "      <td>1</td>\n",
       "      <td>0</td>\n",
       "      <td>0</td>\n",
       "      <td>0</td>\n",
       "      <td>0</td>\n",
       "      <td>0</td>\n",
       "      <td>0</td>\n",
       "      <td>0</td>\n",
       "      <td>0</td>\n",
       "      <td>0</td>\n",
       "      <td>0</td>\n",
       "      <td>0</td>\n",
       "      <td>0</td>\n",
       "      <td>0</td>\n",
       "      <td>0</td>\n",
       "      <td>0</td>\n",
       "      <td>0</td>\n",
       "      <td>0</td>\n",
       "      <td>0</td>\n",
       "      <td>0</td>\n",
       "      <td>0</td>\n",
       "      <td>0</td>\n",
       "      <td>0</td>\n",
       "      <td>0</td>\n",
       "      <td>0</td>\n",
       "      <td>0</td>\n",
       "      <td>0</td>\n",
       "      <td>0</td>\n",
       "      <td>0</td>\n",
       "      <td>0</td>\n",
       "      <td>0</td>\n",
       "      <td>0</td>\n",
       "      <td>0</td>\n",
       "      <td>0</td>\n",
       "      <td>0</td>\n",
       "      <td>0</td>\n",
       "      <td>0</td>\n",
       "      <td>0</td>\n",
       "      <td>0</td>\n",
       "      <td>0</td>\n",
       "      <td>0</td>\n",
       "      <td>0</td>\n",
       "      <td>0</td>\n",
       "      <td>0</td>\n",
       "      <td>0</td>\n",
       "      <td>0</td>\n",
       "      <td>0</td>\n",
       "      <td>0</td>\n",
       "      <td>0</td>\n",
       "      <td>0</td>\n",
       "      <td>1</td>\n",
       "      <td>0</td>\n",
       "      <td>0</td>\n",
       "      <td>0</td>\n",
       "      <td>0</td>\n",
       "      <td>0</td>\n",
       "      <td>0</td>\n",
       "      <td>0</td>\n",
       "      <td>0</td>\n",
       "      <td>0</td>\n",
       "      <td>0</td>\n",
       "      <td>0</td>\n",
       "      <td>0</td>\n",
       "      <td>0</td>\n",
       "      <td>0</td>\n",
       "      <td>0</td>\n",
       "      <td>0</td>\n",
       "      <td>0</td>\n",
       "      <td>0</td>\n",
       "      <td>0</td>\n",
       "      <td>0</td>\n",
       "      <td>0</td>\n",
       "      <td>0</td>\n",
       "      <td>0</td>\n",
       "      <td>0</td>\n",
       "      <td>1</td>\n",
       "      <td>0</td>\n",
       "      <td>0</td>\n",
       "      <td>0</td>\n",
       "      <td>0</td>\n",
       "      <td>0</td>\n",
       "    </tr>\n",
       "    <tr>\n",
       "      <td>3</td>\n",
       "      <td>0</td>\n",
       "      <td>232</td>\n",
       "      <td>8153</td>\n",
       "      <td>0</td>\n",
       "      <td>0</td>\n",
       "      <td>0</td>\n",
       "      <td>0</td>\n",
       "      <td>0</td>\n",
       "      <td>1</td>\n",
       "      <td>0</td>\n",
       "      <td>0</td>\n",
       "      <td>0</td>\n",
       "      <td>0</td>\n",
       "      <td>0</td>\n",
       "      <td>0</td>\n",
       "      <td>0</td>\n",
       "      <td>0</td>\n",
       "      <td>0</td>\n",
       "      <td>0</td>\n",
       "      <td>5</td>\n",
       "      <td>5</td>\n",
       "      <td>0.200</td>\n",
       "      <td>0.200</td>\n",
       "      <td>0.000</td>\n",
       "      <td>0.000</td>\n",
       "      <td>1.000</td>\n",
       "      <td>0.000</td>\n",
       "      <td>0.000</td>\n",
       "      <td>30</td>\n",
       "      <td>255</td>\n",
       "      <td>1.000</td>\n",
       "      <td>0.000</td>\n",
       "      <td>0.030</td>\n",
       "      <td>0.040</td>\n",
       "      <td>0.030</td>\n",
       "      <td>0.010</td>\n",
       "      <td>0.000</td>\n",
       "      <td>0.010</td>\n",
       "      <td>normal</td>\n",
       "      <td>21</td>\n",
       "      <td>1</td>\n",
       "      <td>0</td>\n",
       "      <td>0</td>\n",
       "      <td>0</td>\n",
       "      <td>0</td>\n",
       "      <td>0</td>\n",
       "      <td>0</td>\n",
       "      <td>0</td>\n",
       "      <td>0</td>\n",
       "      <td>0</td>\n",
       "      <td>0</td>\n",
       "      <td>0</td>\n",
       "      <td>0</td>\n",
       "      <td>0</td>\n",
       "      <td>0</td>\n",
       "      <td>0</td>\n",
       "      <td>0</td>\n",
       "      <td>0</td>\n",
       "      <td>0</td>\n",
       "      <td>0</td>\n",
       "      <td>0</td>\n",
       "      <td>0</td>\n",
       "      <td>0</td>\n",
       "      <td>0</td>\n",
       "      <td>0</td>\n",
       "      <td>1</td>\n",
       "      <td>0</td>\n",
       "      <td>0</td>\n",
       "      <td>0</td>\n",
       "      <td>0</td>\n",
       "      <td>0</td>\n",
       "      <td>0</td>\n",
       "      <td>0</td>\n",
       "      <td>0</td>\n",
       "      <td>0</td>\n",
       "      <td>0</td>\n",
       "      <td>0</td>\n",
       "      <td>0</td>\n",
       "      <td>0</td>\n",
       "      <td>0</td>\n",
       "      <td>0</td>\n",
       "      <td>0</td>\n",
       "      <td>0</td>\n",
       "      <td>0</td>\n",
       "      <td>0</td>\n",
       "      <td>0</td>\n",
       "      <td>0</td>\n",
       "      <td>0</td>\n",
       "      <td>0</td>\n",
       "      <td>0</td>\n",
       "      <td>0</td>\n",
       "      <td>0</td>\n",
       "      <td>0</td>\n",
       "      <td>0</td>\n",
       "      <td>0</td>\n",
       "      <td>0</td>\n",
       "      <td>0</td>\n",
       "      <td>0</td>\n",
       "      <td>0</td>\n",
       "      <td>0</td>\n",
       "      <td>0</td>\n",
       "      <td>0</td>\n",
       "      <td>0</td>\n",
       "      <td>0</td>\n",
       "      <td>0</td>\n",
       "      <td>0</td>\n",
       "      <td>0</td>\n",
       "      <td>0</td>\n",
       "      <td>0</td>\n",
       "      <td>0</td>\n",
       "      <td>0</td>\n",
       "      <td>0</td>\n",
       "      <td>0</td>\n",
       "      <td>0</td>\n",
       "      <td>0</td>\n",
       "      <td>0</td>\n",
       "      <td>0</td>\n",
       "      <td>0</td>\n",
       "      <td>0</td>\n",
       "      <td>1</td>\n",
       "      <td>0</td>\n",
       "    </tr>\n",
       "    <tr>\n",
       "      <td>4</td>\n",
       "      <td>0</td>\n",
       "      <td>199</td>\n",
       "      <td>420</td>\n",
       "      <td>0</td>\n",
       "      <td>0</td>\n",
       "      <td>0</td>\n",
       "      <td>0</td>\n",
       "      <td>0</td>\n",
       "      <td>1</td>\n",
       "      <td>0</td>\n",
       "      <td>0</td>\n",
       "      <td>0</td>\n",
       "      <td>0</td>\n",
       "      <td>0</td>\n",
       "      <td>0</td>\n",
       "      <td>0</td>\n",
       "      <td>0</td>\n",
       "      <td>0</td>\n",
       "      <td>0</td>\n",
       "      <td>30</td>\n",
       "      <td>32</td>\n",
       "      <td>0.000</td>\n",
       "      <td>0.000</td>\n",
       "      <td>0.000</td>\n",
       "      <td>0.000</td>\n",
       "      <td>1.000</td>\n",
       "      <td>0.000</td>\n",
       "      <td>0.090</td>\n",
       "      <td>255</td>\n",
       "      <td>255</td>\n",
       "      <td>1.000</td>\n",
       "      <td>0.000</td>\n",
       "      <td>0.000</td>\n",
       "      <td>0.000</td>\n",
       "      <td>0.000</td>\n",
       "      <td>0.000</td>\n",
       "      <td>0.000</td>\n",
       "      <td>0.000</td>\n",
       "      <td>normal</td>\n",
       "      <td>21</td>\n",
       "      <td>1</td>\n",
       "      <td>0</td>\n",
       "      <td>0</td>\n",
       "      <td>0</td>\n",
       "      <td>0</td>\n",
       "      <td>0</td>\n",
       "      <td>0</td>\n",
       "      <td>0</td>\n",
       "      <td>0</td>\n",
       "      <td>0</td>\n",
       "      <td>0</td>\n",
       "      <td>0</td>\n",
       "      <td>0</td>\n",
       "      <td>0</td>\n",
       "      <td>0</td>\n",
       "      <td>0</td>\n",
       "      <td>0</td>\n",
       "      <td>0</td>\n",
       "      <td>0</td>\n",
       "      <td>0</td>\n",
       "      <td>0</td>\n",
       "      <td>0</td>\n",
       "      <td>0</td>\n",
       "      <td>0</td>\n",
       "      <td>0</td>\n",
       "      <td>1</td>\n",
       "      <td>0</td>\n",
       "      <td>0</td>\n",
       "      <td>0</td>\n",
       "      <td>0</td>\n",
       "      <td>0</td>\n",
       "      <td>0</td>\n",
       "      <td>0</td>\n",
       "      <td>0</td>\n",
       "      <td>0</td>\n",
       "      <td>0</td>\n",
       "      <td>0</td>\n",
       "      <td>0</td>\n",
       "      <td>0</td>\n",
       "      <td>0</td>\n",
       "      <td>0</td>\n",
       "      <td>0</td>\n",
       "      <td>0</td>\n",
       "      <td>0</td>\n",
       "      <td>0</td>\n",
       "      <td>0</td>\n",
       "      <td>0</td>\n",
       "      <td>0</td>\n",
       "      <td>0</td>\n",
       "      <td>0</td>\n",
       "      <td>0</td>\n",
       "      <td>0</td>\n",
       "      <td>0</td>\n",
       "      <td>0</td>\n",
       "      <td>0</td>\n",
       "      <td>0</td>\n",
       "      <td>0</td>\n",
       "      <td>0</td>\n",
       "      <td>0</td>\n",
       "      <td>0</td>\n",
       "      <td>0</td>\n",
       "      <td>0</td>\n",
       "      <td>0</td>\n",
       "      <td>0</td>\n",
       "      <td>0</td>\n",
       "      <td>0</td>\n",
       "      <td>0</td>\n",
       "      <td>0</td>\n",
       "      <td>0</td>\n",
       "      <td>0</td>\n",
       "      <td>0</td>\n",
       "      <td>0</td>\n",
       "      <td>0</td>\n",
       "      <td>0</td>\n",
       "      <td>0</td>\n",
       "      <td>0</td>\n",
       "      <td>0</td>\n",
       "      <td>0</td>\n",
       "      <td>0</td>\n",
       "      <td>1</td>\n",
       "      <td>0</td>\n",
       "    </tr>\n",
       "  </tbody>\n",
       "</table>\n",
       "</div>"
      ],
      "text/plain": [
       "   DURATION  SRC_BYTES  DST_BYTES  LAND  WRONG_FRAGMENT  URGENT  HOT  \\\n",
       "0         0        491          0     0               0       0    0   \n",
       "1         0        146          0     0               0       0    0   \n",
       "2         0          0          0     0               0       0    0   \n",
       "3         0        232       8153     0               0       0    0   \n",
       "4         0        199        420     0               0       0    0   \n",
       "\n",
       "   NUM_FAILED_LOGINS  LOGGED_IN  NUM_COMPROMISED  ROOT_SHELL  SU_ATTEMPTED  \\\n",
       "0                  0          0                0           0             0   \n",
       "1                  0          0                0           0             0   \n",
       "2                  0          0                0           0             0   \n",
       "3                  0          1                0           0             0   \n",
       "4                  0          1                0           0             0   \n",
       "\n",
       "   NUM_ROOT  NUM_FILE_CREATIONS  NUM_SHELLS  NUM_ACCESS_FILES  \\\n",
       "0         0                   0           0                 0   \n",
       "1         0                   0           0                 0   \n",
       "2         0                   0           0                 0   \n",
       "3         0                   0           0                 0   \n",
       "4         0                   0           0                 0   \n",
       "\n",
       "   NUM_OUTBOUND_CMDS  IS_HOST_LOGIN  IS_GUEST_LOGIN  COUNT  SRV_COUNT  \\\n",
       "0                  0              0               0      2          2   \n",
       "1                  0              0               0     13          1   \n",
       "2                  0              0               0    123          6   \n",
       "3                  0              0               0      5          5   \n",
       "4                  0              0               0     30         32   \n",
       "\n",
       "   SERROR_RATE  SRV_SERROR_RATE  RERROR_RATE  SRV_RERROR_RATE  SAME_SRV_RATE  \\\n",
       "0        0.000            0.000        0.000            0.000          1.000   \n",
       "1        0.000            0.000        0.000            0.000          0.080   \n",
       "2        1.000            1.000        0.000            0.000          0.050   \n",
       "3        0.200            0.200        0.000            0.000          1.000   \n",
       "4        0.000            0.000        0.000            0.000          1.000   \n",
       "\n",
       "   DIFF_SRV_RATE  SRV_DIFF_HOST_RATE  DST_HOST_COUNT  DST_HOST_SRV_COUNT  \\\n",
       "0          0.000               0.000             150                  25   \n",
       "1          0.150               0.000             255                   1   \n",
       "2          0.070               0.000             255                  26   \n",
       "3          0.000               0.000              30                 255   \n",
       "4          0.000               0.090             255                 255   \n",
       "\n",
       "   DST_HOST_SAME_SRV_RATE  DST_HOST_DIFF_SRV_RATE  \\\n",
       "0                   0.170                   0.030   \n",
       "1                   0.000                   0.600   \n",
       "2                   0.100                   0.050   \n",
       "3                   1.000                   0.000   \n",
       "4                   1.000                   0.000   \n",
       "\n",
       "   DST_HOST_SAME_SRC_PORT_RATE  DST_HOST_SRV_DIFF_HOST_RATE  \\\n",
       "0                        0.170                        0.000   \n",
       "1                        0.880                        0.000   \n",
       "2                        0.000                        0.000   \n",
       "3                        0.030                        0.040   \n",
       "4                        0.000                        0.000   \n",
       "\n",
       "   DST_HOST_SERROR_RATE  DST_HOST_SRV_SERROR_RATE  DST_HOST_RERROR_RATE  \\\n",
       "0                 0.000                     0.000                 0.050   \n",
       "1                 0.000                     0.000                 0.000   \n",
       "2                 1.000                     1.000                 0.000   \n",
       "3                 0.030                     0.010                 0.000   \n",
       "4                 0.000                     0.000                 0.000   \n",
       "\n",
       "   DST_HOST_SRV_RERROR_RATE   ATTACK  LAST_FLAG  PROTOCOL_TYPE_tcp  \\\n",
       "0                     0.000   normal         20                  1   \n",
       "1                     0.000   normal         15                  0   \n",
       "2                     0.000  neptune         19                  1   \n",
       "3                     0.010   normal         21                  1   \n",
       "4                     0.000   normal         21                  1   \n",
       "\n",
       "   PROTOCOL_TYPE_udp  SERVICE_X11  SERVICE_Z39_50  SERVICE_aol  SERVICE_auth  \\\n",
       "0                  0            0               0            0             0   \n",
       "1                  1            0               0            0             0   \n",
       "2                  0            0               0            0             0   \n",
       "3                  0            0               0            0             0   \n",
       "4                  0            0               0            0             0   \n",
       "\n",
       "   SERVICE_bgp  SERVICE_courier  SERVICE_csnet_ns  SERVICE_ctf  \\\n",
       "0            0                0                 0            0   \n",
       "1            0                0                 0            0   \n",
       "2            0                0                 0            0   \n",
       "3            0                0                 0            0   \n",
       "4            0                0                 0            0   \n",
       "\n",
       "   SERVICE_daytime  SERVICE_discard  SERVICE_domain  SERVICE_domain_u  \\\n",
       "0                0                0               0                 0   \n",
       "1                0                0               0                 0   \n",
       "2                0                0               0                 0   \n",
       "3                0                0               0                 0   \n",
       "4                0                0               0                 0   \n",
       "\n",
       "   SERVICE_echo  SERVICE_eco_i  SERVICE_ecr_i  SERVICE_efs  SERVICE_exec  \\\n",
       "0             0              0              0            0             0   \n",
       "1             0              0              0            0             0   \n",
       "2             0              0              0            0             0   \n",
       "3             0              0              0            0             0   \n",
       "4             0              0              0            0             0   \n",
       "\n",
       "   SERVICE_finger  SERVICE_ftp  SERVICE_ftp_data  SERVICE_gopher  \\\n",
       "0               0            0                 1               0   \n",
       "1               0            0                 0               0   \n",
       "2               0            0                 0               0   \n",
       "3               0            0                 0               0   \n",
       "4               0            0                 0               0   \n",
       "\n",
       "   SERVICE_harvest  SERVICE_hostnames  SERVICE_http  SERVICE_http_2784  \\\n",
       "0                0                  0             0                  0   \n",
       "1                0                  0             0                  0   \n",
       "2                0                  0             0                  0   \n",
       "3                0                  0             1                  0   \n",
       "4                0                  0             1                  0   \n",
       "\n",
       "   SERVICE_http_443  SERVICE_http_8001  SERVICE_imap4  SERVICE_iso_tsap  \\\n",
       "0                 0                  0              0                 0   \n",
       "1                 0                  0              0                 0   \n",
       "2                 0                  0              0                 0   \n",
       "3                 0                  0              0                 0   \n",
       "4                 0                  0              0                 0   \n",
       "\n",
       "   SERVICE_klogin  SERVICE_kshell  SERVICE_ldap  SERVICE_link  SERVICE_login  \\\n",
       "0               0               0             0             0              0   \n",
       "1               0               0             0             0              0   \n",
       "2               0               0             0             0              0   \n",
       "3               0               0             0             0              0   \n",
       "4               0               0             0             0              0   \n",
       "\n",
       "   SERVICE_mtp  SERVICE_name  SERVICE_netbios_dgm  SERVICE_netbios_ns  \\\n",
       "0            0             0                    0                   0   \n",
       "1            0             0                    0                   0   \n",
       "2            0             0                    0                   0   \n",
       "3            0             0                    0                   0   \n",
       "4            0             0                    0                   0   \n",
       "\n",
       "   SERVICE_netbios_ssn  SERVICE_netstat  SERVICE_nnsp  SERVICE_nntp  \\\n",
       "0                    0                0             0             0   \n",
       "1                    0                0             0             0   \n",
       "2                    0                0             0             0   \n",
       "3                    0                0             0             0   \n",
       "4                    0                0             0             0   \n",
       "\n",
       "   SERVICE_ntp_u  SERVICE_other  SERVICE_pm_dump  SERVICE_pop_2  \\\n",
       "0              0              0                0              0   \n",
       "1              0              1                0              0   \n",
       "2              0              0                0              0   \n",
       "3              0              0                0              0   \n",
       "4              0              0                0              0   \n",
       "\n",
       "   SERVICE_pop_3  SERVICE_printer  SERVICE_private  SERVICE_red_i  \\\n",
       "0              0                0                0              0   \n",
       "1              0                0                0              0   \n",
       "2              0                0                1              0   \n",
       "3              0                0                0              0   \n",
       "4              0                0                0              0   \n",
       "\n",
       "   SERVICE_remote_job  SERVICE_rje  SERVICE_shell  SERVICE_smtp  \\\n",
       "0                   0            0              0             0   \n",
       "1                   0            0              0             0   \n",
       "2                   0            0              0             0   \n",
       "3                   0            0              0             0   \n",
       "4                   0            0              0             0   \n",
       "\n",
       "   SERVICE_sql_net  SERVICE_ssh  SERVICE_sunrpc  SERVICE_supdup  \\\n",
       "0                0            0               0               0   \n",
       "1                0            0               0               0   \n",
       "2                0            0               0               0   \n",
       "3                0            0               0               0   \n",
       "4                0            0               0               0   \n",
       "\n",
       "   SERVICE_systat  SERVICE_telnet  SERVICE_tftp_u  SERVICE_tim_i  \\\n",
       "0               0               0               0              0   \n",
       "1               0               0               0              0   \n",
       "2               0               0               0              0   \n",
       "3               0               0               0              0   \n",
       "4               0               0               0              0   \n",
       "\n",
       "   SERVICE_time  SERVICE_urh_i  SERVICE_urp_i  SERVICE_uucp  \\\n",
       "0             0              0              0             0   \n",
       "1             0              0              0             0   \n",
       "2             0              0              0             0   \n",
       "3             0              0              0             0   \n",
       "4             0              0              0             0   \n",
       "\n",
       "   SERVICE_uucp_path  SERVICE_vmnet  SERVICE_whois  FLAG_REJ  FLAG_RSTO  \\\n",
       "0                  0              0              0         0          0   \n",
       "1                  0              0              0         0          0   \n",
       "2                  0              0              0         0          0   \n",
       "3                  0              0              0         0          0   \n",
       "4                  0              0              0         0          0   \n",
       "\n",
       "   FLAG_RSTOS0  FLAG_RSTR  FLAG_S0  FLAG_S1  FLAG_S2  FLAG_S3  FLAG_SF  \\\n",
       "0            0          0        0        0        0        0        1   \n",
       "1            0          0        0        0        0        0        1   \n",
       "2            0          0        1        0        0        0        0   \n",
       "3            0          0        0        0        0        0        1   \n",
       "4            0          0        0        0        0        0        1   \n",
       "\n",
       "   FLAG_SH  \n",
       "0        0  \n",
       "1        0  \n",
       "2        0  \n",
       "3        0  \n",
       "4        0  "
      ]
     },
     "execution_count": 32,
     "metadata": {},
     "output_type": "execute_result"
    }
   ],
   "source": [
    "network_train.head()"
   ]
  },
  {
   "cell_type": "markdown",
   "metadata": {},
   "source": [
    "#### Test data"
   ]
  },
  {
   "cell_type": "code",
   "execution_count": 33,
   "metadata": {},
   "outputs": [],
   "source": [
    "\n",
    "dummy_miss_list=[]\n",
    "dummy_miss_list=['SERVICE_' + col for col in missing_cols ]"
   ]
  },
  {
   "cell_type": "code",
   "execution_count": 34,
   "metadata": {},
   "outputs": [
    {
     "data": {
      "text/plain": [
       "['SERVICE_http_2784',\n",
       " 'SERVICE_aol',\n",
       " 'SERVICE_red_i',\n",
       " 'SERVICE_urh_i',\n",
       " 'SERVICE_http_8001',\n",
       " 'SERVICE_harvest']"
      ]
     },
     "execution_count": 34,
     "metadata": {},
     "output_type": "execute_result"
    }
   ],
   "source": [
    "dummy_miss_list"
   ]
  },
  {
   "cell_type": "code",
   "execution_count": 35,
   "metadata": {},
   "outputs": [
    {
     "data": {
      "text/plain": [
       "(22544, 43)"
      ]
     },
     "execution_count": 35,
     "metadata": {},
     "output_type": "execute_result"
    }
   ],
   "source": [
    "network_test.shape"
   ]
  },
  {
   "cell_type": "code",
   "execution_count": 36,
   "metadata": {},
   "outputs": [],
   "source": [
    "for col in ['PROTOCOL_TYPE','SERVICE','FLAG']:\n",
    "    network_test = create_dummies(network_test , col )"
   ]
  },
  {
   "cell_type": "code",
   "execution_count": 37,
   "metadata": {},
   "outputs": [
    {
     "data": {
      "text/plain": [
       "(22544, 115)"
      ]
     },
     "execution_count": 37,
     "metadata": {},
     "output_type": "execute_result"
    }
   ],
   "source": [
    "network_test.shape"
   ]
  },
  {
   "cell_type": "code",
   "execution_count": 38,
   "metadata": {},
   "outputs": [],
   "source": [
    "for col in dummy_miss_list:\n",
    "    network_test[col]=0"
   ]
  },
  {
   "cell_type": "code",
   "execution_count": 39,
   "metadata": {},
   "outputs": [
    {
     "data": {
      "text/plain": [
       "(22544, 121)"
      ]
     },
     "execution_count": 39,
     "metadata": {},
     "output_type": "execute_result"
    }
   ],
   "source": [
    "network_test.shape"
   ]
  },
  {
   "cell_type": "code",
   "execution_count": 40,
   "metadata": {},
   "outputs": [
    {
     "data": {
      "text/html": [
       "<div>\n",
       "<style scoped>\n",
       "    .dataframe tbody tr th:only-of-type {\n",
       "        vertical-align: middle;\n",
       "    }\n",
       "\n",
       "    .dataframe tbody tr th {\n",
       "        vertical-align: top;\n",
       "    }\n",
       "\n",
       "    .dataframe thead th {\n",
       "        text-align: right;\n",
       "    }\n",
       "</style>\n",
       "<table border=\"1\" class=\"dataframe\">\n",
       "  <thead>\n",
       "    <tr style=\"text-align: right;\">\n",
       "      <th></th>\n",
       "      <th>DURATION</th>\n",
       "      <th>SRC_BYTES</th>\n",
       "      <th>DST_BYTES</th>\n",
       "      <th>LAND</th>\n",
       "      <th>WRONG_FRAGMENT</th>\n",
       "      <th>URGENT</th>\n",
       "      <th>HOT</th>\n",
       "      <th>NUM_FAILED_LOGINS</th>\n",
       "      <th>LOGGED_IN</th>\n",
       "      <th>NUM_COMPROMISED</th>\n",
       "      <th>ROOT_SHELL</th>\n",
       "      <th>SU_ATTEMPTED</th>\n",
       "      <th>NUM_ROOT</th>\n",
       "      <th>NUM_FILE_CREATIONS</th>\n",
       "      <th>NUM_SHELLS</th>\n",
       "      <th>NUM_ACCESS_FILES</th>\n",
       "      <th>NUM_OUTBOUND_CMDS</th>\n",
       "      <th>IS_HOST_LOGIN</th>\n",
       "      <th>IS_GUEST_LOGIN</th>\n",
       "      <th>COUNT</th>\n",
       "      <th>SRV_COUNT</th>\n",
       "      <th>SERROR_RATE</th>\n",
       "      <th>SRV_SERROR_RATE</th>\n",
       "      <th>RERROR_RATE</th>\n",
       "      <th>SRV_RERROR_RATE</th>\n",
       "      <th>SAME_SRV_RATE</th>\n",
       "      <th>DIFF_SRV_RATE</th>\n",
       "      <th>SRV_DIFF_HOST_RATE</th>\n",
       "      <th>DST_HOST_COUNT</th>\n",
       "      <th>DST_HOST_SRV_COUNT</th>\n",
       "      <th>DST_HOST_SAME_SRV_RATE</th>\n",
       "      <th>DST_HOST_DIFF_SRV_RATE</th>\n",
       "      <th>DST_HOST_SAME_SRC_PORT_RATE</th>\n",
       "      <th>DST_HOST_SRV_DIFF_HOST_RATE</th>\n",
       "      <th>DST_HOST_SERROR_RATE</th>\n",
       "      <th>DST_HOST_SRV_SERROR_RATE</th>\n",
       "      <th>DST_HOST_RERROR_RATE</th>\n",
       "      <th>DST_HOST_SRV_RERROR_RATE</th>\n",
       "      <th>ATTACK</th>\n",
       "      <th>LAST_FLAG</th>\n",
       "      <th>PROTOCOL_TYPE_tcp</th>\n",
       "      <th>PROTOCOL_TYPE_udp</th>\n",
       "      <th>SERVICE_X11</th>\n",
       "      <th>SERVICE_Z39_50</th>\n",
       "      <th>SERVICE_auth</th>\n",
       "      <th>SERVICE_bgp</th>\n",
       "      <th>SERVICE_courier</th>\n",
       "      <th>SERVICE_csnet_ns</th>\n",
       "      <th>SERVICE_ctf</th>\n",
       "      <th>SERVICE_daytime</th>\n",
       "      <th>SERVICE_discard</th>\n",
       "      <th>SERVICE_domain</th>\n",
       "      <th>SERVICE_domain_u</th>\n",
       "      <th>SERVICE_echo</th>\n",
       "      <th>SERVICE_eco_i</th>\n",
       "      <th>SERVICE_ecr_i</th>\n",
       "      <th>SERVICE_efs</th>\n",
       "      <th>SERVICE_exec</th>\n",
       "      <th>SERVICE_finger</th>\n",
       "      <th>SERVICE_ftp</th>\n",
       "      <th>SERVICE_ftp_data</th>\n",
       "      <th>SERVICE_gopher</th>\n",
       "      <th>SERVICE_hostnames</th>\n",
       "      <th>SERVICE_http</th>\n",
       "      <th>SERVICE_http_443</th>\n",
       "      <th>SERVICE_imap4</th>\n",
       "      <th>SERVICE_iso_tsap</th>\n",
       "      <th>SERVICE_klogin</th>\n",
       "      <th>SERVICE_kshell</th>\n",
       "      <th>SERVICE_ldap</th>\n",
       "      <th>SERVICE_link</th>\n",
       "      <th>SERVICE_login</th>\n",
       "      <th>SERVICE_mtp</th>\n",
       "      <th>SERVICE_name</th>\n",
       "      <th>SERVICE_netbios_dgm</th>\n",
       "      <th>SERVICE_netbios_ns</th>\n",
       "      <th>SERVICE_netbios_ssn</th>\n",
       "      <th>SERVICE_netstat</th>\n",
       "      <th>SERVICE_nnsp</th>\n",
       "      <th>SERVICE_nntp</th>\n",
       "      <th>SERVICE_ntp_u</th>\n",
       "      <th>SERVICE_other</th>\n",
       "      <th>SERVICE_pm_dump</th>\n",
       "      <th>SERVICE_pop_2</th>\n",
       "      <th>SERVICE_pop_3</th>\n",
       "      <th>SERVICE_printer</th>\n",
       "      <th>SERVICE_private</th>\n",
       "      <th>SERVICE_remote_job</th>\n",
       "      <th>SERVICE_rje</th>\n",
       "      <th>SERVICE_shell</th>\n",
       "      <th>SERVICE_smtp</th>\n",
       "      <th>SERVICE_sql_net</th>\n",
       "      <th>SERVICE_ssh</th>\n",
       "      <th>SERVICE_sunrpc</th>\n",
       "      <th>SERVICE_supdup</th>\n",
       "      <th>SERVICE_systat</th>\n",
       "      <th>SERVICE_telnet</th>\n",
       "      <th>SERVICE_tftp_u</th>\n",
       "      <th>SERVICE_tim_i</th>\n",
       "      <th>SERVICE_time</th>\n",
       "      <th>SERVICE_urp_i</th>\n",
       "      <th>SERVICE_uucp</th>\n",
       "      <th>SERVICE_uucp_path</th>\n",
       "      <th>SERVICE_vmnet</th>\n",
       "      <th>SERVICE_whois</th>\n",
       "      <th>FLAG_REJ</th>\n",
       "      <th>FLAG_RSTO</th>\n",
       "      <th>FLAG_RSTOS0</th>\n",
       "      <th>FLAG_RSTR</th>\n",
       "      <th>FLAG_S0</th>\n",
       "      <th>FLAG_S1</th>\n",
       "      <th>FLAG_S2</th>\n",
       "      <th>FLAG_S3</th>\n",
       "      <th>FLAG_SF</th>\n",
       "      <th>FLAG_SH</th>\n",
       "      <th>SERVICE_http_2784</th>\n",
       "      <th>SERVICE_aol</th>\n",
       "      <th>SERVICE_red_i</th>\n",
       "      <th>SERVICE_urh_i</th>\n",
       "      <th>SERVICE_http_8001</th>\n",
       "      <th>SERVICE_harvest</th>\n",
       "    </tr>\n",
       "  </thead>\n",
       "  <tbody>\n",
       "    <tr>\n",
       "      <td>0</td>\n",
       "      <td>0</td>\n",
       "      <td>0</td>\n",
       "      <td>0</td>\n",
       "      <td>0</td>\n",
       "      <td>0</td>\n",
       "      <td>0</td>\n",
       "      <td>0</td>\n",
       "      <td>0</td>\n",
       "      <td>0</td>\n",
       "      <td>0</td>\n",
       "      <td>0</td>\n",
       "      <td>0</td>\n",
       "      <td>0</td>\n",
       "      <td>0</td>\n",
       "      <td>0</td>\n",
       "      <td>0</td>\n",
       "      <td>0</td>\n",
       "      <td>0</td>\n",
       "      <td>0</td>\n",
       "      <td>229</td>\n",
       "      <td>10</td>\n",
       "      <td>0.000</td>\n",
       "      <td>0.000</td>\n",
       "      <td>1.000</td>\n",
       "      <td>1.000</td>\n",
       "      <td>0.040</td>\n",
       "      <td>0.060</td>\n",
       "      <td>0.000</td>\n",
       "      <td>255</td>\n",
       "      <td>10</td>\n",
       "      <td>0.040</td>\n",
       "      <td>0.060</td>\n",
       "      <td>0.000</td>\n",
       "      <td>0.000</td>\n",
       "      <td>0.000</td>\n",
       "      <td>0.000</td>\n",
       "      <td>1.000</td>\n",
       "      <td>1.000</td>\n",
       "      <td>neptune</td>\n",
       "      <td>21</td>\n",
       "      <td>1</td>\n",
       "      <td>0</td>\n",
       "      <td>0</td>\n",
       "      <td>0</td>\n",
       "      <td>0</td>\n",
       "      <td>0</td>\n",
       "      <td>0</td>\n",
       "      <td>0</td>\n",
       "      <td>0</td>\n",
       "      <td>0</td>\n",
       "      <td>0</td>\n",
       "      <td>0</td>\n",
       "      <td>0</td>\n",
       "      <td>0</td>\n",
       "      <td>0</td>\n",
       "      <td>0</td>\n",
       "      <td>0</td>\n",
       "      <td>0</td>\n",
       "      <td>0</td>\n",
       "      <td>0</td>\n",
       "      <td>0</td>\n",
       "      <td>0</td>\n",
       "      <td>0</td>\n",
       "      <td>0</td>\n",
       "      <td>0</td>\n",
       "      <td>0</td>\n",
       "      <td>0</td>\n",
       "      <td>0</td>\n",
       "      <td>0</td>\n",
       "      <td>0</td>\n",
       "      <td>0</td>\n",
       "      <td>0</td>\n",
       "      <td>0</td>\n",
       "      <td>0</td>\n",
       "      <td>0</td>\n",
       "      <td>0</td>\n",
       "      <td>0</td>\n",
       "      <td>0</td>\n",
       "      <td>0</td>\n",
       "      <td>0</td>\n",
       "      <td>0</td>\n",
       "      <td>0</td>\n",
       "      <td>0</td>\n",
       "      <td>0</td>\n",
       "      <td>0</td>\n",
       "      <td>0</td>\n",
       "      <td>1</td>\n",
       "      <td>0</td>\n",
       "      <td>0</td>\n",
       "      <td>0</td>\n",
       "      <td>0</td>\n",
       "      <td>0</td>\n",
       "      <td>0</td>\n",
       "      <td>0</td>\n",
       "      <td>0</td>\n",
       "      <td>0</td>\n",
       "      <td>0</td>\n",
       "      <td>0</td>\n",
       "      <td>0</td>\n",
       "      <td>0</td>\n",
       "      <td>0</td>\n",
       "      <td>0</td>\n",
       "      <td>0</td>\n",
       "      <td>0</td>\n",
       "      <td>0</td>\n",
       "      <td>1</td>\n",
       "      <td>0</td>\n",
       "      <td>0</td>\n",
       "      <td>0</td>\n",
       "      <td>0</td>\n",
       "      <td>0</td>\n",
       "      <td>0</td>\n",
       "      <td>0</td>\n",
       "      <td>0</td>\n",
       "      <td>0</td>\n",
       "      <td>0</td>\n",
       "      <td>0</td>\n",
       "      <td>0</td>\n",
       "      <td>0</td>\n",
       "      <td>0</td>\n",
       "      <td>0</td>\n",
       "    </tr>\n",
       "    <tr>\n",
       "      <td>1</td>\n",
       "      <td>0</td>\n",
       "      <td>0</td>\n",
       "      <td>0</td>\n",
       "      <td>0</td>\n",
       "      <td>0</td>\n",
       "      <td>0</td>\n",
       "      <td>0</td>\n",
       "      <td>0</td>\n",
       "      <td>0</td>\n",
       "      <td>0</td>\n",
       "      <td>0</td>\n",
       "      <td>0</td>\n",
       "      <td>0</td>\n",
       "      <td>0</td>\n",
       "      <td>0</td>\n",
       "      <td>0</td>\n",
       "      <td>0</td>\n",
       "      <td>0</td>\n",
       "      <td>0</td>\n",
       "      <td>136</td>\n",
       "      <td>1</td>\n",
       "      <td>0.000</td>\n",
       "      <td>0.000</td>\n",
       "      <td>1.000</td>\n",
       "      <td>1.000</td>\n",
       "      <td>0.010</td>\n",
       "      <td>0.060</td>\n",
       "      <td>0.000</td>\n",
       "      <td>255</td>\n",
       "      <td>1</td>\n",
       "      <td>0.000</td>\n",
       "      <td>0.060</td>\n",
       "      <td>0.000</td>\n",
       "      <td>0.000</td>\n",
       "      <td>0.000</td>\n",
       "      <td>0.000</td>\n",
       "      <td>1.000</td>\n",
       "      <td>1.000</td>\n",
       "      <td>neptune</td>\n",
       "      <td>21</td>\n",
       "      <td>1</td>\n",
       "      <td>0</td>\n",
       "      <td>0</td>\n",
       "      <td>0</td>\n",
       "      <td>0</td>\n",
       "      <td>0</td>\n",
       "      <td>0</td>\n",
       "      <td>0</td>\n",
       "      <td>0</td>\n",
       "      <td>0</td>\n",
       "      <td>0</td>\n",
       "      <td>0</td>\n",
       "      <td>0</td>\n",
       "      <td>0</td>\n",
       "      <td>0</td>\n",
       "      <td>0</td>\n",
       "      <td>0</td>\n",
       "      <td>0</td>\n",
       "      <td>0</td>\n",
       "      <td>0</td>\n",
       "      <td>0</td>\n",
       "      <td>0</td>\n",
       "      <td>0</td>\n",
       "      <td>0</td>\n",
       "      <td>0</td>\n",
       "      <td>0</td>\n",
       "      <td>0</td>\n",
       "      <td>0</td>\n",
       "      <td>0</td>\n",
       "      <td>0</td>\n",
       "      <td>0</td>\n",
       "      <td>0</td>\n",
       "      <td>0</td>\n",
       "      <td>0</td>\n",
       "      <td>0</td>\n",
       "      <td>0</td>\n",
       "      <td>0</td>\n",
       "      <td>0</td>\n",
       "      <td>0</td>\n",
       "      <td>0</td>\n",
       "      <td>0</td>\n",
       "      <td>0</td>\n",
       "      <td>0</td>\n",
       "      <td>0</td>\n",
       "      <td>0</td>\n",
       "      <td>0</td>\n",
       "      <td>1</td>\n",
       "      <td>0</td>\n",
       "      <td>0</td>\n",
       "      <td>0</td>\n",
       "      <td>0</td>\n",
       "      <td>0</td>\n",
       "      <td>0</td>\n",
       "      <td>0</td>\n",
       "      <td>0</td>\n",
       "      <td>0</td>\n",
       "      <td>0</td>\n",
       "      <td>0</td>\n",
       "      <td>0</td>\n",
       "      <td>0</td>\n",
       "      <td>0</td>\n",
       "      <td>0</td>\n",
       "      <td>0</td>\n",
       "      <td>0</td>\n",
       "      <td>0</td>\n",
       "      <td>1</td>\n",
       "      <td>0</td>\n",
       "      <td>0</td>\n",
       "      <td>0</td>\n",
       "      <td>0</td>\n",
       "      <td>0</td>\n",
       "      <td>0</td>\n",
       "      <td>0</td>\n",
       "      <td>0</td>\n",
       "      <td>0</td>\n",
       "      <td>0</td>\n",
       "      <td>0</td>\n",
       "      <td>0</td>\n",
       "      <td>0</td>\n",
       "      <td>0</td>\n",
       "      <td>0</td>\n",
       "    </tr>\n",
       "    <tr>\n",
       "      <td>2</td>\n",
       "      <td>2</td>\n",
       "      <td>12983</td>\n",
       "      <td>0</td>\n",
       "      <td>0</td>\n",
       "      <td>0</td>\n",
       "      <td>0</td>\n",
       "      <td>0</td>\n",
       "      <td>0</td>\n",
       "      <td>0</td>\n",
       "      <td>0</td>\n",
       "      <td>0</td>\n",
       "      <td>0</td>\n",
       "      <td>0</td>\n",
       "      <td>0</td>\n",
       "      <td>0</td>\n",
       "      <td>0</td>\n",
       "      <td>0</td>\n",
       "      <td>0</td>\n",
       "      <td>0</td>\n",
       "      <td>1</td>\n",
       "      <td>1</td>\n",
       "      <td>0.000</td>\n",
       "      <td>0.000</td>\n",
       "      <td>0.000</td>\n",
       "      <td>0.000</td>\n",
       "      <td>1.000</td>\n",
       "      <td>0.000</td>\n",
       "      <td>0.000</td>\n",
       "      <td>134</td>\n",
       "      <td>86</td>\n",
       "      <td>0.610</td>\n",
       "      <td>0.040</td>\n",
       "      <td>0.610</td>\n",
       "      <td>0.020</td>\n",
       "      <td>0.000</td>\n",
       "      <td>0.000</td>\n",
       "      <td>0.000</td>\n",
       "      <td>0.000</td>\n",
       "      <td>normal</td>\n",
       "      <td>21</td>\n",
       "      <td>1</td>\n",
       "      <td>0</td>\n",
       "      <td>0</td>\n",
       "      <td>0</td>\n",
       "      <td>0</td>\n",
       "      <td>0</td>\n",
       "      <td>0</td>\n",
       "      <td>0</td>\n",
       "      <td>0</td>\n",
       "      <td>0</td>\n",
       "      <td>0</td>\n",
       "      <td>0</td>\n",
       "      <td>0</td>\n",
       "      <td>0</td>\n",
       "      <td>0</td>\n",
       "      <td>0</td>\n",
       "      <td>0</td>\n",
       "      <td>0</td>\n",
       "      <td>0</td>\n",
       "      <td>0</td>\n",
       "      <td>1</td>\n",
       "      <td>0</td>\n",
       "      <td>0</td>\n",
       "      <td>0</td>\n",
       "      <td>0</td>\n",
       "      <td>0</td>\n",
       "      <td>0</td>\n",
       "      <td>0</td>\n",
       "      <td>0</td>\n",
       "      <td>0</td>\n",
       "      <td>0</td>\n",
       "      <td>0</td>\n",
       "      <td>0</td>\n",
       "      <td>0</td>\n",
       "      <td>0</td>\n",
       "      <td>0</td>\n",
       "      <td>0</td>\n",
       "      <td>0</td>\n",
       "      <td>0</td>\n",
       "      <td>0</td>\n",
       "      <td>0</td>\n",
       "      <td>0</td>\n",
       "      <td>0</td>\n",
       "      <td>0</td>\n",
       "      <td>0</td>\n",
       "      <td>0</td>\n",
       "      <td>0</td>\n",
       "      <td>0</td>\n",
       "      <td>0</td>\n",
       "      <td>0</td>\n",
       "      <td>0</td>\n",
       "      <td>0</td>\n",
       "      <td>0</td>\n",
       "      <td>0</td>\n",
       "      <td>0</td>\n",
       "      <td>0</td>\n",
       "      <td>0</td>\n",
       "      <td>0</td>\n",
       "      <td>0</td>\n",
       "      <td>0</td>\n",
       "      <td>0</td>\n",
       "      <td>0</td>\n",
       "      <td>0</td>\n",
       "      <td>0</td>\n",
       "      <td>0</td>\n",
       "      <td>0</td>\n",
       "      <td>0</td>\n",
       "      <td>0</td>\n",
       "      <td>0</td>\n",
       "      <td>0</td>\n",
       "      <td>0</td>\n",
       "      <td>0</td>\n",
       "      <td>0</td>\n",
       "      <td>1</td>\n",
       "      <td>0</td>\n",
       "      <td>0</td>\n",
       "      <td>0</td>\n",
       "      <td>0</td>\n",
       "      <td>0</td>\n",
       "      <td>0</td>\n",
       "      <td>0</td>\n",
       "    </tr>\n",
       "    <tr>\n",
       "      <td>3</td>\n",
       "      <td>0</td>\n",
       "      <td>20</td>\n",
       "      <td>0</td>\n",
       "      <td>0</td>\n",
       "      <td>0</td>\n",
       "      <td>0</td>\n",
       "      <td>0</td>\n",
       "      <td>0</td>\n",
       "      <td>0</td>\n",
       "      <td>0</td>\n",
       "      <td>0</td>\n",
       "      <td>0</td>\n",
       "      <td>0</td>\n",
       "      <td>0</td>\n",
       "      <td>0</td>\n",
       "      <td>0</td>\n",
       "      <td>0</td>\n",
       "      <td>0</td>\n",
       "      <td>0</td>\n",
       "      <td>1</td>\n",
       "      <td>65</td>\n",
       "      <td>0.000</td>\n",
       "      <td>0.000</td>\n",
       "      <td>0.000</td>\n",
       "      <td>0.000</td>\n",
       "      <td>1.000</td>\n",
       "      <td>0.000</td>\n",
       "      <td>1.000</td>\n",
       "      <td>3</td>\n",
       "      <td>57</td>\n",
       "      <td>1.000</td>\n",
       "      <td>0.000</td>\n",
       "      <td>1.000</td>\n",
       "      <td>0.280</td>\n",
       "      <td>0.000</td>\n",
       "      <td>0.000</td>\n",
       "      <td>0.000</td>\n",
       "      <td>0.000</td>\n",
       "      <td>saint</td>\n",
       "      <td>15</td>\n",
       "      <td>0</td>\n",
       "      <td>0</td>\n",
       "      <td>0</td>\n",
       "      <td>0</td>\n",
       "      <td>0</td>\n",
       "      <td>0</td>\n",
       "      <td>0</td>\n",
       "      <td>0</td>\n",
       "      <td>0</td>\n",
       "      <td>0</td>\n",
       "      <td>0</td>\n",
       "      <td>0</td>\n",
       "      <td>0</td>\n",
       "      <td>0</td>\n",
       "      <td>1</td>\n",
       "      <td>0</td>\n",
       "      <td>0</td>\n",
       "      <td>0</td>\n",
       "      <td>0</td>\n",
       "      <td>0</td>\n",
       "      <td>0</td>\n",
       "      <td>0</td>\n",
       "      <td>0</td>\n",
       "      <td>0</td>\n",
       "      <td>0</td>\n",
       "      <td>0</td>\n",
       "      <td>0</td>\n",
       "      <td>0</td>\n",
       "      <td>0</td>\n",
       "      <td>0</td>\n",
       "      <td>0</td>\n",
       "      <td>0</td>\n",
       "      <td>0</td>\n",
       "      <td>0</td>\n",
       "      <td>0</td>\n",
       "      <td>0</td>\n",
       "      <td>0</td>\n",
       "      <td>0</td>\n",
       "      <td>0</td>\n",
       "      <td>0</td>\n",
       "      <td>0</td>\n",
       "      <td>0</td>\n",
       "      <td>0</td>\n",
       "      <td>0</td>\n",
       "      <td>0</td>\n",
       "      <td>0</td>\n",
       "      <td>0</td>\n",
       "      <td>0</td>\n",
       "      <td>0</td>\n",
       "      <td>0</td>\n",
       "      <td>0</td>\n",
       "      <td>0</td>\n",
       "      <td>0</td>\n",
       "      <td>0</td>\n",
       "      <td>0</td>\n",
       "      <td>0</td>\n",
       "      <td>0</td>\n",
       "      <td>0</td>\n",
       "      <td>0</td>\n",
       "      <td>0</td>\n",
       "      <td>0</td>\n",
       "      <td>0</td>\n",
       "      <td>0</td>\n",
       "      <td>0</td>\n",
       "      <td>0</td>\n",
       "      <td>0</td>\n",
       "      <td>0</td>\n",
       "      <td>0</td>\n",
       "      <td>0</td>\n",
       "      <td>0</td>\n",
       "      <td>0</td>\n",
       "      <td>0</td>\n",
       "      <td>0</td>\n",
       "      <td>1</td>\n",
       "      <td>0</td>\n",
       "      <td>0</td>\n",
       "      <td>0</td>\n",
       "      <td>0</td>\n",
       "      <td>0</td>\n",
       "      <td>0</td>\n",
       "      <td>0</td>\n",
       "    </tr>\n",
       "    <tr>\n",
       "      <td>4</td>\n",
       "      <td>1</td>\n",
       "      <td>0</td>\n",
       "      <td>15</td>\n",
       "      <td>0</td>\n",
       "      <td>0</td>\n",
       "      <td>0</td>\n",
       "      <td>0</td>\n",
       "      <td>0</td>\n",
       "      <td>0</td>\n",
       "      <td>0</td>\n",
       "      <td>0</td>\n",
       "      <td>0</td>\n",
       "      <td>0</td>\n",
       "      <td>0</td>\n",
       "      <td>0</td>\n",
       "      <td>0</td>\n",
       "      <td>0</td>\n",
       "      <td>0</td>\n",
       "      <td>0</td>\n",
       "      <td>1</td>\n",
       "      <td>8</td>\n",
       "      <td>0.000</td>\n",
       "      <td>0.120</td>\n",
       "      <td>1.000</td>\n",
       "      <td>0.500</td>\n",
       "      <td>1.000</td>\n",
       "      <td>0.000</td>\n",
       "      <td>0.750</td>\n",
       "      <td>29</td>\n",
       "      <td>86</td>\n",
       "      <td>0.310</td>\n",
       "      <td>0.170</td>\n",
       "      <td>0.030</td>\n",
       "      <td>0.020</td>\n",
       "      <td>0.000</td>\n",
       "      <td>0.000</td>\n",
       "      <td>0.830</td>\n",
       "      <td>0.710</td>\n",
       "      <td>mscan</td>\n",
       "      <td>11</td>\n",
       "      <td>1</td>\n",
       "      <td>0</td>\n",
       "      <td>0</td>\n",
       "      <td>0</td>\n",
       "      <td>0</td>\n",
       "      <td>0</td>\n",
       "      <td>0</td>\n",
       "      <td>0</td>\n",
       "      <td>0</td>\n",
       "      <td>0</td>\n",
       "      <td>0</td>\n",
       "      <td>0</td>\n",
       "      <td>0</td>\n",
       "      <td>0</td>\n",
       "      <td>0</td>\n",
       "      <td>0</td>\n",
       "      <td>0</td>\n",
       "      <td>0</td>\n",
       "      <td>0</td>\n",
       "      <td>0</td>\n",
       "      <td>0</td>\n",
       "      <td>0</td>\n",
       "      <td>0</td>\n",
       "      <td>0</td>\n",
       "      <td>0</td>\n",
       "      <td>0</td>\n",
       "      <td>0</td>\n",
       "      <td>0</td>\n",
       "      <td>0</td>\n",
       "      <td>0</td>\n",
       "      <td>0</td>\n",
       "      <td>0</td>\n",
       "      <td>0</td>\n",
       "      <td>0</td>\n",
       "      <td>0</td>\n",
       "      <td>0</td>\n",
       "      <td>0</td>\n",
       "      <td>0</td>\n",
       "      <td>0</td>\n",
       "      <td>0</td>\n",
       "      <td>0</td>\n",
       "      <td>0</td>\n",
       "      <td>0</td>\n",
       "      <td>0</td>\n",
       "      <td>0</td>\n",
       "      <td>0</td>\n",
       "      <td>0</td>\n",
       "      <td>0</td>\n",
       "      <td>0</td>\n",
       "      <td>0</td>\n",
       "      <td>0</td>\n",
       "      <td>0</td>\n",
       "      <td>0</td>\n",
       "      <td>0</td>\n",
       "      <td>0</td>\n",
       "      <td>0</td>\n",
       "      <td>1</td>\n",
       "      <td>0</td>\n",
       "      <td>0</td>\n",
       "      <td>0</td>\n",
       "      <td>0</td>\n",
       "      <td>0</td>\n",
       "      <td>0</td>\n",
       "      <td>0</td>\n",
       "      <td>0</td>\n",
       "      <td>0</td>\n",
       "      <td>1</td>\n",
       "      <td>0</td>\n",
       "      <td>0</td>\n",
       "      <td>0</td>\n",
       "      <td>0</td>\n",
       "      <td>0</td>\n",
       "      <td>0</td>\n",
       "      <td>0</td>\n",
       "      <td>0</td>\n",
       "      <td>0</td>\n",
       "      <td>0</td>\n",
       "      <td>0</td>\n",
       "      <td>0</td>\n",
       "      <td>0</td>\n",
       "      <td>0</td>\n",
       "    </tr>\n",
       "  </tbody>\n",
       "</table>\n",
       "</div>"
      ],
      "text/plain": [
       "   DURATION  SRC_BYTES  DST_BYTES  LAND  WRONG_FRAGMENT  URGENT  HOT  \\\n",
       "0         0          0          0     0               0       0    0   \n",
       "1         0          0          0     0               0       0    0   \n",
       "2         2      12983          0     0               0       0    0   \n",
       "3         0         20          0     0               0       0    0   \n",
       "4         1          0         15     0               0       0    0   \n",
       "\n",
       "   NUM_FAILED_LOGINS  LOGGED_IN  NUM_COMPROMISED  ROOT_SHELL  SU_ATTEMPTED  \\\n",
       "0                  0          0                0           0             0   \n",
       "1                  0          0                0           0             0   \n",
       "2                  0          0                0           0             0   \n",
       "3                  0          0                0           0             0   \n",
       "4                  0          0                0           0             0   \n",
       "\n",
       "   NUM_ROOT  NUM_FILE_CREATIONS  NUM_SHELLS  NUM_ACCESS_FILES  \\\n",
       "0         0                   0           0                 0   \n",
       "1         0                   0           0                 0   \n",
       "2         0                   0           0                 0   \n",
       "3         0                   0           0                 0   \n",
       "4         0                   0           0                 0   \n",
       "\n",
       "   NUM_OUTBOUND_CMDS  IS_HOST_LOGIN  IS_GUEST_LOGIN  COUNT  SRV_COUNT  \\\n",
       "0                  0              0               0    229         10   \n",
       "1                  0              0               0    136          1   \n",
       "2                  0              0               0      1          1   \n",
       "3                  0              0               0      1         65   \n",
       "4                  0              0               0      1          8   \n",
       "\n",
       "   SERROR_RATE  SRV_SERROR_RATE  RERROR_RATE  SRV_RERROR_RATE  SAME_SRV_RATE  \\\n",
       "0        0.000            0.000        1.000            1.000          0.040   \n",
       "1        0.000            0.000        1.000            1.000          0.010   \n",
       "2        0.000            0.000        0.000            0.000          1.000   \n",
       "3        0.000            0.000        0.000            0.000          1.000   \n",
       "4        0.000            0.120        1.000            0.500          1.000   \n",
       "\n",
       "   DIFF_SRV_RATE  SRV_DIFF_HOST_RATE  DST_HOST_COUNT  DST_HOST_SRV_COUNT  \\\n",
       "0          0.060               0.000             255                  10   \n",
       "1          0.060               0.000             255                   1   \n",
       "2          0.000               0.000             134                  86   \n",
       "3          0.000               1.000               3                  57   \n",
       "4          0.000               0.750              29                  86   \n",
       "\n",
       "   DST_HOST_SAME_SRV_RATE  DST_HOST_DIFF_SRV_RATE  \\\n",
       "0                   0.040                   0.060   \n",
       "1                   0.000                   0.060   \n",
       "2                   0.610                   0.040   \n",
       "3                   1.000                   0.000   \n",
       "4                   0.310                   0.170   \n",
       "\n",
       "   DST_HOST_SAME_SRC_PORT_RATE  DST_HOST_SRV_DIFF_HOST_RATE  \\\n",
       "0                        0.000                        0.000   \n",
       "1                        0.000                        0.000   \n",
       "2                        0.610                        0.020   \n",
       "3                        1.000                        0.280   \n",
       "4                        0.030                        0.020   \n",
       "\n",
       "   DST_HOST_SERROR_RATE  DST_HOST_SRV_SERROR_RATE  DST_HOST_RERROR_RATE  \\\n",
       "0                 0.000                     0.000                 1.000   \n",
       "1                 0.000                     0.000                 1.000   \n",
       "2                 0.000                     0.000                 0.000   \n",
       "3                 0.000                     0.000                 0.000   \n",
       "4                 0.000                     0.000                 0.830   \n",
       "\n",
       "   DST_HOST_SRV_RERROR_RATE   ATTACK  LAST_FLAG  PROTOCOL_TYPE_tcp  \\\n",
       "0                     1.000  neptune         21                  1   \n",
       "1                     1.000  neptune         21                  1   \n",
       "2                     0.000   normal         21                  1   \n",
       "3                     0.000    saint         15                  0   \n",
       "4                     0.710    mscan         11                  1   \n",
       "\n",
       "   PROTOCOL_TYPE_udp  SERVICE_X11  SERVICE_Z39_50  SERVICE_auth  SERVICE_bgp  \\\n",
       "0                  0            0               0             0            0   \n",
       "1                  0            0               0             0            0   \n",
       "2                  0            0               0             0            0   \n",
       "3                  0            0               0             0            0   \n",
       "4                  0            0               0             0            0   \n",
       "\n",
       "   SERVICE_courier  SERVICE_csnet_ns  SERVICE_ctf  SERVICE_daytime  \\\n",
       "0                0                 0            0                0   \n",
       "1                0                 0            0                0   \n",
       "2                0                 0            0                0   \n",
       "3                0                 0            0                0   \n",
       "4                0                 0            0                0   \n",
       "\n",
       "   SERVICE_discard  SERVICE_domain  SERVICE_domain_u  SERVICE_echo  \\\n",
       "0                0               0                 0             0   \n",
       "1                0               0                 0             0   \n",
       "2                0               0                 0             0   \n",
       "3                0               0                 0             0   \n",
       "4                0               0                 0             0   \n",
       "\n",
       "   SERVICE_eco_i  SERVICE_ecr_i  SERVICE_efs  SERVICE_exec  SERVICE_finger  \\\n",
       "0              0              0            0             0               0   \n",
       "1              0              0            0             0               0   \n",
       "2              0              0            0             0               0   \n",
       "3              1              0            0             0               0   \n",
       "4              0              0            0             0               0   \n",
       "\n",
       "   SERVICE_ftp  SERVICE_ftp_data  SERVICE_gopher  SERVICE_hostnames  \\\n",
       "0            0                 0               0                  0   \n",
       "1            0                 0               0                  0   \n",
       "2            0                 1               0                  0   \n",
       "3            0                 0               0                  0   \n",
       "4            0                 0               0                  0   \n",
       "\n",
       "   SERVICE_http  SERVICE_http_443  SERVICE_imap4  SERVICE_iso_tsap  \\\n",
       "0             0                 0              0                 0   \n",
       "1             0                 0              0                 0   \n",
       "2             0                 0              0                 0   \n",
       "3             0                 0              0                 0   \n",
       "4             0                 0              0                 0   \n",
       "\n",
       "   SERVICE_klogin  SERVICE_kshell  SERVICE_ldap  SERVICE_link  SERVICE_login  \\\n",
       "0               0               0             0             0              0   \n",
       "1               0               0             0             0              0   \n",
       "2               0               0             0             0              0   \n",
       "3               0               0             0             0              0   \n",
       "4               0               0             0             0              0   \n",
       "\n",
       "   SERVICE_mtp  SERVICE_name  SERVICE_netbios_dgm  SERVICE_netbios_ns  \\\n",
       "0            0             0                    0                   0   \n",
       "1            0             0                    0                   0   \n",
       "2            0             0                    0                   0   \n",
       "3            0             0                    0                   0   \n",
       "4            0             0                    0                   0   \n",
       "\n",
       "   SERVICE_netbios_ssn  SERVICE_netstat  SERVICE_nnsp  SERVICE_nntp  \\\n",
       "0                    0                0             0             0   \n",
       "1                    0                0             0             0   \n",
       "2                    0                0             0             0   \n",
       "3                    0                0             0             0   \n",
       "4                    0                0             0             0   \n",
       "\n",
       "   SERVICE_ntp_u  SERVICE_other  SERVICE_pm_dump  SERVICE_pop_2  \\\n",
       "0              0              0                0              0   \n",
       "1              0              0                0              0   \n",
       "2              0              0                0              0   \n",
       "3              0              0                0              0   \n",
       "4              0              0                0              0   \n",
       "\n",
       "   SERVICE_pop_3  SERVICE_printer  SERVICE_private  SERVICE_remote_job  \\\n",
       "0              0                0                1                   0   \n",
       "1              0                0                1                   0   \n",
       "2              0                0                0                   0   \n",
       "3              0                0                0                   0   \n",
       "4              0                0                0                   0   \n",
       "\n",
       "   SERVICE_rje  SERVICE_shell  SERVICE_smtp  SERVICE_sql_net  SERVICE_ssh  \\\n",
       "0            0              0             0                0            0   \n",
       "1            0              0             0                0            0   \n",
       "2            0              0             0                0            0   \n",
       "3            0              0             0                0            0   \n",
       "4            0              0             0                0            0   \n",
       "\n",
       "   SERVICE_sunrpc  SERVICE_supdup  SERVICE_systat  SERVICE_telnet  \\\n",
       "0               0               0               0               0   \n",
       "1               0               0               0               0   \n",
       "2               0               0               0               0   \n",
       "3               0               0               0               0   \n",
       "4               0               0               0               1   \n",
       "\n",
       "   SERVICE_tftp_u  SERVICE_tim_i  SERVICE_time  SERVICE_urp_i  SERVICE_uucp  \\\n",
       "0               0              0             0              0             0   \n",
       "1               0              0             0              0             0   \n",
       "2               0              0             0              0             0   \n",
       "3               0              0             0              0             0   \n",
       "4               0              0             0              0             0   \n",
       "\n",
       "   SERVICE_uucp_path  SERVICE_vmnet  SERVICE_whois  FLAG_REJ  FLAG_RSTO  \\\n",
       "0                  0              0              0         1          0   \n",
       "1                  0              0              0         1          0   \n",
       "2                  0              0              0         0          0   \n",
       "3                  0              0              0         0          0   \n",
       "4                  0              0              0         0          1   \n",
       "\n",
       "   FLAG_RSTOS0  FLAG_RSTR  FLAG_S0  FLAG_S1  FLAG_S2  FLAG_S3  FLAG_SF  \\\n",
       "0            0          0        0        0        0        0        0   \n",
       "1            0          0        0        0        0        0        0   \n",
       "2            0          0        0        0        0        0        1   \n",
       "3            0          0        0        0        0        0        1   \n",
       "4            0          0        0        0        0        0        0   \n",
       "\n",
       "   FLAG_SH  SERVICE_http_2784  SERVICE_aol  SERVICE_red_i  SERVICE_urh_i  \\\n",
       "0        0                  0            0              0              0   \n",
       "1        0                  0            0              0              0   \n",
       "2        0                  0            0              0              0   \n",
       "3        0                  0            0              0              0   \n",
       "4        0                  0            0              0              0   \n",
       "\n",
       "   SERVICE_http_8001  SERVICE_harvest  \n",
       "0                  0                0  \n",
       "1                  0                0  \n",
       "2                  0                0  \n",
       "3                  0                0  \n",
       "4                  0                0  "
      ]
     },
     "execution_count": 40,
     "metadata": {},
     "output_type": "execute_result"
    }
   ],
   "source": [
    "network_test.head()"
   ]
  },
  {
   "cell_type": "markdown",
   "metadata": {},
   "source": [
    "### Categorization of ATTACK into following 4 attack class"
   ]
  },
  {
   "cell_type": "markdown",
   "metadata": {},
   "source": [
    "- DOS\n",
    "- PROBE\n",
    "- R2L\n",
    "- U2R"
   ]
  },
  {
   "cell_type": "code",
   "execution_count": 41,
   "metadata": {},
   "outputs": [],
   "source": [
    "DOS=['back','land','neptune','pod','smurf','teardrop','apache2','udpstorm','processtable','worm']\n",
    "PROBE=['satan','ipsweep','nmap','portsweep','mscan','saint']\n",
    "R2L=['guess_passwd','ftp_write','imap','phf','multihop','warezmaster','warezclient','spy','xlock','xsnoop','snmpguess','snmpgetattack','httptunnel','sendmail','named']\n",
    "U2R=['buffer_overflow','loadmodule','rootkit','perl','sqlattack','xterm','ps']"
   ]
  },
  {
   "cell_type": "markdown",
   "metadata": {},
   "source": [
    "#### Train data"
   ]
  },
  {
   "cell_type": "code",
   "execution_count": 42,
   "metadata": {},
   "outputs": [],
   "source": [
    "network_train['ATTACKTYPE']=np.where(\n",
    "    network_train['ATTACK'].isin(DOS),'DOS',\n",
    "    np.where(network_train['ATTACK'].isin(PROBE),'PROBE',\n",
    "    np.where(network_train['ATTACK'].isin(R2L),'R2L',\n",
    "    np.where(network_train['ATTACK'].isin(U2R),'U2R','NORMAL'\n",
    "            )\n",
    "            )\n",
    "            )\n",
    ")"
   ]
  },
  {
   "cell_type": "code",
   "execution_count": 43,
   "metadata": {},
   "outputs": [
    {
     "data": {
      "text/plain": [
       "NORMAL    67343\n",
       "DOS       45927\n",
       "PROBE     11656\n",
       "R2L         995\n",
       "U2R          52\n",
       "Name: ATTACKTYPE, dtype: int64"
      ]
     },
     "execution_count": 43,
     "metadata": {},
     "output_type": "execute_result"
    }
   ],
   "source": [
    "network_train['ATTACKTYPE'].value_counts()"
   ]
  },
  {
   "cell_type": "markdown",
   "metadata": {},
   "source": [
    "#### Test data"
   ]
  },
  {
   "cell_type": "code",
   "execution_count": 44,
   "metadata": {},
   "outputs": [],
   "source": [
    "network_test['ATTACKTYPE']=np.where(\n",
    "    network_test['ATTACK'].isin(DOS),'DOS',\n",
    "    np.where(network_test['ATTACK'].isin(PROBE),'PROBE',\n",
    "    np.where(network_test['ATTACK'].isin(R2L),'R2L',\n",
    "    np.where(network_test['ATTACK'].isin(U2R),'U2R','NORMAL'\n",
    "            )\n",
    "            )\n",
    "            )\n",
    ")"
   ]
  },
  {
   "cell_type": "code",
   "execution_count": 45,
   "metadata": {},
   "outputs": [
    {
     "data": {
      "text/plain": [
       "NORMAL    10004\n",
       "DOS        7167\n",
       "R2L        2885\n",
       "PROBE      2421\n",
       "U2R          67\n",
       "Name: ATTACKTYPE, dtype: int64"
      ]
     },
     "execution_count": 45,
     "metadata": {},
     "output_type": "execute_result"
    }
   ],
   "source": [
    "network_test['ATTACKTYPE'].value_counts()"
   ]
  },
  {
   "cell_type": "markdown",
   "metadata": {},
   "source": [
    "### Distribution of network data based on 'DOS','PROBE','R2L','U2R','NORMAL'"
   ]
  },
  {
   "cell_type": "markdown",
   "metadata": {},
   "source": [
    "#### Train data"
   ]
  },
  {
   "cell_type": "code",
   "execution_count": 46,
   "metadata": {},
   "outputs": [],
   "source": [
    "network_train_dos=network_train[network_train['ATTACKTYPE'].isin(['NORMAL','DOS'])]"
   ]
  },
  {
   "cell_type": "code",
   "execution_count": 47,
   "metadata": {},
   "outputs": [
    {
     "data": {
      "text/plain": [
       "(113270, 122)"
      ]
     },
     "execution_count": 47,
     "metadata": {},
     "output_type": "execute_result"
    }
   ],
   "source": [
    "network_train_dos.shape"
   ]
  },
  {
   "cell_type": "code",
   "execution_count": 48,
   "metadata": {},
   "outputs": [],
   "source": [
    "network_train_probe=network_train[network_train['ATTACKTYPE'].isin(['NORMAL','PROBE'])]"
   ]
  },
  {
   "cell_type": "code",
   "execution_count": 49,
   "metadata": {},
   "outputs": [
    {
     "data": {
      "text/plain": [
       "(78999, 122)"
      ]
     },
     "execution_count": 49,
     "metadata": {},
     "output_type": "execute_result"
    }
   ],
   "source": [
    "network_train_probe.shape"
   ]
  },
  {
   "cell_type": "code",
   "execution_count": 50,
   "metadata": {},
   "outputs": [],
   "source": [
    "network_train_r2l=network_train[network_train['ATTACKTYPE'].isin(['NORMAL','R2L'])]"
   ]
  },
  {
   "cell_type": "code",
   "execution_count": 51,
   "metadata": {},
   "outputs": [
    {
     "data": {
      "text/plain": [
       "(68338, 122)"
      ]
     },
     "execution_count": 51,
     "metadata": {},
     "output_type": "execute_result"
    }
   ],
   "source": [
    "network_train_r2l.shape"
   ]
  },
  {
   "cell_type": "code",
   "execution_count": 52,
   "metadata": {},
   "outputs": [],
   "source": [
    "network_train_u2r=network_train[network_train['ATTACKTYPE'].isin(['NORMAL','U2R'])]"
   ]
  },
  {
   "cell_type": "code",
   "execution_count": 53,
   "metadata": {},
   "outputs": [
    {
     "data": {
      "text/plain": [
       "(67395, 122)"
      ]
     },
     "execution_count": 53,
     "metadata": {},
     "output_type": "execute_result"
    }
   ],
   "source": [
    "network_train_u2r.shape"
   ]
  },
  {
   "cell_type": "markdown",
   "metadata": {},
   "source": [
    "#### Test data"
   ]
  },
  {
   "cell_type": "code",
   "execution_count": 54,
   "metadata": {},
   "outputs": [],
   "source": [
    "network_test_dos=network_test[network_test['ATTACKTYPE'].isin(['NORMAL','DOS'])]"
   ]
  },
  {
   "cell_type": "code",
   "execution_count": 55,
   "metadata": {},
   "outputs": [
    {
     "data": {
      "text/plain": [
       "(17171, 122)"
      ]
     },
     "execution_count": 55,
     "metadata": {},
     "output_type": "execute_result"
    }
   ],
   "source": [
    "network_test_dos.shape"
   ]
  },
  {
   "cell_type": "code",
   "execution_count": 56,
   "metadata": {},
   "outputs": [],
   "source": [
    "network_test_probe=network_test[network_test['ATTACKTYPE'].isin(['NORMAL','PROBE'])]"
   ]
  },
  {
   "cell_type": "code",
   "execution_count": 57,
   "metadata": {},
   "outputs": [
    {
     "data": {
      "text/plain": [
       "(12425, 122)"
      ]
     },
     "execution_count": 57,
     "metadata": {},
     "output_type": "execute_result"
    }
   ],
   "source": [
    "network_test_probe.shape"
   ]
  },
  {
   "cell_type": "code",
   "execution_count": 58,
   "metadata": {},
   "outputs": [],
   "source": [
    "network_test_r2l=network_test[network_test['ATTACKTYPE'].isin(['NORMAL','R2L'])]"
   ]
  },
  {
   "cell_type": "code",
   "execution_count": 59,
   "metadata": {},
   "outputs": [
    {
     "data": {
      "text/plain": [
       "(12889, 122)"
      ]
     },
     "execution_count": 59,
     "metadata": {},
     "output_type": "execute_result"
    }
   ],
   "source": [
    "network_test_r2l.shape"
   ]
  },
  {
   "cell_type": "code",
   "execution_count": 60,
   "metadata": {},
   "outputs": [],
   "source": [
    "network_test_u2r=network_test[network_test['ATTACKTYPE'].isin(['NORMAL','U2R'])]"
   ]
  },
  {
   "cell_type": "code",
   "execution_count": 61,
   "metadata": {},
   "outputs": [
    {
     "data": {
      "text/plain": [
       "(10071, 122)"
      ]
     },
     "execution_count": 61,
     "metadata": {},
     "output_type": "execute_result"
    }
   ],
   "source": [
    "network_test_u2r.shape"
   ]
  },
  {
   "cell_type": "markdown",
   "metadata": {},
   "source": [
    "### Creation of dependent binary variable of ATTACKTYPE column"
   ]
  },
  {
   "cell_type": "markdown",
   "metadata": {},
   "source": [
    "#### Train"
   ]
  },
  {
   "cell_type": "code",
   "execution_count": 62,
   "metadata": {},
   "outputs": [],
   "source": [
    "network_train_dos['ATTACK_BINARY']=np.where(network_train_dos['ATTACKTYPE']=='NORMAL',0,1)"
   ]
  },
  {
   "cell_type": "code",
   "execution_count": 63,
   "metadata": {},
   "outputs": [
    {
     "data": {
      "text/plain": [
       "0    67343\n",
       "1    45927\n",
       "Name: ATTACK_BINARY, dtype: int64"
      ]
     },
     "execution_count": 63,
     "metadata": {},
     "output_type": "execute_result"
    }
   ],
   "source": [
    "network_train_dos['ATTACK_BINARY'].value_counts()"
   ]
  },
  {
   "cell_type": "code",
   "execution_count": 64,
   "metadata": {},
   "outputs": [],
   "source": [
    "network_train_probe['ATTACK_BINARY']=np.where(network_train_probe['ATTACKTYPE']=='NORMAL',0,1)"
   ]
  },
  {
   "cell_type": "code",
   "execution_count": 65,
   "metadata": {},
   "outputs": [
    {
     "data": {
      "text/plain": [
       "0    67343\n",
       "1    11656\n",
       "Name: ATTACK_BINARY, dtype: int64"
      ]
     },
     "execution_count": 65,
     "metadata": {},
     "output_type": "execute_result"
    }
   ],
   "source": [
    "network_train_probe['ATTACK_BINARY'].value_counts()"
   ]
  },
  {
   "cell_type": "code",
   "execution_count": 66,
   "metadata": {},
   "outputs": [],
   "source": [
    "network_train_r2l['ATTACK_BINARY']=np.where(network_train_r2l['ATTACKTYPE']=='NORMAL',0,1)"
   ]
  },
  {
   "cell_type": "code",
   "execution_count": 67,
   "metadata": {},
   "outputs": [
    {
     "data": {
      "text/plain": [
       "0    67343\n",
       "1      995\n",
       "Name: ATTACK_BINARY, dtype: int64"
      ]
     },
     "execution_count": 67,
     "metadata": {},
     "output_type": "execute_result"
    }
   ],
   "source": [
    "network_train_r2l['ATTACK_BINARY'].value_counts()"
   ]
  },
  {
   "cell_type": "code",
   "execution_count": 68,
   "metadata": {},
   "outputs": [],
   "source": [
    "network_train_u2r['ATTACK_BINARY']=np.where(network_train_u2r['ATTACKTYPE']=='NORMAL',0,1)"
   ]
  },
  {
   "cell_type": "code",
   "execution_count": 69,
   "metadata": {},
   "outputs": [
    {
     "data": {
      "text/plain": [
       "0    67343\n",
       "1       52\n",
       "Name: ATTACK_BINARY, dtype: int64"
      ]
     },
     "execution_count": 69,
     "metadata": {},
     "output_type": "execute_result"
    }
   ],
   "source": [
    "network_train_u2r['ATTACK_BINARY'].value_counts()"
   ]
  },
  {
   "cell_type": "markdown",
   "metadata": {},
   "source": [
    "#### Test"
   ]
  },
  {
   "cell_type": "code",
   "execution_count": 70,
   "metadata": {},
   "outputs": [],
   "source": [
    "network_test_dos['ATTACK_BINARY']=np.where(network_test_dos['ATTACKTYPE']=='NORMAL',0,1)"
   ]
  },
  {
   "cell_type": "code",
   "execution_count": 71,
   "metadata": {},
   "outputs": [
    {
     "data": {
      "text/plain": [
       "0    10004\n",
       "1     7167\n",
       "Name: ATTACK_BINARY, dtype: int64"
      ]
     },
     "execution_count": 71,
     "metadata": {},
     "output_type": "execute_result"
    }
   ],
   "source": [
    "network_test_dos['ATTACK_BINARY'].value_counts()"
   ]
  },
  {
   "cell_type": "code",
   "execution_count": 72,
   "metadata": {},
   "outputs": [],
   "source": [
    "network_test_probe['ATTACK_BINARY']=np.where(network_test_probe['ATTACKTYPE']=='NORMAL',0,1)"
   ]
  },
  {
   "cell_type": "code",
   "execution_count": 73,
   "metadata": {},
   "outputs": [
    {
     "data": {
      "text/plain": [
       "0    10004\n",
       "1     2421\n",
       "Name: ATTACK_BINARY, dtype: int64"
      ]
     },
     "execution_count": 73,
     "metadata": {},
     "output_type": "execute_result"
    }
   ],
   "source": [
    "network_test_probe['ATTACK_BINARY'].value_counts()"
   ]
  },
  {
   "cell_type": "code",
   "execution_count": 74,
   "metadata": {},
   "outputs": [],
   "source": [
    "network_test_r2l['ATTACK_BINARY']=np.where(network_test_r2l['ATTACKTYPE']=='NORMAL',0,1)"
   ]
  },
  {
   "cell_type": "code",
   "execution_count": 75,
   "metadata": {},
   "outputs": [
    {
     "data": {
      "text/plain": [
       "0    10004\n",
       "1     2885\n",
       "Name: ATTACK_BINARY, dtype: int64"
      ]
     },
     "execution_count": 75,
     "metadata": {},
     "output_type": "execute_result"
    }
   ],
   "source": [
    "network_test_r2l['ATTACK_BINARY'].value_counts()"
   ]
  },
  {
   "cell_type": "code",
   "execution_count": 76,
   "metadata": {},
   "outputs": [],
   "source": [
    "network_test_u2r['ATTACK_BINARY']=np.where(network_test_u2r['ATTACKTYPE']=='NORMAL',0,1)"
   ]
  },
  {
   "cell_type": "code",
   "execution_count": 77,
   "metadata": {},
   "outputs": [
    {
     "data": {
      "text/plain": [
       "0    10004\n",
       "1       67\n",
       "Name: ATTACK_BINARY, dtype: int64"
      ]
     },
     "execution_count": 77,
     "metadata": {},
     "output_type": "execute_result"
    }
   ],
   "source": [
    "network_test_u2r['ATTACK_BINARY'].value_counts()"
   ]
  },
  {
   "cell_type": "markdown",
   "metadata": {},
   "source": [
    "### Removing ATTACK AND ATTACKTYPE duplicate columns"
   ]
  },
  {
   "cell_type": "markdown",
   "metadata": {},
   "source": [
    "#### Train"
   ]
  },
  {
   "cell_type": "code",
   "execution_count": 78,
   "metadata": {},
   "outputs": [
    {
     "data": {
      "text/plain": [
       "(125973, 122)"
      ]
     },
     "execution_count": 78,
     "metadata": {},
     "output_type": "execute_result"
    }
   ],
   "source": [
    "network_train.shape"
   ]
  },
  {
   "cell_type": "code",
   "execution_count": 79,
   "metadata": {},
   "outputs": [
    {
     "data": {
      "text/plain": [
       "(113270, 123)"
      ]
     },
     "execution_count": 79,
     "metadata": {},
     "output_type": "execute_result"
    }
   ],
   "source": [
    "network_train_dos.shape"
   ]
  },
  {
   "cell_type": "code",
   "execution_count": 80,
   "metadata": {},
   "outputs": [
    {
     "data": {
      "text/plain": [
       "(78999, 123)"
      ]
     },
     "execution_count": 80,
     "metadata": {},
     "output_type": "execute_result"
    }
   ],
   "source": [
    "network_train_probe.shape"
   ]
  },
  {
   "cell_type": "code",
   "execution_count": 81,
   "metadata": {},
   "outputs": [
    {
     "data": {
      "text/plain": [
       "(68338, 123)"
      ]
     },
     "execution_count": 81,
     "metadata": {},
     "output_type": "execute_result"
    }
   ],
   "source": [
    "network_train_r2l.shape"
   ]
  },
  {
   "cell_type": "code",
   "execution_count": 82,
   "metadata": {},
   "outputs": [
    {
     "data": {
      "text/plain": [
       "(67395, 123)"
      ]
     },
     "execution_count": 82,
     "metadata": {},
     "output_type": "execute_result"
    }
   ],
   "source": [
    "network_train_u2r.shape"
   ]
  },
  {
   "cell_type": "code",
   "execution_count": 83,
   "metadata": {},
   "outputs": [],
   "source": [
    "network_train_dos1 = network_train_dos.drop(columns=['ATTACK','ATTACKTYPE'],axis=1)"
   ]
  },
  {
   "cell_type": "code",
   "execution_count": 84,
   "metadata": {},
   "outputs": [
    {
     "data": {
      "text/plain": [
       "(113270, 121)"
      ]
     },
     "execution_count": 84,
     "metadata": {},
     "output_type": "execute_result"
    }
   ],
   "source": [
    "network_train_dos1.shape"
   ]
  },
  {
   "cell_type": "code",
   "execution_count": 85,
   "metadata": {},
   "outputs": [],
   "source": [
    "network_train_probe1 = network_train_probe.drop(columns=['ATTACK','ATTACKTYPE'],axis=1)"
   ]
  },
  {
   "cell_type": "code",
   "execution_count": 86,
   "metadata": {},
   "outputs": [
    {
     "data": {
      "text/plain": [
       "(78999, 121)"
      ]
     },
     "execution_count": 86,
     "metadata": {},
     "output_type": "execute_result"
    }
   ],
   "source": [
    "network_train_probe1.shape"
   ]
  },
  {
   "cell_type": "code",
   "execution_count": 87,
   "metadata": {},
   "outputs": [],
   "source": [
    "network_train_r2l1 = network_train_r2l.drop(columns=['ATTACK','ATTACKTYPE'],axis=1)"
   ]
  },
  {
   "cell_type": "code",
   "execution_count": 88,
   "metadata": {},
   "outputs": [
    {
     "data": {
      "text/plain": [
       "(68338, 121)"
      ]
     },
     "execution_count": 88,
     "metadata": {},
     "output_type": "execute_result"
    }
   ],
   "source": [
    "network_train_r2l1.shape"
   ]
  },
  {
   "cell_type": "code",
   "execution_count": 89,
   "metadata": {},
   "outputs": [],
   "source": [
    "network_train_u2r1 = network_train_u2r.drop(columns=['ATTACK','ATTACKTYPE'],axis=1)"
   ]
  },
  {
   "cell_type": "code",
   "execution_count": 90,
   "metadata": {},
   "outputs": [
    {
     "data": {
      "text/plain": [
       "(67395, 121)"
      ]
     },
     "execution_count": 90,
     "metadata": {},
     "output_type": "execute_result"
    }
   ],
   "source": [
    "network_train_u2r1.shape"
   ]
  },
  {
   "cell_type": "markdown",
   "metadata": {},
   "source": [
    "#### Test"
   ]
  },
  {
   "cell_type": "code",
   "execution_count": 91,
   "metadata": {},
   "outputs": [
    {
     "data": {
      "text/plain": [
       "(22544, 122)"
      ]
     },
     "execution_count": 91,
     "metadata": {},
     "output_type": "execute_result"
    }
   ],
   "source": [
    "network_test.shape"
   ]
  },
  {
   "cell_type": "code",
   "execution_count": 92,
   "metadata": {},
   "outputs": [
    {
     "data": {
      "text/plain": [
       "(17171, 123)"
      ]
     },
     "execution_count": 92,
     "metadata": {},
     "output_type": "execute_result"
    }
   ],
   "source": [
    "network_test_dos.shape"
   ]
  },
  {
   "cell_type": "code",
   "execution_count": 93,
   "metadata": {},
   "outputs": [
    {
     "data": {
      "text/plain": [
       "(12425, 123)"
      ]
     },
     "execution_count": 93,
     "metadata": {},
     "output_type": "execute_result"
    }
   ],
   "source": [
    "network_test_probe.shape"
   ]
  },
  {
   "cell_type": "code",
   "execution_count": 94,
   "metadata": {},
   "outputs": [
    {
     "data": {
      "text/plain": [
       "(12889, 123)"
      ]
     },
     "execution_count": 94,
     "metadata": {},
     "output_type": "execute_result"
    }
   ],
   "source": [
    "network_test_r2l.shape"
   ]
  },
  {
   "cell_type": "code",
   "execution_count": 95,
   "metadata": {},
   "outputs": [
    {
     "data": {
      "text/plain": [
       "(10071, 123)"
      ]
     },
     "execution_count": 95,
     "metadata": {},
     "output_type": "execute_result"
    }
   ],
   "source": [
    "network_test_u2r.shape"
   ]
  },
  {
   "cell_type": "code",
   "execution_count": 96,
   "metadata": {},
   "outputs": [],
   "source": [
    "network_test_dos1 = network_test_dos.drop(columns=['ATTACK','ATTACKTYPE'],axis=1)"
   ]
  },
  {
   "cell_type": "code",
   "execution_count": 97,
   "metadata": {},
   "outputs": [
    {
     "data": {
      "text/plain": [
       "(17171, 121)"
      ]
     },
     "execution_count": 97,
     "metadata": {},
     "output_type": "execute_result"
    }
   ],
   "source": [
    "network_test_dos1.shape"
   ]
  },
  {
   "cell_type": "code",
   "execution_count": 98,
   "metadata": {},
   "outputs": [],
   "source": [
    "network_test_probe1 = network_test_probe.drop(columns=['ATTACK','ATTACKTYPE'],axis=1)"
   ]
  },
  {
   "cell_type": "code",
   "execution_count": 99,
   "metadata": {},
   "outputs": [
    {
     "data": {
      "text/plain": [
       "(12425, 121)"
      ]
     },
     "execution_count": 99,
     "metadata": {},
     "output_type": "execute_result"
    }
   ],
   "source": [
    "network_test_probe1.shape"
   ]
  },
  {
   "cell_type": "code",
   "execution_count": 100,
   "metadata": {},
   "outputs": [],
   "source": [
    "network_test_r2l1 = network_test_r2l.drop(columns=['ATTACK','ATTACKTYPE'],axis=1)"
   ]
  },
  {
   "cell_type": "code",
   "execution_count": 101,
   "metadata": {},
   "outputs": [
    {
     "data": {
      "text/plain": [
       "(12889, 121)"
      ]
     },
     "execution_count": 101,
     "metadata": {},
     "output_type": "execute_result"
    }
   ],
   "source": [
    "network_test_r2l1.shape"
   ]
  },
  {
   "cell_type": "code",
   "execution_count": 102,
   "metadata": {},
   "outputs": [],
   "source": [
    "network_test_u2r1 = network_test_u2r.drop(columns=['ATTACK','ATTACKTYPE'],axis=1)"
   ]
  },
  {
   "cell_type": "code",
   "execution_count": 103,
   "metadata": {},
   "outputs": [
    {
     "data": {
      "text/plain": [
       "(10071, 121)"
      ]
     },
     "execution_count": 103,
     "metadata": {},
     "output_type": "execute_result"
    }
   ],
   "source": [
    "network_test_u2r1.shape"
   ]
  },
  {
   "cell_type": "markdown",
   "metadata": {},
   "source": [
    "### Separation of variables into independent and dependent variables"
   ]
  },
  {
   "cell_type": "markdown",
   "metadata": {},
   "source": [
    "#### Train"
   ]
  },
  {
   "cell_type": "code",
   "execution_count": 104,
   "metadata": {},
   "outputs": [],
   "source": [
    "network_train_dos1_X=network_train_dos1[network_train_dos1.columns.difference(['ATTACK_BINARY']).tolist()]"
   ]
  },
  {
   "cell_type": "code",
   "execution_count": 105,
   "metadata": {},
   "outputs": [
    {
     "data": {
      "text/plain": [
       "(113270, 120)"
      ]
     },
     "execution_count": 105,
     "metadata": {},
     "output_type": "execute_result"
    }
   ],
   "source": [
    "network_train_dos1_X.shape"
   ]
  },
  {
   "cell_type": "code",
   "execution_count": 106,
   "metadata": {},
   "outputs": [],
   "source": [
    "network_train_dos1_Y=network_train_dos1['ATTACK_BINARY']"
   ]
  },
  {
   "cell_type": "code",
   "execution_count": 107,
   "metadata": {},
   "outputs": [
    {
     "data": {
      "text/plain": [
       "(113270,)"
      ]
     },
     "execution_count": 107,
     "metadata": {},
     "output_type": "execute_result"
    }
   ],
   "source": [
    "network_train_dos1_Y.shape"
   ]
  },
  {
   "cell_type": "code",
   "execution_count": 108,
   "metadata": {},
   "outputs": [],
   "source": [
    "network_train_probe1_X=network_train_probe1[network_train_probe1.columns.difference(['ATTACK_BINARY']).tolist()]"
   ]
  },
  {
   "cell_type": "code",
   "execution_count": 109,
   "metadata": {},
   "outputs": [
    {
     "data": {
      "text/plain": [
       "(78999, 120)"
      ]
     },
     "execution_count": 109,
     "metadata": {},
     "output_type": "execute_result"
    }
   ],
   "source": [
    "network_train_probe1_X.shape"
   ]
  },
  {
   "cell_type": "code",
   "execution_count": 110,
   "metadata": {},
   "outputs": [],
   "source": [
    "network_train_probe1_Y=network_train_probe1['ATTACK_BINARY']"
   ]
  },
  {
   "cell_type": "code",
   "execution_count": 111,
   "metadata": {},
   "outputs": [
    {
     "data": {
      "text/plain": [
       "(78999,)"
      ]
     },
     "execution_count": 111,
     "metadata": {},
     "output_type": "execute_result"
    }
   ],
   "source": [
    "network_train_probe1_Y.shape"
   ]
  },
  {
   "cell_type": "code",
   "execution_count": 112,
   "metadata": {},
   "outputs": [],
   "source": [
    "network_train_r2l1_X=network_train_r2l1[network_train_r2l1.columns.difference(['ATTACK_BINARY']).tolist()]"
   ]
  },
  {
   "cell_type": "code",
   "execution_count": 113,
   "metadata": {},
   "outputs": [
    {
     "data": {
      "text/plain": [
       "(68338, 120)"
      ]
     },
     "execution_count": 113,
     "metadata": {},
     "output_type": "execute_result"
    }
   ],
   "source": [
    "network_train_r2l1_X.shape"
   ]
  },
  {
   "cell_type": "code",
   "execution_count": 114,
   "metadata": {},
   "outputs": [],
   "source": [
    "network_train_r2l1_Y=network_train_r2l1['ATTACK_BINARY']"
   ]
  },
  {
   "cell_type": "code",
   "execution_count": 115,
   "metadata": {},
   "outputs": [
    {
     "data": {
      "text/plain": [
       "(68338,)"
      ]
     },
     "execution_count": 115,
     "metadata": {},
     "output_type": "execute_result"
    }
   ],
   "source": [
    "network_train_r2l1_Y.shape"
   ]
  },
  {
   "cell_type": "code",
   "execution_count": 116,
   "metadata": {},
   "outputs": [],
   "source": [
    "network_train_u2r1_X=network_train_u2r1[network_train_u2r1.columns.difference(['ATTACK_BINARY']).tolist()]"
   ]
  },
  {
   "cell_type": "code",
   "execution_count": 117,
   "metadata": {},
   "outputs": [
    {
     "data": {
      "text/plain": [
       "(67395, 120)"
      ]
     },
     "execution_count": 117,
     "metadata": {},
     "output_type": "execute_result"
    }
   ],
   "source": [
    "network_train_u2r1_X.shape"
   ]
  },
  {
   "cell_type": "code",
   "execution_count": 118,
   "metadata": {},
   "outputs": [],
   "source": [
    "network_train_u2r1_Y=network_train_u2r1['ATTACK_BINARY']"
   ]
  },
  {
   "cell_type": "code",
   "execution_count": 119,
   "metadata": {},
   "outputs": [
    {
     "data": {
      "text/plain": [
       "(67395,)"
      ]
     },
     "execution_count": 119,
     "metadata": {},
     "output_type": "execute_result"
    }
   ],
   "source": [
    "network_train_u2r1_Y.shape"
   ]
  },
  {
   "cell_type": "code",
   "execution_count": null,
   "metadata": {},
   "outputs": [],
   "source": []
  },
  {
   "cell_type": "markdown",
   "metadata": {},
   "source": [
    "### Resampling of U2R cases"
   ]
  },
  {
   "cell_type": "code",
   "execution_count": 120,
   "metadata": {},
   "outputs": [],
   "source": [
    "from sklearn.utils import resample"
   ]
  },
  {
   "cell_type": "code",
   "execution_count": 121,
   "metadata": {},
   "outputs": [
    {
     "data": {
      "text/plain": [
       "0   0.999\n",
       "1   0.001\n",
       "Name: ATTACK_BINARY, dtype: float64"
      ]
     },
     "execution_count": 121,
     "metadata": {},
     "output_type": "execute_result"
    }
   ],
   "source": [
    "network_train_u2r1['ATTACK_BINARY'].value_counts()/network_train_u2r1['ATTACK_BINARY'].count()"
   ]
  },
  {
   "cell_type": "code",
   "execution_count": 122,
   "metadata": {},
   "outputs": [],
   "source": [
    "df_majority_u2r = network_train_u2r1[network_train_u2r1['ATTACK_BINARY']==0]\n",
    "df_minority_u2r = network_train_u2r1[network_train_u2r1['ATTACK_BINARY']==1]"
   ]
  },
  {
   "cell_type": "code",
   "execution_count": 123,
   "metadata": {},
   "outputs": [
    {
     "data": {
      "text/plain": [
       "67343"
      ]
     },
     "execution_count": 123,
     "metadata": {},
     "output_type": "execute_result"
    }
   ],
   "source": [
    "df_majority_u2r['ATTACK_BINARY'].count()"
   ]
  },
  {
   "cell_type": "code",
   "execution_count": 124,
   "metadata": {},
   "outputs": [
    {
     "data": {
      "text/plain": [
       "52"
      ]
     },
     "execution_count": 124,
     "metadata": {},
     "output_type": "execute_result"
    }
   ],
   "source": [
    "df_minority_u2r['ATTACK_BINARY'].count()"
   ]
  },
  {
   "cell_type": "code",
   "execution_count": 125,
   "metadata": {},
   "outputs": [],
   "source": [
    "# Upsample minority class\n",
    "df_minority_upsampled_u2r = resample(df_minority_u2r, \n",
    "                                 replace=True,     # sample with replacement\n",
    "                                 n_samples=67343,    # to match majority class\n",
    "                                 random_state=103) # reproducible results"
   ]
  },
  {
   "cell_type": "code",
   "execution_count": 126,
   "metadata": {},
   "outputs": [
    {
     "data": {
      "text/html": [
       "<div>\n",
       "<style scoped>\n",
       "    .dataframe tbody tr th:only-of-type {\n",
       "        vertical-align: middle;\n",
       "    }\n",
       "\n",
       "    .dataframe tbody tr th {\n",
       "        vertical-align: top;\n",
       "    }\n",
       "\n",
       "    .dataframe thead th {\n",
       "        text-align: right;\n",
       "    }\n",
       "</style>\n",
       "<table border=\"1\" class=\"dataframe\">\n",
       "  <thead>\n",
       "    <tr style=\"text-align: right;\">\n",
       "      <th></th>\n",
       "      <th>DURATION</th>\n",
       "      <th>SRC_BYTES</th>\n",
       "      <th>DST_BYTES</th>\n",
       "      <th>LAND</th>\n",
       "      <th>WRONG_FRAGMENT</th>\n",
       "      <th>URGENT</th>\n",
       "      <th>HOT</th>\n",
       "      <th>NUM_FAILED_LOGINS</th>\n",
       "      <th>LOGGED_IN</th>\n",
       "      <th>NUM_COMPROMISED</th>\n",
       "      <th>ROOT_SHELL</th>\n",
       "      <th>SU_ATTEMPTED</th>\n",
       "      <th>NUM_ROOT</th>\n",
       "      <th>NUM_FILE_CREATIONS</th>\n",
       "      <th>NUM_SHELLS</th>\n",
       "      <th>NUM_ACCESS_FILES</th>\n",
       "      <th>NUM_OUTBOUND_CMDS</th>\n",
       "      <th>IS_HOST_LOGIN</th>\n",
       "      <th>IS_GUEST_LOGIN</th>\n",
       "      <th>COUNT</th>\n",
       "      <th>SRV_COUNT</th>\n",
       "      <th>SERROR_RATE</th>\n",
       "      <th>SRV_SERROR_RATE</th>\n",
       "      <th>RERROR_RATE</th>\n",
       "      <th>SRV_RERROR_RATE</th>\n",
       "      <th>SAME_SRV_RATE</th>\n",
       "      <th>DIFF_SRV_RATE</th>\n",
       "      <th>SRV_DIFF_HOST_RATE</th>\n",
       "      <th>DST_HOST_COUNT</th>\n",
       "      <th>DST_HOST_SRV_COUNT</th>\n",
       "      <th>DST_HOST_SAME_SRV_RATE</th>\n",
       "      <th>DST_HOST_DIFF_SRV_RATE</th>\n",
       "      <th>DST_HOST_SAME_SRC_PORT_RATE</th>\n",
       "      <th>DST_HOST_SRV_DIFF_HOST_RATE</th>\n",
       "      <th>DST_HOST_SERROR_RATE</th>\n",
       "      <th>DST_HOST_SRV_SERROR_RATE</th>\n",
       "      <th>DST_HOST_RERROR_RATE</th>\n",
       "      <th>DST_HOST_SRV_RERROR_RATE</th>\n",
       "      <th>LAST_FLAG</th>\n",
       "      <th>PROTOCOL_TYPE_tcp</th>\n",
       "      <th>PROTOCOL_TYPE_udp</th>\n",
       "      <th>SERVICE_X11</th>\n",
       "      <th>SERVICE_Z39_50</th>\n",
       "      <th>SERVICE_aol</th>\n",
       "      <th>SERVICE_auth</th>\n",
       "      <th>SERVICE_bgp</th>\n",
       "      <th>SERVICE_courier</th>\n",
       "      <th>SERVICE_csnet_ns</th>\n",
       "      <th>SERVICE_ctf</th>\n",
       "      <th>SERVICE_daytime</th>\n",
       "      <th>SERVICE_discard</th>\n",
       "      <th>SERVICE_domain</th>\n",
       "      <th>SERVICE_domain_u</th>\n",
       "      <th>SERVICE_echo</th>\n",
       "      <th>SERVICE_eco_i</th>\n",
       "      <th>SERVICE_ecr_i</th>\n",
       "      <th>SERVICE_efs</th>\n",
       "      <th>SERVICE_exec</th>\n",
       "      <th>SERVICE_finger</th>\n",
       "      <th>SERVICE_ftp</th>\n",
       "      <th>SERVICE_ftp_data</th>\n",
       "      <th>SERVICE_gopher</th>\n",
       "      <th>SERVICE_harvest</th>\n",
       "      <th>SERVICE_hostnames</th>\n",
       "      <th>SERVICE_http</th>\n",
       "      <th>SERVICE_http_2784</th>\n",
       "      <th>SERVICE_http_443</th>\n",
       "      <th>SERVICE_http_8001</th>\n",
       "      <th>SERVICE_imap4</th>\n",
       "      <th>SERVICE_iso_tsap</th>\n",
       "      <th>SERVICE_klogin</th>\n",
       "      <th>SERVICE_kshell</th>\n",
       "      <th>SERVICE_ldap</th>\n",
       "      <th>SERVICE_link</th>\n",
       "      <th>SERVICE_login</th>\n",
       "      <th>SERVICE_mtp</th>\n",
       "      <th>SERVICE_name</th>\n",
       "      <th>SERVICE_netbios_dgm</th>\n",
       "      <th>SERVICE_netbios_ns</th>\n",
       "      <th>SERVICE_netbios_ssn</th>\n",
       "      <th>SERVICE_netstat</th>\n",
       "      <th>SERVICE_nnsp</th>\n",
       "      <th>SERVICE_nntp</th>\n",
       "      <th>SERVICE_ntp_u</th>\n",
       "      <th>SERVICE_other</th>\n",
       "      <th>SERVICE_pm_dump</th>\n",
       "      <th>SERVICE_pop_2</th>\n",
       "      <th>SERVICE_pop_3</th>\n",
       "      <th>SERVICE_printer</th>\n",
       "      <th>SERVICE_private</th>\n",
       "      <th>SERVICE_red_i</th>\n",
       "      <th>SERVICE_remote_job</th>\n",
       "      <th>SERVICE_rje</th>\n",
       "      <th>SERVICE_shell</th>\n",
       "      <th>SERVICE_smtp</th>\n",
       "      <th>SERVICE_sql_net</th>\n",
       "      <th>SERVICE_ssh</th>\n",
       "      <th>SERVICE_sunrpc</th>\n",
       "      <th>SERVICE_supdup</th>\n",
       "      <th>SERVICE_systat</th>\n",
       "      <th>SERVICE_telnet</th>\n",
       "      <th>SERVICE_tftp_u</th>\n",
       "      <th>SERVICE_tim_i</th>\n",
       "      <th>SERVICE_time</th>\n",
       "      <th>SERVICE_urh_i</th>\n",
       "      <th>SERVICE_urp_i</th>\n",
       "      <th>SERVICE_uucp</th>\n",
       "      <th>SERVICE_uucp_path</th>\n",
       "      <th>SERVICE_vmnet</th>\n",
       "      <th>SERVICE_whois</th>\n",
       "      <th>FLAG_REJ</th>\n",
       "      <th>FLAG_RSTO</th>\n",
       "      <th>FLAG_RSTOS0</th>\n",
       "      <th>FLAG_RSTR</th>\n",
       "      <th>FLAG_S0</th>\n",
       "      <th>FLAG_S1</th>\n",
       "      <th>FLAG_S2</th>\n",
       "      <th>FLAG_S3</th>\n",
       "      <th>FLAG_SF</th>\n",
       "      <th>FLAG_SH</th>\n",
       "      <th>ATTACK_BINARY</th>\n",
       "    </tr>\n",
       "  </thead>\n",
       "  <tbody>\n",
       "    <tr>\n",
       "      <td>15931</td>\n",
       "      <td>169</td>\n",
       "      <td>1567</td>\n",
       "      <td>2857</td>\n",
       "      <td>0</td>\n",
       "      <td>0</td>\n",
       "      <td>0</td>\n",
       "      <td>3</td>\n",
       "      <td>0</td>\n",
       "      <td>1</td>\n",
       "      <td>4</td>\n",
       "      <td>1</td>\n",
       "      <td>0</td>\n",
       "      <td>0</td>\n",
       "      <td>1</td>\n",
       "      <td>0</td>\n",
       "      <td>0</td>\n",
       "      <td>0</td>\n",
       "      <td>0</td>\n",
       "      <td>0</td>\n",
       "      <td>1</td>\n",
       "      <td>1</td>\n",
       "      <td>0.000</td>\n",
       "      <td>0.000</td>\n",
       "      <td>0.000</td>\n",
       "      <td>0.000</td>\n",
       "      <td>1.000</td>\n",
       "      <td>0.000</td>\n",
       "      <td>0.000</td>\n",
       "      <td>1</td>\n",
       "      <td>1</td>\n",
       "      <td>1.000</td>\n",
       "      <td>0.000</td>\n",
       "      <td>1.000</td>\n",
       "      <td>0.000</td>\n",
       "      <td>0.000</td>\n",
       "      <td>0.000</td>\n",
       "      <td>0.000</td>\n",
       "      <td>0.000</td>\n",
       "      <td>3</td>\n",
       "      <td>1</td>\n",
       "      <td>0</td>\n",
       "      <td>0</td>\n",
       "      <td>0</td>\n",
       "      <td>0</td>\n",
       "      <td>0</td>\n",
       "      <td>0</td>\n",
       "      <td>0</td>\n",
       "      <td>0</td>\n",
       "      <td>0</td>\n",
       "      <td>0</td>\n",
       "      <td>0</td>\n",
       "      <td>0</td>\n",
       "      <td>0</td>\n",
       "      <td>0</td>\n",
       "      <td>0</td>\n",
       "      <td>0</td>\n",
       "      <td>0</td>\n",
       "      <td>0</td>\n",
       "      <td>0</td>\n",
       "      <td>0</td>\n",
       "      <td>0</td>\n",
       "      <td>0</td>\n",
       "      <td>0</td>\n",
       "      <td>0</td>\n",
       "      <td>0</td>\n",
       "      <td>0</td>\n",
       "      <td>0</td>\n",
       "      <td>0</td>\n",
       "      <td>0</td>\n",
       "      <td>0</td>\n",
       "      <td>0</td>\n",
       "      <td>0</td>\n",
       "      <td>0</td>\n",
       "      <td>0</td>\n",
       "      <td>0</td>\n",
       "      <td>0</td>\n",
       "      <td>0</td>\n",
       "      <td>0</td>\n",
       "      <td>0</td>\n",
       "      <td>0</td>\n",
       "      <td>0</td>\n",
       "      <td>0</td>\n",
       "      <td>0</td>\n",
       "      <td>0</td>\n",
       "      <td>0</td>\n",
       "      <td>0</td>\n",
       "      <td>0</td>\n",
       "      <td>0</td>\n",
       "      <td>0</td>\n",
       "      <td>0</td>\n",
       "      <td>0</td>\n",
       "      <td>0</td>\n",
       "      <td>0</td>\n",
       "      <td>0</td>\n",
       "      <td>0</td>\n",
       "      <td>0</td>\n",
       "      <td>0</td>\n",
       "      <td>0</td>\n",
       "      <td>0</td>\n",
       "      <td>0</td>\n",
       "      <td>1</td>\n",
       "      <td>0</td>\n",
       "      <td>0</td>\n",
       "      <td>0</td>\n",
       "      <td>0</td>\n",
       "      <td>0</td>\n",
       "      <td>0</td>\n",
       "      <td>0</td>\n",
       "      <td>0</td>\n",
       "      <td>0</td>\n",
       "      <td>0</td>\n",
       "      <td>0</td>\n",
       "      <td>0</td>\n",
       "      <td>0</td>\n",
       "      <td>0</td>\n",
       "      <td>0</td>\n",
       "      <td>0</td>\n",
       "      <td>0</td>\n",
       "      <td>1</td>\n",
       "      <td>0</td>\n",
       "      <td>1</td>\n",
       "    </tr>\n",
       "    <tr>\n",
       "      <td>16983</td>\n",
       "      <td>0</td>\n",
       "      <td>4</td>\n",
       "      <td>0</td>\n",
       "      <td>0</td>\n",
       "      <td>0</td>\n",
       "      <td>0</td>\n",
       "      <td>0</td>\n",
       "      <td>0</td>\n",
       "      <td>0</td>\n",
       "      <td>0</td>\n",
       "      <td>0</td>\n",
       "      <td>0</td>\n",
       "      <td>0</td>\n",
       "      <td>0</td>\n",
       "      <td>0</td>\n",
       "      <td>0</td>\n",
       "      <td>0</td>\n",
       "      <td>0</td>\n",
       "      <td>0</td>\n",
       "      <td>2</td>\n",
       "      <td>2</td>\n",
       "      <td>0.000</td>\n",
       "      <td>0.000</td>\n",
       "      <td>0.000</td>\n",
       "      <td>0.000</td>\n",
       "      <td>1.000</td>\n",
       "      <td>0.000</td>\n",
       "      <td>0.000</td>\n",
       "      <td>2</td>\n",
       "      <td>2</td>\n",
       "      <td>1.000</td>\n",
       "      <td>0.000</td>\n",
       "      <td>0.500</td>\n",
       "      <td>0.000</td>\n",
       "      <td>0.000</td>\n",
       "      <td>0.000</td>\n",
       "      <td>0.000</td>\n",
       "      <td>0.000</td>\n",
       "      <td>1</td>\n",
       "      <td>0</td>\n",
       "      <td>1</td>\n",
       "      <td>0</td>\n",
       "      <td>0</td>\n",
       "      <td>0</td>\n",
       "      <td>0</td>\n",
       "      <td>0</td>\n",
       "      <td>0</td>\n",
       "      <td>0</td>\n",
       "      <td>0</td>\n",
       "      <td>0</td>\n",
       "      <td>0</td>\n",
       "      <td>0</td>\n",
       "      <td>0</td>\n",
       "      <td>0</td>\n",
       "      <td>0</td>\n",
       "      <td>0</td>\n",
       "      <td>0</td>\n",
       "      <td>0</td>\n",
       "      <td>0</td>\n",
       "      <td>0</td>\n",
       "      <td>0</td>\n",
       "      <td>0</td>\n",
       "      <td>0</td>\n",
       "      <td>0</td>\n",
       "      <td>0</td>\n",
       "      <td>0</td>\n",
       "      <td>0</td>\n",
       "      <td>0</td>\n",
       "      <td>0</td>\n",
       "      <td>0</td>\n",
       "      <td>0</td>\n",
       "      <td>0</td>\n",
       "      <td>0</td>\n",
       "      <td>0</td>\n",
       "      <td>0</td>\n",
       "      <td>0</td>\n",
       "      <td>0</td>\n",
       "      <td>0</td>\n",
       "      <td>0</td>\n",
       "      <td>0</td>\n",
       "      <td>0</td>\n",
       "      <td>0</td>\n",
       "      <td>0</td>\n",
       "      <td>0</td>\n",
       "      <td>1</td>\n",
       "      <td>0</td>\n",
       "      <td>0</td>\n",
       "      <td>0</td>\n",
       "      <td>0</td>\n",
       "      <td>0</td>\n",
       "      <td>0</td>\n",
       "      <td>0</td>\n",
       "      <td>0</td>\n",
       "      <td>0</td>\n",
       "      <td>0</td>\n",
       "      <td>0</td>\n",
       "      <td>0</td>\n",
       "      <td>0</td>\n",
       "      <td>0</td>\n",
       "      <td>0</td>\n",
       "      <td>0</td>\n",
       "      <td>0</td>\n",
       "      <td>0</td>\n",
       "      <td>0</td>\n",
       "      <td>0</td>\n",
       "      <td>0</td>\n",
       "      <td>0</td>\n",
       "      <td>0</td>\n",
       "      <td>0</td>\n",
       "      <td>0</td>\n",
       "      <td>0</td>\n",
       "      <td>0</td>\n",
       "      <td>0</td>\n",
       "      <td>0</td>\n",
       "      <td>0</td>\n",
       "      <td>0</td>\n",
       "      <td>0</td>\n",
       "      <td>0</td>\n",
       "      <td>1</td>\n",
       "      <td>0</td>\n",
       "      <td>1</td>\n",
       "    </tr>\n",
       "    <tr>\n",
       "      <td>42396</td>\n",
       "      <td>321</td>\n",
       "      <td>1506</td>\n",
       "      <td>1887</td>\n",
       "      <td>0</td>\n",
       "      <td>0</td>\n",
       "      <td>0</td>\n",
       "      <td>0</td>\n",
       "      <td>0</td>\n",
       "      <td>1</td>\n",
       "      <td>0</td>\n",
       "      <td>0</td>\n",
       "      <td>0</td>\n",
       "      <td>0</td>\n",
       "      <td>1</td>\n",
       "      <td>0</td>\n",
       "      <td>0</td>\n",
       "      <td>0</td>\n",
       "      <td>0</td>\n",
       "      <td>0</td>\n",
       "      <td>151</td>\n",
       "      <td>1</td>\n",
       "      <td>0.990</td>\n",
       "      <td>0.000</td>\n",
       "      <td>0.010</td>\n",
       "      <td>1.000</td>\n",
       "      <td>0.010</td>\n",
       "      <td>0.060</td>\n",
       "      <td>0.000</td>\n",
       "      <td>6</td>\n",
       "      <td>6</td>\n",
       "      <td>1.000</td>\n",
       "      <td>0.000</td>\n",
       "      <td>0.170</td>\n",
       "      <td>0.000</td>\n",
       "      <td>0.000</td>\n",
       "      <td>0.000</td>\n",
       "      <td>0.170</td>\n",
       "      <td>0.170</td>\n",
       "      <td>5</td>\n",
       "      <td>1</td>\n",
       "      <td>0</td>\n",
       "      <td>0</td>\n",
       "      <td>0</td>\n",
       "      <td>0</td>\n",
       "      <td>0</td>\n",
       "      <td>0</td>\n",
       "      <td>0</td>\n",
       "      <td>0</td>\n",
       "      <td>0</td>\n",
       "      <td>0</td>\n",
       "      <td>0</td>\n",
       "      <td>0</td>\n",
       "      <td>0</td>\n",
       "      <td>0</td>\n",
       "      <td>0</td>\n",
       "      <td>0</td>\n",
       "      <td>0</td>\n",
       "      <td>0</td>\n",
       "      <td>0</td>\n",
       "      <td>0</td>\n",
       "      <td>0</td>\n",
       "      <td>0</td>\n",
       "      <td>0</td>\n",
       "      <td>0</td>\n",
       "      <td>0</td>\n",
       "      <td>0</td>\n",
       "      <td>0</td>\n",
       "      <td>0</td>\n",
       "      <td>0</td>\n",
       "      <td>0</td>\n",
       "      <td>0</td>\n",
       "      <td>0</td>\n",
       "      <td>0</td>\n",
       "      <td>0</td>\n",
       "      <td>0</td>\n",
       "      <td>0</td>\n",
       "      <td>0</td>\n",
       "      <td>0</td>\n",
       "      <td>0</td>\n",
       "      <td>0</td>\n",
       "      <td>0</td>\n",
       "      <td>0</td>\n",
       "      <td>0</td>\n",
       "      <td>0</td>\n",
       "      <td>0</td>\n",
       "      <td>0</td>\n",
       "      <td>0</td>\n",
       "      <td>0</td>\n",
       "      <td>0</td>\n",
       "      <td>0</td>\n",
       "      <td>0</td>\n",
       "      <td>0</td>\n",
       "      <td>0</td>\n",
       "      <td>0</td>\n",
       "      <td>0</td>\n",
       "      <td>0</td>\n",
       "      <td>0</td>\n",
       "      <td>0</td>\n",
       "      <td>0</td>\n",
       "      <td>0</td>\n",
       "      <td>1</td>\n",
       "      <td>0</td>\n",
       "      <td>0</td>\n",
       "      <td>0</td>\n",
       "      <td>0</td>\n",
       "      <td>0</td>\n",
       "      <td>0</td>\n",
       "      <td>0</td>\n",
       "      <td>0</td>\n",
       "      <td>0</td>\n",
       "      <td>0</td>\n",
       "      <td>1</td>\n",
       "      <td>0</td>\n",
       "      <td>0</td>\n",
       "      <td>0</td>\n",
       "      <td>0</td>\n",
       "      <td>0</td>\n",
       "      <td>0</td>\n",
       "      <td>0</td>\n",
       "      <td>0</td>\n",
       "      <td>1</td>\n",
       "    </tr>\n",
       "    <tr>\n",
       "      <td>65086</td>\n",
       "      <td>60</td>\n",
       "      <td>86</td>\n",
       "      <td>183</td>\n",
       "      <td>0</td>\n",
       "      <td>0</td>\n",
       "      <td>0</td>\n",
       "      <td>0</td>\n",
       "      <td>1</td>\n",
       "      <td>0</td>\n",
       "      <td>0</td>\n",
       "      <td>0</td>\n",
       "      <td>0</td>\n",
       "      <td>0</td>\n",
       "      <td>0</td>\n",
       "      <td>0</td>\n",
       "      <td>0</td>\n",
       "      <td>0</td>\n",
       "      <td>0</td>\n",
       "      <td>0</td>\n",
       "      <td>1</td>\n",
       "      <td>1</td>\n",
       "      <td>0.000</td>\n",
       "      <td>0.000</td>\n",
       "      <td>0.000</td>\n",
       "      <td>0.000</td>\n",
       "      <td>1.000</td>\n",
       "      <td>0.000</td>\n",
       "      <td>0.000</td>\n",
       "      <td>255</td>\n",
       "      <td>1</td>\n",
       "      <td>0.000</td>\n",
       "      <td>0.020</td>\n",
       "      <td>0.000</td>\n",
       "      <td>0.000</td>\n",
       "      <td>0.000</td>\n",
       "      <td>0.000</td>\n",
       "      <td>0.000</td>\n",
       "      <td>0.000</td>\n",
       "      <td>4</td>\n",
       "      <td>1</td>\n",
       "      <td>0</td>\n",
       "      <td>0</td>\n",
       "      <td>0</td>\n",
       "      <td>0</td>\n",
       "      <td>0</td>\n",
       "      <td>0</td>\n",
       "      <td>0</td>\n",
       "      <td>0</td>\n",
       "      <td>0</td>\n",
       "      <td>0</td>\n",
       "      <td>0</td>\n",
       "      <td>0</td>\n",
       "      <td>0</td>\n",
       "      <td>0</td>\n",
       "      <td>0</td>\n",
       "      <td>0</td>\n",
       "      <td>0</td>\n",
       "      <td>0</td>\n",
       "      <td>0</td>\n",
       "      <td>0</td>\n",
       "      <td>0</td>\n",
       "      <td>0</td>\n",
       "      <td>0</td>\n",
       "      <td>0</td>\n",
       "      <td>0</td>\n",
       "      <td>0</td>\n",
       "      <td>0</td>\n",
       "      <td>0</td>\n",
       "      <td>0</td>\n",
       "      <td>0</td>\n",
       "      <td>0</td>\n",
       "      <td>0</td>\n",
       "      <td>0</td>\n",
       "      <td>0</td>\n",
       "      <td>0</td>\n",
       "      <td>0</td>\n",
       "      <td>0</td>\n",
       "      <td>0</td>\n",
       "      <td>0</td>\n",
       "      <td>0</td>\n",
       "      <td>0</td>\n",
       "      <td>0</td>\n",
       "      <td>0</td>\n",
       "      <td>0</td>\n",
       "      <td>0</td>\n",
       "      <td>0</td>\n",
       "      <td>0</td>\n",
       "      <td>0</td>\n",
       "      <td>0</td>\n",
       "      <td>0</td>\n",
       "      <td>0</td>\n",
       "      <td>0</td>\n",
       "      <td>0</td>\n",
       "      <td>0</td>\n",
       "      <td>0</td>\n",
       "      <td>0</td>\n",
       "      <td>0</td>\n",
       "      <td>0</td>\n",
       "      <td>0</td>\n",
       "      <td>0</td>\n",
       "      <td>1</td>\n",
       "      <td>0</td>\n",
       "      <td>0</td>\n",
       "      <td>0</td>\n",
       "      <td>0</td>\n",
       "      <td>0</td>\n",
       "      <td>0</td>\n",
       "      <td>0</td>\n",
       "      <td>0</td>\n",
       "      <td>0</td>\n",
       "      <td>0</td>\n",
       "      <td>0</td>\n",
       "      <td>0</td>\n",
       "      <td>0</td>\n",
       "      <td>0</td>\n",
       "      <td>0</td>\n",
       "      <td>0</td>\n",
       "      <td>0</td>\n",
       "      <td>1</td>\n",
       "      <td>0</td>\n",
       "      <td>1</td>\n",
       "    </tr>\n",
       "    <tr>\n",
       "      <td>15188</td>\n",
       "      <td>113</td>\n",
       "      <td>6274</td>\n",
       "      <td>16771</td>\n",
       "      <td>0</td>\n",
       "      <td>0</td>\n",
       "      <td>0</td>\n",
       "      <td>5</td>\n",
       "      <td>0</td>\n",
       "      <td>1</td>\n",
       "      <td>2</td>\n",
       "      <td>1</td>\n",
       "      <td>0</td>\n",
       "      <td>0</td>\n",
       "      <td>0</td>\n",
       "      <td>0</td>\n",
       "      <td>0</td>\n",
       "      <td>0</td>\n",
       "      <td>0</td>\n",
       "      <td>0</td>\n",
       "      <td>1</td>\n",
       "      <td>1</td>\n",
       "      <td>0.000</td>\n",
       "      <td>0.000</td>\n",
       "      <td>0.000</td>\n",
       "      <td>0.000</td>\n",
       "      <td>1.000</td>\n",
       "      <td>0.000</td>\n",
       "      <td>0.000</td>\n",
       "      <td>1</td>\n",
       "      <td>1</td>\n",
       "      <td>1.000</td>\n",
       "      <td>0.000</td>\n",
       "      <td>1.000</td>\n",
       "      <td>0.000</td>\n",
       "      <td>0.000</td>\n",
       "      <td>0.000</td>\n",
       "      <td>0.000</td>\n",
       "      <td>0.000</td>\n",
       "      <td>3</td>\n",
       "      <td>1</td>\n",
       "      <td>0</td>\n",
       "      <td>0</td>\n",
       "      <td>0</td>\n",
       "      <td>0</td>\n",
       "      <td>0</td>\n",
       "      <td>0</td>\n",
       "      <td>0</td>\n",
       "      <td>0</td>\n",
       "      <td>0</td>\n",
       "      <td>0</td>\n",
       "      <td>0</td>\n",
       "      <td>0</td>\n",
       "      <td>0</td>\n",
       "      <td>0</td>\n",
       "      <td>0</td>\n",
       "      <td>0</td>\n",
       "      <td>0</td>\n",
       "      <td>0</td>\n",
       "      <td>0</td>\n",
       "      <td>0</td>\n",
       "      <td>0</td>\n",
       "      <td>0</td>\n",
       "      <td>0</td>\n",
       "      <td>0</td>\n",
       "      <td>0</td>\n",
       "      <td>0</td>\n",
       "      <td>0</td>\n",
       "      <td>0</td>\n",
       "      <td>0</td>\n",
       "      <td>0</td>\n",
       "      <td>0</td>\n",
       "      <td>0</td>\n",
       "      <td>0</td>\n",
       "      <td>0</td>\n",
       "      <td>0</td>\n",
       "      <td>0</td>\n",
       "      <td>0</td>\n",
       "      <td>0</td>\n",
       "      <td>0</td>\n",
       "      <td>0</td>\n",
       "      <td>0</td>\n",
       "      <td>0</td>\n",
       "      <td>0</td>\n",
       "      <td>0</td>\n",
       "      <td>0</td>\n",
       "      <td>0</td>\n",
       "      <td>0</td>\n",
       "      <td>0</td>\n",
       "      <td>0</td>\n",
       "      <td>0</td>\n",
       "      <td>0</td>\n",
       "      <td>0</td>\n",
       "      <td>0</td>\n",
       "      <td>0</td>\n",
       "      <td>0</td>\n",
       "      <td>0</td>\n",
       "      <td>0</td>\n",
       "      <td>0</td>\n",
       "      <td>0</td>\n",
       "      <td>0</td>\n",
       "      <td>1</td>\n",
       "      <td>0</td>\n",
       "      <td>0</td>\n",
       "      <td>0</td>\n",
       "      <td>0</td>\n",
       "      <td>0</td>\n",
       "      <td>0</td>\n",
       "      <td>0</td>\n",
       "      <td>0</td>\n",
       "      <td>0</td>\n",
       "      <td>0</td>\n",
       "      <td>0</td>\n",
       "      <td>0</td>\n",
       "      <td>0</td>\n",
       "      <td>0</td>\n",
       "      <td>0</td>\n",
       "      <td>0</td>\n",
       "      <td>0</td>\n",
       "      <td>1</td>\n",
       "      <td>0</td>\n",
       "      <td>1</td>\n",
       "    </tr>\n",
       "    <tr>\n",
       "      <td>...</td>\n",
       "      <td>...</td>\n",
       "      <td>...</td>\n",
       "      <td>...</td>\n",
       "      <td>...</td>\n",
       "      <td>...</td>\n",
       "      <td>...</td>\n",
       "      <td>...</td>\n",
       "      <td>...</td>\n",
       "      <td>...</td>\n",
       "      <td>...</td>\n",
       "      <td>...</td>\n",
       "      <td>...</td>\n",
       "      <td>...</td>\n",
       "      <td>...</td>\n",
       "      <td>...</td>\n",
       "      <td>...</td>\n",
       "      <td>...</td>\n",
       "      <td>...</td>\n",
       "      <td>...</td>\n",
       "      <td>...</td>\n",
       "      <td>...</td>\n",
       "      <td>...</td>\n",
       "      <td>...</td>\n",
       "      <td>...</td>\n",
       "      <td>...</td>\n",
       "      <td>...</td>\n",
       "      <td>...</td>\n",
       "      <td>...</td>\n",
       "      <td>...</td>\n",
       "      <td>...</td>\n",
       "      <td>...</td>\n",
       "      <td>...</td>\n",
       "      <td>...</td>\n",
       "      <td>...</td>\n",
       "      <td>...</td>\n",
       "      <td>...</td>\n",
       "      <td>...</td>\n",
       "      <td>...</td>\n",
       "      <td>...</td>\n",
       "      <td>...</td>\n",
       "      <td>...</td>\n",
       "      <td>...</td>\n",
       "      <td>...</td>\n",
       "      <td>...</td>\n",
       "      <td>...</td>\n",
       "      <td>...</td>\n",
       "      <td>...</td>\n",
       "      <td>...</td>\n",
       "      <td>...</td>\n",
       "      <td>...</td>\n",
       "      <td>...</td>\n",
       "      <td>...</td>\n",
       "      <td>...</td>\n",
       "      <td>...</td>\n",
       "      <td>...</td>\n",
       "      <td>...</td>\n",
       "      <td>...</td>\n",
       "      <td>...</td>\n",
       "      <td>...</td>\n",
       "      <td>...</td>\n",
       "      <td>...</td>\n",
       "      <td>...</td>\n",
       "      <td>...</td>\n",
       "      <td>...</td>\n",
       "      <td>...</td>\n",
       "      <td>...</td>\n",
       "      <td>...</td>\n",
       "      <td>...</td>\n",
       "      <td>...</td>\n",
       "      <td>...</td>\n",
       "      <td>...</td>\n",
       "      <td>...</td>\n",
       "      <td>...</td>\n",
       "      <td>...</td>\n",
       "      <td>...</td>\n",
       "      <td>...</td>\n",
       "      <td>...</td>\n",
       "      <td>...</td>\n",
       "      <td>...</td>\n",
       "      <td>...</td>\n",
       "      <td>...</td>\n",
       "      <td>...</td>\n",
       "      <td>...</td>\n",
       "      <td>...</td>\n",
       "      <td>...</td>\n",
       "      <td>...</td>\n",
       "      <td>...</td>\n",
       "      <td>...</td>\n",
       "      <td>...</td>\n",
       "      <td>...</td>\n",
       "      <td>...</td>\n",
       "      <td>...</td>\n",
       "      <td>...</td>\n",
       "      <td>...</td>\n",
       "      <td>...</td>\n",
       "      <td>...</td>\n",
       "      <td>...</td>\n",
       "      <td>...</td>\n",
       "      <td>...</td>\n",
       "      <td>...</td>\n",
       "      <td>...</td>\n",
       "      <td>...</td>\n",
       "      <td>...</td>\n",
       "      <td>...</td>\n",
       "      <td>...</td>\n",
       "      <td>...</td>\n",
       "      <td>...</td>\n",
       "      <td>...</td>\n",
       "      <td>...</td>\n",
       "      <td>...</td>\n",
       "      <td>...</td>\n",
       "      <td>...</td>\n",
       "      <td>...</td>\n",
       "      <td>...</td>\n",
       "      <td>...</td>\n",
       "      <td>...</td>\n",
       "      <td>...</td>\n",
       "      <td>...</td>\n",
       "      <td>...</td>\n",
       "      <td>...</td>\n",
       "      <td>...</td>\n",
       "    </tr>\n",
       "    <tr>\n",
       "      <td>36730</td>\n",
       "      <td>150</td>\n",
       "      <td>1587</td>\n",
       "      <td>6707</td>\n",
       "      <td>0</td>\n",
       "      <td>0</td>\n",
       "      <td>0</td>\n",
       "      <td>1</td>\n",
       "      <td>0</td>\n",
       "      <td>1</td>\n",
       "      <td>3</td>\n",
       "      <td>0</td>\n",
       "      <td>0</td>\n",
       "      <td>1</td>\n",
       "      <td>1</td>\n",
       "      <td>0</td>\n",
       "      <td>0</td>\n",
       "      <td>0</td>\n",
       "      <td>0</td>\n",
       "      <td>0</td>\n",
       "      <td>1</td>\n",
       "      <td>1</td>\n",
       "      <td>0.000</td>\n",
       "      <td>0.000</td>\n",
       "      <td>0.000</td>\n",
       "      <td>0.000</td>\n",
       "      <td>1.000</td>\n",
       "      <td>0.000</td>\n",
       "      <td>0.000</td>\n",
       "      <td>1</td>\n",
       "      <td>1</td>\n",
       "      <td>1.000</td>\n",
       "      <td>0.000</td>\n",
       "      <td>1.000</td>\n",
       "      <td>0.000</td>\n",
       "      <td>0.000</td>\n",
       "      <td>0.000</td>\n",
       "      <td>0.000</td>\n",
       "      <td>0.000</td>\n",
       "      <td>1</td>\n",
       "      <td>1</td>\n",
       "      <td>0</td>\n",
       "      <td>0</td>\n",
       "      <td>0</td>\n",
       "      <td>0</td>\n",
       "      <td>0</td>\n",
       "      <td>0</td>\n",
       "      <td>0</td>\n",
       "      <td>0</td>\n",
       "      <td>0</td>\n",
       "      <td>0</td>\n",
       "      <td>0</td>\n",
       "      <td>0</td>\n",
       "      <td>0</td>\n",
       "      <td>0</td>\n",
       "      <td>0</td>\n",
       "      <td>0</td>\n",
       "      <td>0</td>\n",
       "      <td>0</td>\n",
       "      <td>0</td>\n",
       "      <td>0</td>\n",
       "      <td>0</td>\n",
       "      <td>0</td>\n",
       "      <td>0</td>\n",
       "      <td>0</td>\n",
       "      <td>0</td>\n",
       "      <td>0</td>\n",
       "      <td>0</td>\n",
       "      <td>0</td>\n",
       "      <td>0</td>\n",
       "      <td>0</td>\n",
       "      <td>0</td>\n",
       "      <td>0</td>\n",
       "      <td>0</td>\n",
       "      <td>0</td>\n",
       "      <td>0</td>\n",
       "      <td>0</td>\n",
       "      <td>0</td>\n",
       "      <td>0</td>\n",
       "      <td>0</td>\n",
       "      <td>0</td>\n",
       "      <td>0</td>\n",
       "      <td>0</td>\n",
       "      <td>0</td>\n",
       "      <td>0</td>\n",
       "      <td>0</td>\n",
       "      <td>0</td>\n",
       "      <td>0</td>\n",
       "      <td>0</td>\n",
       "      <td>0</td>\n",
       "      <td>0</td>\n",
       "      <td>0</td>\n",
       "      <td>0</td>\n",
       "      <td>0</td>\n",
       "      <td>0</td>\n",
       "      <td>0</td>\n",
       "      <td>0</td>\n",
       "      <td>0</td>\n",
       "      <td>0</td>\n",
       "      <td>0</td>\n",
       "      <td>0</td>\n",
       "      <td>1</td>\n",
       "      <td>0</td>\n",
       "      <td>0</td>\n",
       "      <td>0</td>\n",
       "      <td>0</td>\n",
       "      <td>0</td>\n",
       "      <td>0</td>\n",
       "      <td>0</td>\n",
       "      <td>0</td>\n",
       "      <td>0</td>\n",
       "      <td>0</td>\n",
       "      <td>0</td>\n",
       "      <td>0</td>\n",
       "      <td>0</td>\n",
       "      <td>0</td>\n",
       "      <td>0</td>\n",
       "      <td>0</td>\n",
       "      <td>0</td>\n",
       "      <td>1</td>\n",
       "      <td>0</td>\n",
       "      <td>1</td>\n",
       "    </tr>\n",
       "    <tr>\n",
       "      <td>41716</td>\n",
       "      <td>0</td>\n",
       "      <td>0</td>\n",
       "      <td>5014</td>\n",
       "      <td>0</td>\n",
       "      <td>0</td>\n",
       "      <td>0</td>\n",
       "      <td>0</td>\n",
       "      <td>0</td>\n",
       "      <td>1</td>\n",
       "      <td>0</td>\n",
       "      <td>0</td>\n",
       "      <td>0</td>\n",
       "      <td>0</td>\n",
       "      <td>0</td>\n",
       "      <td>0</td>\n",
       "      <td>0</td>\n",
       "      <td>0</td>\n",
       "      <td>0</td>\n",
       "      <td>0</td>\n",
       "      <td>3</td>\n",
       "      <td>2</td>\n",
       "      <td>0.000</td>\n",
       "      <td>0.000</td>\n",
       "      <td>0.000</td>\n",
       "      <td>0.000</td>\n",
       "      <td>0.670</td>\n",
       "      <td>0.670</td>\n",
       "      <td>0.000</td>\n",
       "      <td>2</td>\n",
       "      <td>4</td>\n",
       "      <td>1.000</td>\n",
       "      <td>0.000</td>\n",
       "      <td>1.000</td>\n",
       "      <td>0.500</td>\n",
       "      <td>0.000</td>\n",
       "      <td>0.000</td>\n",
       "      <td>0.000</td>\n",
       "      <td>0.000</td>\n",
       "      <td>14</td>\n",
       "      <td>1</td>\n",
       "      <td>0</td>\n",
       "      <td>0</td>\n",
       "      <td>0</td>\n",
       "      <td>0</td>\n",
       "      <td>0</td>\n",
       "      <td>0</td>\n",
       "      <td>0</td>\n",
       "      <td>0</td>\n",
       "      <td>0</td>\n",
       "      <td>0</td>\n",
       "      <td>0</td>\n",
       "      <td>0</td>\n",
       "      <td>0</td>\n",
       "      <td>0</td>\n",
       "      <td>0</td>\n",
       "      <td>0</td>\n",
       "      <td>0</td>\n",
       "      <td>0</td>\n",
       "      <td>0</td>\n",
       "      <td>0</td>\n",
       "      <td>1</td>\n",
       "      <td>0</td>\n",
       "      <td>0</td>\n",
       "      <td>0</td>\n",
       "      <td>0</td>\n",
       "      <td>0</td>\n",
       "      <td>0</td>\n",
       "      <td>0</td>\n",
       "      <td>0</td>\n",
       "      <td>0</td>\n",
       "      <td>0</td>\n",
       "      <td>0</td>\n",
       "      <td>0</td>\n",
       "      <td>0</td>\n",
       "      <td>0</td>\n",
       "      <td>0</td>\n",
       "      <td>0</td>\n",
       "      <td>0</td>\n",
       "      <td>0</td>\n",
       "      <td>0</td>\n",
       "      <td>0</td>\n",
       "      <td>0</td>\n",
       "      <td>0</td>\n",
       "      <td>0</td>\n",
       "      <td>0</td>\n",
       "      <td>0</td>\n",
       "      <td>0</td>\n",
       "      <td>0</td>\n",
       "      <td>0</td>\n",
       "      <td>0</td>\n",
       "      <td>0</td>\n",
       "      <td>0</td>\n",
       "      <td>0</td>\n",
       "      <td>0</td>\n",
       "      <td>0</td>\n",
       "      <td>0</td>\n",
       "      <td>0</td>\n",
       "      <td>0</td>\n",
       "      <td>0</td>\n",
       "      <td>0</td>\n",
       "      <td>0</td>\n",
       "      <td>0</td>\n",
       "      <td>0</td>\n",
       "      <td>0</td>\n",
       "      <td>0</td>\n",
       "      <td>0</td>\n",
       "      <td>0</td>\n",
       "      <td>0</td>\n",
       "      <td>0</td>\n",
       "      <td>0</td>\n",
       "      <td>0</td>\n",
       "      <td>0</td>\n",
       "      <td>0</td>\n",
       "      <td>0</td>\n",
       "      <td>0</td>\n",
       "      <td>0</td>\n",
       "      <td>0</td>\n",
       "      <td>0</td>\n",
       "      <td>1</td>\n",
       "      <td>0</td>\n",
       "      <td>1</td>\n",
       "    </tr>\n",
       "    <tr>\n",
       "      <td>14099</td>\n",
       "      <td>21</td>\n",
       "      <td>89</td>\n",
       "      <td>345</td>\n",
       "      <td>0</td>\n",
       "      <td>0</td>\n",
       "      <td>0</td>\n",
       "      <td>1</td>\n",
       "      <td>0</td>\n",
       "      <td>1</td>\n",
       "      <td>0</td>\n",
       "      <td>0</td>\n",
       "      <td>0</td>\n",
       "      <td>0</td>\n",
       "      <td>1</td>\n",
       "      <td>0</td>\n",
       "      <td>0</td>\n",
       "      <td>0</td>\n",
       "      <td>0</td>\n",
       "      <td>0</td>\n",
       "      <td>1</td>\n",
       "      <td>1</td>\n",
       "      <td>0.000</td>\n",
       "      <td>0.000</td>\n",
       "      <td>0.000</td>\n",
       "      <td>0.000</td>\n",
       "      <td>1.000</td>\n",
       "      <td>0.000</td>\n",
       "      <td>0.000</td>\n",
       "      <td>255</td>\n",
       "      <td>1</td>\n",
       "      <td>0.000</td>\n",
       "      <td>0.020</td>\n",
       "      <td>0.000</td>\n",
       "      <td>0.000</td>\n",
       "      <td>0.000</td>\n",
       "      <td>0.000</td>\n",
       "      <td>0.000</td>\n",
       "      <td>0.000</td>\n",
       "      <td>5</td>\n",
       "      <td>1</td>\n",
       "      <td>0</td>\n",
       "      <td>0</td>\n",
       "      <td>0</td>\n",
       "      <td>0</td>\n",
       "      <td>0</td>\n",
       "      <td>0</td>\n",
       "      <td>0</td>\n",
       "      <td>0</td>\n",
       "      <td>0</td>\n",
       "      <td>0</td>\n",
       "      <td>0</td>\n",
       "      <td>0</td>\n",
       "      <td>0</td>\n",
       "      <td>0</td>\n",
       "      <td>0</td>\n",
       "      <td>0</td>\n",
       "      <td>0</td>\n",
       "      <td>0</td>\n",
       "      <td>0</td>\n",
       "      <td>1</td>\n",
       "      <td>0</td>\n",
       "      <td>0</td>\n",
       "      <td>0</td>\n",
       "      <td>0</td>\n",
       "      <td>0</td>\n",
       "      <td>0</td>\n",
       "      <td>0</td>\n",
       "      <td>0</td>\n",
       "      <td>0</td>\n",
       "      <td>0</td>\n",
       "      <td>0</td>\n",
       "      <td>0</td>\n",
       "      <td>0</td>\n",
       "      <td>0</td>\n",
       "      <td>0</td>\n",
       "      <td>0</td>\n",
       "      <td>0</td>\n",
       "      <td>0</td>\n",
       "      <td>0</td>\n",
       "      <td>0</td>\n",
       "      <td>0</td>\n",
       "      <td>0</td>\n",
       "      <td>0</td>\n",
       "      <td>0</td>\n",
       "      <td>0</td>\n",
       "      <td>0</td>\n",
       "      <td>0</td>\n",
       "      <td>0</td>\n",
       "      <td>0</td>\n",
       "      <td>0</td>\n",
       "      <td>0</td>\n",
       "      <td>0</td>\n",
       "      <td>0</td>\n",
       "      <td>0</td>\n",
       "      <td>0</td>\n",
       "      <td>0</td>\n",
       "      <td>0</td>\n",
       "      <td>0</td>\n",
       "      <td>0</td>\n",
       "      <td>0</td>\n",
       "      <td>0</td>\n",
       "      <td>0</td>\n",
       "      <td>0</td>\n",
       "      <td>0</td>\n",
       "      <td>0</td>\n",
       "      <td>0</td>\n",
       "      <td>0</td>\n",
       "      <td>0</td>\n",
       "      <td>0</td>\n",
       "      <td>0</td>\n",
       "      <td>0</td>\n",
       "      <td>0</td>\n",
       "      <td>0</td>\n",
       "      <td>0</td>\n",
       "      <td>0</td>\n",
       "      <td>0</td>\n",
       "      <td>0</td>\n",
       "      <td>0</td>\n",
       "      <td>1</td>\n",
       "      <td>0</td>\n",
       "      <td>1</td>\n",
       "    </tr>\n",
       "    <tr>\n",
       "      <td>37270</td>\n",
       "      <td>61</td>\n",
       "      <td>294</td>\n",
       "      <td>3929</td>\n",
       "      <td>0</td>\n",
       "      <td>0</td>\n",
       "      <td>0</td>\n",
       "      <td>0</td>\n",
       "      <td>0</td>\n",
       "      <td>1</td>\n",
       "      <td>0</td>\n",
       "      <td>1</td>\n",
       "      <td>0</td>\n",
       "      <td>4</td>\n",
       "      <td>1</td>\n",
       "      <td>0</td>\n",
       "      <td>0</td>\n",
       "      <td>0</td>\n",
       "      <td>0</td>\n",
       "      <td>0</td>\n",
       "      <td>1</td>\n",
       "      <td>1</td>\n",
       "      <td>0.000</td>\n",
       "      <td>0.000</td>\n",
       "      <td>0.000</td>\n",
       "      <td>0.000</td>\n",
       "      <td>1.000</td>\n",
       "      <td>0.000</td>\n",
       "      <td>0.000</td>\n",
       "      <td>255</td>\n",
       "      <td>4</td>\n",
       "      <td>0.020</td>\n",
       "      <td>0.020</td>\n",
       "      <td>0.000</td>\n",
       "      <td>0.000</td>\n",
       "      <td>0.000</td>\n",
       "      <td>0.250</td>\n",
       "      <td>0.730</td>\n",
       "      <td>0.250</td>\n",
       "      <td>5</td>\n",
       "      <td>1</td>\n",
       "      <td>0</td>\n",
       "      <td>0</td>\n",
       "      <td>0</td>\n",
       "      <td>0</td>\n",
       "      <td>0</td>\n",
       "      <td>0</td>\n",
       "      <td>0</td>\n",
       "      <td>0</td>\n",
       "      <td>0</td>\n",
       "      <td>0</td>\n",
       "      <td>0</td>\n",
       "      <td>0</td>\n",
       "      <td>0</td>\n",
       "      <td>0</td>\n",
       "      <td>0</td>\n",
       "      <td>0</td>\n",
       "      <td>0</td>\n",
       "      <td>0</td>\n",
       "      <td>0</td>\n",
       "      <td>0</td>\n",
       "      <td>0</td>\n",
       "      <td>0</td>\n",
       "      <td>0</td>\n",
       "      <td>0</td>\n",
       "      <td>0</td>\n",
       "      <td>0</td>\n",
       "      <td>0</td>\n",
       "      <td>0</td>\n",
       "      <td>0</td>\n",
       "      <td>0</td>\n",
       "      <td>0</td>\n",
       "      <td>0</td>\n",
       "      <td>0</td>\n",
       "      <td>0</td>\n",
       "      <td>0</td>\n",
       "      <td>0</td>\n",
       "      <td>0</td>\n",
       "      <td>0</td>\n",
       "      <td>0</td>\n",
       "      <td>0</td>\n",
       "      <td>0</td>\n",
       "      <td>0</td>\n",
       "      <td>0</td>\n",
       "      <td>0</td>\n",
       "      <td>0</td>\n",
       "      <td>0</td>\n",
       "      <td>0</td>\n",
       "      <td>0</td>\n",
       "      <td>0</td>\n",
       "      <td>0</td>\n",
       "      <td>0</td>\n",
       "      <td>0</td>\n",
       "      <td>0</td>\n",
       "      <td>0</td>\n",
       "      <td>0</td>\n",
       "      <td>0</td>\n",
       "      <td>0</td>\n",
       "      <td>0</td>\n",
       "      <td>0</td>\n",
       "      <td>0</td>\n",
       "      <td>1</td>\n",
       "      <td>0</td>\n",
       "      <td>0</td>\n",
       "      <td>0</td>\n",
       "      <td>0</td>\n",
       "      <td>0</td>\n",
       "      <td>0</td>\n",
       "      <td>0</td>\n",
       "      <td>0</td>\n",
       "      <td>0</td>\n",
       "      <td>0</td>\n",
       "      <td>0</td>\n",
       "      <td>0</td>\n",
       "      <td>0</td>\n",
       "      <td>0</td>\n",
       "      <td>0</td>\n",
       "      <td>0</td>\n",
       "      <td>0</td>\n",
       "      <td>1</td>\n",
       "      <td>0</td>\n",
       "      <td>1</td>\n",
       "    </tr>\n",
       "    <tr>\n",
       "      <td>82252</td>\n",
       "      <td>7</td>\n",
       "      <td>226</td>\n",
       "      <td>698</td>\n",
       "      <td>0</td>\n",
       "      <td>0</td>\n",
       "      <td>0</td>\n",
       "      <td>4</td>\n",
       "      <td>0</td>\n",
       "      <td>1</td>\n",
       "      <td>0</td>\n",
       "      <td>0</td>\n",
       "      <td>0</td>\n",
       "      <td>0</td>\n",
       "      <td>4</td>\n",
       "      <td>0</td>\n",
       "      <td>0</td>\n",
       "      <td>0</td>\n",
       "      <td>0</td>\n",
       "      <td>0</td>\n",
       "      <td>1</td>\n",
       "      <td>1</td>\n",
       "      <td>0.000</td>\n",
       "      <td>0.000</td>\n",
       "      <td>0.000</td>\n",
       "      <td>0.000</td>\n",
       "      <td>1.000</td>\n",
       "      <td>0.000</td>\n",
       "      <td>0.000</td>\n",
       "      <td>1</td>\n",
       "      <td>1</td>\n",
       "      <td>1.000</td>\n",
       "      <td>0.000</td>\n",
       "      <td>1.000</td>\n",
       "      <td>0.000</td>\n",
       "      <td>0.000</td>\n",
       "      <td>0.000</td>\n",
       "      <td>0.000</td>\n",
       "      <td>0.000</td>\n",
       "      <td>4</td>\n",
       "      <td>1</td>\n",
       "      <td>0</td>\n",
       "      <td>0</td>\n",
       "      <td>0</td>\n",
       "      <td>0</td>\n",
       "      <td>0</td>\n",
       "      <td>0</td>\n",
       "      <td>0</td>\n",
       "      <td>0</td>\n",
       "      <td>0</td>\n",
       "      <td>0</td>\n",
       "      <td>0</td>\n",
       "      <td>0</td>\n",
       "      <td>0</td>\n",
       "      <td>0</td>\n",
       "      <td>0</td>\n",
       "      <td>0</td>\n",
       "      <td>0</td>\n",
       "      <td>0</td>\n",
       "      <td>0</td>\n",
       "      <td>1</td>\n",
       "      <td>0</td>\n",
       "      <td>0</td>\n",
       "      <td>0</td>\n",
       "      <td>0</td>\n",
       "      <td>0</td>\n",
       "      <td>0</td>\n",
       "      <td>0</td>\n",
       "      <td>0</td>\n",
       "      <td>0</td>\n",
       "      <td>0</td>\n",
       "      <td>0</td>\n",
       "      <td>0</td>\n",
       "      <td>0</td>\n",
       "      <td>0</td>\n",
       "      <td>0</td>\n",
       "      <td>0</td>\n",
       "      <td>0</td>\n",
       "      <td>0</td>\n",
       "      <td>0</td>\n",
       "      <td>0</td>\n",
       "      <td>0</td>\n",
       "      <td>0</td>\n",
       "      <td>0</td>\n",
       "      <td>0</td>\n",
       "      <td>0</td>\n",
       "      <td>0</td>\n",
       "      <td>0</td>\n",
       "      <td>0</td>\n",
       "      <td>0</td>\n",
       "      <td>0</td>\n",
       "      <td>0</td>\n",
       "      <td>0</td>\n",
       "      <td>0</td>\n",
       "      <td>0</td>\n",
       "      <td>0</td>\n",
       "      <td>0</td>\n",
       "      <td>0</td>\n",
       "      <td>0</td>\n",
       "      <td>0</td>\n",
       "      <td>0</td>\n",
       "      <td>0</td>\n",
       "      <td>0</td>\n",
       "      <td>0</td>\n",
       "      <td>0</td>\n",
       "      <td>0</td>\n",
       "      <td>0</td>\n",
       "      <td>0</td>\n",
       "      <td>0</td>\n",
       "      <td>0</td>\n",
       "      <td>0</td>\n",
       "      <td>0</td>\n",
       "      <td>0</td>\n",
       "      <td>0</td>\n",
       "      <td>0</td>\n",
       "      <td>0</td>\n",
       "      <td>0</td>\n",
       "      <td>0</td>\n",
       "      <td>0</td>\n",
       "      <td>1</td>\n",
       "      <td>0</td>\n",
       "      <td>1</td>\n",
       "    </tr>\n",
       "  </tbody>\n",
       "</table>\n",
       "<p>67343 rows × 121 columns</p>\n",
       "</div>"
      ],
      "text/plain": [
       "       DURATION  SRC_BYTES  DST_BYTES  LAND  WRONG_FRAGMENT  URGENT  HOT  \\\n",
       "15931       169       1567       2857     0               0       0    3   \n",
       "16983         0          4          0     0               0       0    0   \n",
       "42396       321       1506       1887     0               0       0    0   \n",
       "65086        60         86        183     0               0       0    0   \n",
       "15188       113       6274      16771     0               0       0    5   \n",
       "...         ...        ...        ...   ...             ...     ...  ...   \n",
       "36730       150       1587       6707     0               0       0    1   \n",
       "41716         0          0       5014     0               0       0    0   \n",
       "14099        21         89        345     0               0       0    1   \n",
       "37270        61        294       3929     0               0       0    0   \n",
       "82252         7        226        698     0               0       0    4   \n",
       "\n",
       "       NUM_FAILED_LOGINS  LOGGED_IN  NUM_COMPROMISED  ROOT_SHELL  \\\n",
       "15931                  0          1                4           1   \n",
       "16983                  0          0                0           0   \n",
       "42396                  0          1                0           0   \n",
       "65086                  1          0                0           0   \n",
       "15188                  0          1                2           1   \n",
       "...                  ...        ...              ...         ...   \n",
       "36730                  0          1                3           0   \n",
       "41716                  0          1                0           0   \n",
       "14099                  0          1                0           0   \n",
       "37270                  0          1                0           1   \n",
       "82252                  0          1                0           0   \n",
       "\n",
       "       SU_ATTEMPTED  NUM_ROOT  NUM_FILE_CREATIONS  NUM_SHELLS  \\\n",
       "15931             0         0                   1           0   \n",
       "16983             0         0                   0           0   \n",
       "42396             0         0                   1           0   \n",
       "65086             0         0                   0           0   \n",
       "15188             0         0                   0           0   \n",
       "...             ...       ...                 ...         ...   \n",
       "36730             0         1                   1           0   \n",
       "41716             0         0                   0           0   \n",
       "14099             0         0                   1           0   \n",
       "37270             0         4                   1           0   \n",
       "82252             0         0                   4           0   \n",
       "\n",
       "       NUM_ACCESS_FILES  NUM_OUTBOUND_CMDS  IS_HOST_LOGIN  IS_GUEST_LOGIN  \\\n",
       "15931                 0                  0              0               0   \n",
       "16983                 0                  0              0               0   \n",
       "42396                 0                  0              0               0   \n",
       "65086                 0                  0              0               0   \n",
       "15188                 0                  0              0               0   \n",
       "...                 ...                ...            ...             ...   \n",
       "36730                 0                  0              0               0   \n",
       "41716                 0                  0              0               0   \n",
       "14099                 0                  0              0               0   \n",
       "37270                 0                  0              0               0   \n",
       "82252                 0                  0              0               0   \n",
       "\n",
       "       COUNT  SRV_COUNT  SERROR_RATE  SRV_SERROR_RATE  RERROR_RATE  \\\n",
       "15931      1          1        0.000            0.000        0.000   \n",
       "16983      2          2        0.000            0.000        0.000   \n",
       "42396    151          1        0.990            0.000        0.010   \n",
       "65086      1          1        0.000            0.000        0.000   \n",
       "15188      1          1        0.000            0.000        0.000   \n",
       "...      ...        ...          ...              ...          ...   \n",
       "36730      1          1        0.000            0.000        0.000   \n",
       "41716      3          2        0.000            0.000        0.000   \n",
       "14099      1          1        0.000            0.000        0.000   \n",
       "37270      1          1        0.000            0.000        0.000   \n",
       "82252      1          1        0.000            0.000        0.000   \n",
       "\n",
       "       SRV_RERROR_RATE  SAME_SRV_RATE  DIFF_SRV_RATE  SRV_DIFF_HOST_RATE  \\\n",
       "15931            0.000          1.000          0.000               0.000   \n",
       "16983            0.000          1.000          0.000               0.000   \n",
       "42396            1.000          0.010          0.060               0.000   \n",
       "65086            0.000          1.000          0.000               0.000   \n",
       "15188            0.000          1.000          0.000               0.000   \n",
       "...                ...            ...            ...                 ...   \n",
       "36730            0.000          1.000          0.000               0.000   \n",
       "41716            0.000          0.670          0.670               0.000   \n",
       "14099            0.000          1.000          0.000               0.000   \n",
       "37270            0.000          1.000          0.000               0.000   \n",
       "82252            0.000          1.000          0.000               0.000   \n",
       "\n",
       "       DST_HOST_COUNT  DST_HOST_SRV_COUNT  DST_HOST_SAME_SRV_RATE  \\\n",
       "15931               1                   1                   1.000   \n",
       "16983               2                   2                   1.000   \n",
       "42396               6                   6                   1.000   \n",
       "65086             255                   1                   0.000   \n",
       "15188               1                   1                   1.000   \n",
       "...               ...                 ...                     ...   \n",
       "36730               1                   1                   1.000   \n",
       "41716               2                   4                   1.000   \n",
       "14099             255                   1                   0.000   \n",
       "37270             255                   4                   0.020   \n",
       "82252               1                   1                   1.000   \n",
       "\n",
       "       DST_HOST_DIFF_SRV_RATE  DST_HOST_SAME_SRC_PORT_RATE  \\\n",
       "15931                   0.000                        1.000   \n",
       "16983                   0.000                        0.500   \n",
       "42396                   0.000                        0.170   \n",
       "65086                   0.020                        0.000   \n",
       "15188                   0.000                        1.000   \n",
       "...                       ...                          ...   \n",
       "36730                   0.000                        1.000   \n",
       "41716                   0.000                        1.000   \n",
       "14099                   0.020                        0.000   \n",
       "37270                   0.020                        0.000   \n",
       "82252                   0.000                        1.000   \n",
       "\n",
       "       DST_HOST_SRV_DIFF_HOST_RATE  DST_HOST_SERROR_RATE  \\\n",
       "15931                        0.000                 0.000   \n",
       "16983                        0.000                 0.000   \n",
       "42396                        0.000                 0.000   \n",
       "65086                        0.000                 0.000   \n",
       "15188                        0.000                 0.000   \n",
       "...                            ...                   ...   \n",
       "36730                        0.000                 0.000   \n",
       "41716                        0.500                 0.000   \n",
       "14099                        0.000                 0.000   \n",
       "37270                        0.000                 0.000   \n",
       "82252                        0.000                 0.000   \n",
       "\n",
       "       DST_HOST_SRV_SERROR_RATE  DST_HOST_RERROR_RATE  \\\n",
       "15931                     0.000                 0.000   \n",
       "16983                     0.000                 0.000   \n",
       "42396                     0.000                 0.170   \n",
       "65086                     0.000                 0.000   \n",
       "15188                     0.000                 0.000   \n",
       "...                         ...                   ...   \n",
       "36730                     0.000                 0.000   \n",
       "41716                     0.000                 0.000   \n",
       "14099                     0.000                 0.000   \n",
       "37270                     0.250                 0.730   \n",
       "82252                     0.000                 0.000   \n",
       "\n",
       "       DST_HOST_SRV_RERROR_RATE  LAST_FLAG  PROTOCOL_TYPE_tcp  \\\n",
       "15931                     0.000          3                  1   \n",
       "16983                     0.000          1                  0   \n",
       "42396                     0.170          5                  1   \n",
       "65086                     0.000          4                  1   \n",
       "15188                     0.000          3                  1   \n",
       "...                         ...        ...                ...   \n",
       "36730                     0.000          1                  1   \n",
       "41716                     0.000         14                  1   \n",
       "14099                     0.000          5                  1   \n",
       "37270                     0.250          5                  1   \n",
       "82252                     0.000          4                  1   \n",
       "\n",
       "       PROTOCOL_TYPE_udp  SERVICE_X11  SERVICE_Z39_50  SERVICE_aol  \\\n",
       "15931                  0            0               0            0   \n",
       "16983                  1            0               0            0   \n",
       "42396                  0            0               0            0   \n",
       "65086                  0            0               0            0   \n",
       "15188                  0            0               0            0   \n",
       "...                  ...          ...             ...          ...   \n",
       "36730                  0            0               0            0   \n",
       "41716                  0            0               0            0   \n",
       "14099                  0            0               0            0   \n",
       "37270                  0            0               0            0   \n",
       "82252                  0            0               0            0   \n",
       "\n",
       "       SERVICE_auth  SERVICE_bgp  SERVICE_courier  SERVICE_csnet_ns  \\\n",
       "15931             0            0                0                 0   \n",
       "16983             0            0                0                 0   \n",
       "42396             0            0                0                 0   \n",
       "65086             0            0                0                 0   \n",
       "15188             0            0                0                 0   \n",
       "...             ...          ...              ...               ...   \n",
       "36730             0            0                0                 0   \n",
       "41716             0            0                0                 0   \n",
       "14099             0            0                0                 0   \n",
       "37270             0            0                0                 0   \n",
       "82252             0            0                0                 0   \n",
       "\n",
       "       SERVICE_ctf  SERVICE_daytime  SERVICE_discard  SERVICE_domain  \\\n",
       "15931            0                0                0               0   \n",
       "16983            0                0                0               0   \n",
       "42396            0                0                0               0   \n",
       "65086            0                0                0               0   \n",
       "15188            0                0                0               0   \n",
       "...            ...              ...              ...             ...   \n",
       "36730            0                0                0               0   \n",
       "41716            0                0                0               0   \n",
       "14099            0                0                0               0   \n",
       "37270            0                0                0               0   \n",
       "82252            0                0                0               0   \n",
       "\n",
       "       SERVICE_domain_u  SERVICE_echo  SERVICE_eco_i  SERVICE_ecr_i  \\\n",
       "15931                 0             0              0              0   \n",
       "16983                 0             0              0              0   \n",
       "42396                 0             0              0              0   \n",
       "65086                 0             0              0              0   \n",
       "15188                 0             0              0              0   \n",
       "...                 ...           ...            ...            ...   \n",
       "36730                 0             0              0              0   \n",
       "41716                 0             0              0              0   \n",
       "14099                 0             0              0              0   \n",
       "37270                 0             0              0              0   \n",
       "82252                 0             0              0              0   \n",
       "\n",
       "       SERVICE_efs  SERVICE_exec  SERVICE_finger  SERVICE_ftp  \\\n",
       "15931            0             0               0            0   \n",
       "16983            0             0               0            0   \n",
       "42396            0             0               0            0   \n",
       "65086            0             0               0            0   \n",
       "15188            0             0               0            0   \n",
       "...            ...           ...             ...          ...   \n",
       "36730            0             0               0            0   \n",
       "41716            0             0               0            0   \n",
       "14099            0             0               0            1   \n",
       "37270            0             0               0            0   \n",
       "82252            0             0               0            1   \n",
       "\n",
       "       SERVICE_ftp_data  SERVICE_gopher  SERVICE_harvest  SERVICE_hostnames  \\\n",
       "15931                 0               0                0                  0   \n",
       "16983                 0               0                0                  0   \n",
       "42396                 0               0                0                  0   \n",
       "65086                 0               0                0                  0   \n",
       "15188                 0               0                0                  0   \n",
       "...                 ...             ...              ...                ...   \n",
       "36730                 0               0                0                  0   \n",
       "41716                 1               0                0                  0   \n",
       "14099                 0               0                0                  0   \n",
       "37270                 0               0                0                  0   \n",
       "82252                 0               0                0                  0   \n",
       "\n",
       "       SERVICE_http  SERVICE_http_2784  SERVICE_http_443  SERVICE_http_8001  \\\n",
       "15931             0                  0                 0                  0   \n",
       "16983             0                  0                 0                  0   \n",
       "42396             0                  0                 0                  0   \n",
       "65086             0                  0                 0                  0   \n",
       "15188             0                  0                 0                  0   \n",
       "...             ...                ...               ...                ...   \n",
       "36730             0                  0                 0                  0   \n",
       "41716             0                  0                 0                  0   \n",
       "14099             0                  0                 0                  0   \n",
       "37270             0                  0                 0                  0   \n",
       "82252             0                  0                 0                  0   \n",
       "\n",
       "       SERVICE_imap4  SERVICE_iso_tsap  SERVICE_klogin  SERVICE_kshell  \\\n",
       "15931              0                 0               0               0   \n",
       "16983              0                 0               0               0   \n",
       "42396              0                 0               0               0   \n",
       "65086              0                 0               0               0   \n",
       "15188              0                 0               0               0   \n",
       "...              ...               ...             ...             ...   \n",
       "36730              0                 0               0               0   \n",
       "41716              0                 0               0               0   \n",
       "14099              0                 0               0               0   \n",
       "37270              0                 0               0               0   \n",
       "82252              0                 0               0               0   \n",
       "\n",
       "       SERVICE_ldap  SERVICE_link  SERVICE_login  SERVICE_mtp  SERVICE_name  \\\n",
       "15931             0             0              0            0             0   \n",
       "16983             0             0              0            0             0   \n",
       "42396             0             0              0            0             0   \n",
       "65086             0             0              0            0             0   \n",
       "15188             0             0              0            0             0   \n",
       "...             ...           ...            ...          ...           ...   \n",
       "36730             0             0              0            0             0   \n",
       "41716             0             0              0            0             0   \n",
       "14099             0             0              0            0             0   \n",
       "37270             0             0              0            0             0   \n",
       "82252             0             0              0            0             0   \n",
       "\n",
       "       SERVICE_netbios_dgm  SERVICE_netbios_ns  SERVICE_netbios_ssn  \\\n",
       "15931                    0                   0                    0   \n",
       "16983                    0                   0                    0   \n",
       "42396                    0                   0                    0   \n",
       "65086                    0                   0                    0   \n",
       "15188                    0                   0                    0   \n",
       "...                    ...                 ...                  ...   \n",
       "36730                    0                   0                    0   \n",
       "41716                    0                   0                    0   \n",
       "14099                    0                   0                    0   \n",
       "37270                    0                   0                    0   \n",
       "82252                    0                   0                    0   \n",
       "\n",
       "       SERVICE_netstat  SERVICE_nnsp  SERVICE_nntp  SERVICE_ntp_u  \\\n",
       "15931                0             0             0              0   \n",
       "16983                0             0             0              0   \n",
       "42396                0             0             0              0   \n",
       "65086                0             0             0              0   \n",
       "15188                0             0             0              0   \n",
       "...                ...           ...           ...            ...   \n",
       "36730                0             0             0              0   \n",
       "41716                0             0             0              0   \n",
       "14099                0             0             0              0   \n",
       "37270                0             0             0              0   \n",
       "82252                0             0             0              0   \n",
       "\n",
       "       SERVICE_other  SERVICE_pm_dump  SERVICE_pop_2  SERVICE_pop_3  \\\n",
       "15931              0                0              0              0   \n",
       "16983              1                0              0              0   \n",
       "42396              0                0              0              0   \n",
       "65086              0                0              0              0   \n",
       "15188              0                0              0              0   \n",
       "...              ...              ...            ...            ...   \n",
       "36730              0                0              0              0   \n",
       "41716              0                0              0              0   \n",
       "14099              0                0              0              0   \n",
       "37270              0                0              0              0   \n",
       "82252              0                0              0              0   \n",
       "\n",
       "       SERVICE_printer  SERVICE_private  SERVICE_red_i  SERVICE_remote_job  \\\n",
       "15931                0                0              0                   0   \n",
       "16983                0                0              0                   0   \n",
       "42396                0                0              0                   0   \n",
       "65086                0                0              0                   0   \n",
       "15188                0                0              0                   0   \n",
       "...                ...              ...            ...                 ...   \n",
       "36730                0                0              0                   0   \n",
       "41716                0                0              0                   0   \n",
       "14099                0                0              0                   0   \n",
       "37270                0                0              0                   0   \n",
       "82252                0                0              0                   0   \n",
       "\n",
       "       SERVICE_rje  SERVICE_shell  SERVICE_smtp  SERVICE_sql_net  SERVICE_ssh  \\\n",
       "15931            0              0             0                0            0   \n",
       "16983            0              0             0                0            0   \n",
       "42396            0              0             0                0            0   \n",
       "65086            0              0             0                0            0   \n",
       "15188            0              0             0                0            0   \n",
       "...            ...            ...           ...              ...          ...   \n",
       "36730            0              0             0                0            0   \n",
       "41716            0              0             0                0            0   \n",
       "14099            0              0             0                0            0   \n",
       "37270            0              0             0                0            0   \n",
       "82252            0              0             0                0            0   \n",
       "\n",
       "       SERVICE_sunrpc  SERVICE_supdup  SERVICE_systat  SERVICE_telnet  \\\n",
       "15931               0               0               0               1   \n",
       "16983               0               0               0               0   \n",
       "42396               0               0               0               1   \n",
       "65086               0               0               0               1   \n",
       "15188               0               0               0               1   \n",
       "...               ...             ...             ...             ...   \n",
       "36730               0               0               0               1   \n",
       "41716               0               0               0               0   \n",
       "14099               0               0               0               0   \n",
       "37270               0               0               0               1   \n",
       "82252               0               0               0               0   \n",
       "\n",
       "       SERVICE_tftp_u  SERVICE_tim_i  SERVICE_time  SERVICE_urh_i  \\\n",
       "15931               0              0             0              0   \n",
       "16983               0              0             0              0   \n",
       "42396               0              0             0              0   \n",
       "65086               0              0             0              0   \n",
       "15188               0              0             0              0   \n",
       "...               ...            ...           ...            ...   \n",
       "36730               0              0             0              0   \n",
       "41716               0              0             0              0   \n",
       "14099               0              0             0              0   \n",
       "37270               0              0             0              0   \n",
       "82252               0              0             0              0   \n",
       "\n",
       "       SERVICE_urp_i  SERVICE_uucp  SERVICE_uucp_path  SERVICE_vmnet  \\\n",
       "15931              0             0                  0              0   \n",
       "16983              0             0                  0              0   \n",
       "42396              0             0                  0              0   \n",
       "65086              0             0                  0              0   \n",
       "15188              0             0                  0              0   \n",
       "...              ...           ...                ...            ...   \n",
       "36730              0             0                  0              0   \n",
       "41716              0             0                  0              0   \n",
       "14099              0             0                  0              0   \n",
       "37270              0             0                  0              0   \n",
       "82252              0             0                  0              0   \n",
       "\n",
       "       SERVICE_whois  FLAG_REJ  FLAG_RSTO  FLAG_RSTOS0  FLAG_RSTR  FLAG_S0  \\\n",
       "15931              0         0          0            0          0        0   \n",
       "16983              0         0          0            0          0        0   \n",
       "42396              0         0          1            0          0        0   \n",
       "65086              0         0          0            0          0        0   \n",
       "15188              0         0          0            0          0        0   \n",
       "...              ...       ...        ...          ...        ...      ...   \n",
       "36730              0         0          0            0          0        0   \n",
       "41716              0         0          0            0          0        0   \n",
       "14099              0         0          0            0          0        0   \n",
       "37270              0         0          0            0          0        0   \n",
       "82252              0         0          0            0          0        0   \n",
       "\n",
       "       FLAG_S1  FLAG_S2  FLAG_S3  FLAG_SF  FLAG_SH  ATTACK_BINARY  \n",
       "15931        0        0        0        1        0              1  \n",
       "16983        0        0        0        1        0              1  \n",
       "42396        0        0        0        0        0              1  \n",
       "65086        0        0        0        1        0              1  \n",
       "15188        0        0        0        1        0              1  \n",
       "...        ...      ...      ...      ...      ...            ...  \n",
       "36730        0        0        0        1        0              1  \n",
       "41716        0        0        0        1        0              1  \n",
       "14099        0        0        0        1        0              1  \n",
       "37270        0        0        0        1        0              1  \n",
       "82252        0        0        0        1        0              1  \n",
       "\n",
       "[67343 rows x 121 columns]"
      ]
     },
     "execution_count": 126,
     "metadata": {},
     "output_type": "execute_result"
    }
   ],
   "source": [
    "df_minority_upsampled_u2r"
   ]
  },
  {
   "cell_type": "code",
   "execution_count": 128,
   "metadata": {},
   "outputs": [
    {
     "data": {
      "text/plain": [
       "1    67343\n",
       "0    67343\n",
       "Name: ATTACK_BINARY, dtype: int64"
      ]
     },
     "execution_count": 128,
     "metadata": {},
     "output_type": "execute_result"
    }
   ],
   "source": [
    "# Combine majority class with upsampled minority class\n",
    "df_upsampled_u2r = pd.concat([df_majority_u2r, df_minority_upsampled_u2r])\n",
    " \n",
    "# Display new class counts\n",
    "df_upsampled_u2r['ATTACK_BINARY'].value_counts()"
   ]
  },
  {
   "cell_type": "code",
   "execution_count": 129,
   "metadata": {},
   "outputs": [],
   "source": [
    "network_train_u2r1_Y=network_train_u2r1['ATTACK_BINARY']"
   ]
  },
  {
   "cell_type": "code",
   "execution_count": 130,
   "metadata": {},
   "outputs": [
    {
     "data": {
      "text/plain": [
       "0    67343\n",
       "1       52\n",
       "Name: ATTACK_BINARY, dtype: int64"
      ]
     },
     "execution_count": 130,
     "metadata": {},
     "output_type": "execute_result"
    }
   ],
   "source": [
    "network_train_u2r1_Y.value_counts()"
   ]
  },
  {
   "cell_type": "code",
   "execution_count": 131,
   "metadata": {},
   "outputs": [],
   "source": [
    "network_train_u2r1_Y=df_upsampled_u2r['ATTACK_BINARY']"
   ]
  },
  {
   "cell_type": "code",
   "execution_count": 132,
   "metadata": {},
   "outputs": [],
   "source": [
    "network_train_u2r1_X=df_upsampled_u2r[df_upsampled_u2r.columns.difference(['ATTACK_BINARY']).tolist()]"
   ]
  },
  {
   "cell_type": "code",
   "execution_count": 133,
   "metadata": {},
   "outputs": [
    {
     "data": {
      "text/plain": [
       "(134686, 120)"
      ]
     },
     "execution_count": 133,
     "metadata": {},
     "output_type": "execute_result"
    }
   ],
   "source": [
    "network_train_u2r1_X.shape"
   ]
  },
  {
   "cell_type": "markdown",
   "metadata": {},
   "source": [
    "#### Test"
   ]
  },
  {
   "cell_type": "code",
   "execution_count": 134,
   "metadata": {},
   "outputs": [],
   "source": [
    "network_test_dos1_X=network_test_dos1[network_test_dos1.columns.difference(['ATTACK_BINARY']).tolist()]"
   ]
  },
  {
   "cell_type": "code",
   "execution_count": 135,
   "metadata": {},
   "outputs": [
    {
     "data": {
      "text/plain": [
       "(17171, 120)"
      ]
     },
     "execution_count": 135,
     "metadata": {},
     "output_type": "execute_result"
    }
   ],
   "source": [
    "network_test_dos1_X.shape"
   ]
  },
  {
   "cell_type": "code",
   "execution_count": 136,
   "metadata": {},
   "outputs": [],
   "source": [
    "network_test_dos1_Y=network_test_dos1['ATTACK_BINARY']"
   ]
  },
  {
   "cell_type": "code",
   "execution_count": 137,
   "metadata": {},
   "outputs": [
    {
     "data": {
      "text/plain": [
       "(17171,)"
      ]
     },
     "execution_count": 137,
     "metadata": {},
     "output_type": "execute_result"
    }
   ],
   "source": [
    "network_test_dos1_Y.shape"
   ]
  },
  {
   "cell_type": "code",
   "execution_count": 138,
   "metadata": {},
   "outputs": [],
   "source": [
    "network_test_probe1_X=network_test_probe1[network_test_probe1.columns.difference(['ATTACK_BINARY']).tolist()]"
   ]
  },
  {
   "cell_type": "code",
   "execution_count": 139,
   "metadata": {},
   "outputs": [
    {
     "data": {
      "text/plain": [
       "(12425, 120)"
      ]
     },
     "execution_count": 139,
     "metadata": {},
     "output_type": "execute_result"
    }
   ],
   "source": [
    "network_test_probe1_X.shape"
   ]
  },
  {
   "cell_type": "code",
   "execution_count": 140,
   "metadata": {},
   "outputs": [],
   "source": [
    "network_test_probe1_Y=network_test_probe1['ATTACK_BINARY']"
   ]
  },
  {
   "cell_type": "code",
   "execution_count": 141,
   "metadata": {},
   "outputs": [
    {
     "data": {
      "text/plain": [
       "(12425,)"
      ]
     },
     "execution_count": 141,
     "metadata": {},
     "output_type": "execute_result"
    }
   ],
   "source": [
    "network_test_probe1_Y.shape"
   ]
  },
  {
   "cell_type": "code",
   "execution_count": 142,
   "metadata": {},
   "outputs": [],
   "source": [
    "network_test_r2l1_X=network_test_r2l1[network_test_r2l1.columns.difference(['ATTACK_BINARY']).tolist()]"
   ]
  },
  {
   "cell_type": "code",
   "execution_count": 143,
   "metadata": {},
   "outputs": [
    {
     "data": {
      "text/plain": [
       "(12889, 120)"
      ]
     },
     "execution_count": 143,
     "metadata": {},
     "output_type": "execute_result"
    }
   ],
   "source": [
    "network_test_r2l1_X.shape"
   ]
  },
  {
   "cell_type": "code",
   "execution_count": 144,
   "metadata": {},
   "outputs": [],
   "source": [
    "network_test_r2l1_Y=network_test_r2l1['ATTACK_BINARY']"
   ]
  },
  {
   "cell_type": "code",
   "execution_count": 145,
   "metadata": {},
   "outputs": [
    {
     "data": {
      "text/plain": [
       "(12889,)"
      ]
     },
     "execution_count": 145,
     "metadata": {},
     "output_type": "execute_result"
    }
   ],
   "source": [
    "network_test_r2l1_Y.shape"
   ]
  },
  {
   "cell_type": "code",
   "execution_count": 146,
   "metadata": {},
   "outputs": [],
   "source": [
    "network_test_u2r1_X=network_test_u2r1[network_test_u2r1.columns.difference(['ATTACK_BINARY']).tolist()]"
   ]
  },
  {
   "cell_type": "code",
   "execution_count": 147,
   "metadata": {},
   "outputs": [
    {
     "data": {
      "text/plain": [
       "(10071, 120)"
      ]
     },
     "execution_count": 147,
     "metadata": {},
     "output_type": "execute_result"
    }
   ],
   "source": [
    "network_test_u2r1_X.shape"
   ]
  },
  {
   "cell_type": "code",
   "execution_count": 148,
   "metadata": {},
   "outputs": [],
   "source": [
    "network_test_u2r1_Y=network_test_u2r1['ATTACK_BINARY']"
   ]
  },
  {
   "cell_type": "code",
   "execution_count": 149,
   "metadata": {},
   "outputs": [
    {
     "data": {
      "text/plain": [
       "(10071,)"
      ]
     },
     "execution_count": 149,
     "metadata": {},
     "output_type": "execute_result"
    }
   ],
   "source": [
    "network_test_u2r1_Y.shape"
   ]
  },
  {
   "cell_type": "code",
   "execution_count": null,
   "metadata": {},
   "outputs": [],
   "source": []
  },
  {
   "cell_type": "code",
   "execution_count": null,
   "metadata": {},
   "outputs": [],
   "source": []
  },
  {
   "cell_type": "code",
   "execution_count": null,
   "metadata": {},
   "outputs": [],
   "source": []
  },
  {
   "cell_type": "markdown",
   "metadata": {},
   "source": [
    "### Feature scaling of network train and test data"
   ]
  },
  {
   "cell_type": "code",
   "execution_count": 150,
   "metadata": {},
   "outputs": [],
   "source": [
    "from sklearn import preprocessing"
   ]
  },
  {
   "cell_type": "markdown",
   "metadata": {},
   "source": [
    "#### Train"
   ]
  },
  {
   "cell_type": "code",
   "execution_count": 151,
   "metadata": {},
   "outputs": [],
   "source": [
    "dos1_X = preprocessing.StandardScaler().fit_transform(network_train_dos1_X)\n"
   ]
  },
  {
   "cell_type": "code",
   "execution_count": 152,
   "metadata": {},
   "outputs": [
    {
     "data": {
      "text/plain": [
       "array([1., 1., 1., 1., 1., 1., 1., 1., 1., 1., 1., 1., 1., 1., 1., 1., 0.,\n",
       "       1., 1., 1., 1., 1., 1., 1., 1., 1., 1., 1., 1., 1., 1., 1., 1., 1.,\n",
       "       0., 1., 1., 1., 1., 1., 1., 1., 1., 1., 1., 0., 1., 1., 1., 1., 1.,\n",
       "       1., 1., 1., 1., 1., 1., 1., 1., 1., 1., 1., 1., 1., 0., 1., 1., 0.,\n",
       "       1., 0., 1., 1., 1., 1., 1., 1., 1., 1., 1., 1., 1., 1., 1., 1., 1.,\n",
       "       1., 1., 0., 1., 1., 1., 1., 1., 1., 1., 1., 1., 1., 1., 1., 1., 1.,\n",
       "       1., 1., 1., 1., 1., 1., 1., 1., 1., 1., 1., 1., 1., 1., 1., 1., 1.,\n",
       "       1.])"
      ]
     },
     "execution_count": 152,
     "metadata": {},
     "output_type": "execute_result"
    }
   ],
   "source": [
    "dos1_X.std(axis=0)"
   ]
  },
  {
   "cell_type": "code",
   "execution_count": 153,
   "metadata": {},
   "outputs": [],
   "source": [
    "probe1_X = preprocessing.StandardScaler().fit_transform(network_train_probe1_X)\n"
   ]
  },
  {
   "cell_type": "code",
   "execution_count": 154,
   "metadata": {},
   "outputs": [],
   "source": [
    "r2l1_X = preprocessing.StandardScaler().fit_transform(network_train_r2l1_X)\n"
   ]
  },
  {
   "cell_type": "code",
   "execution_count": 155,
   "metadata": {},
   "outputs": [],
   "source": [
    "u2r1_X = preprocessing.StandardScaler().fit_transform(network_train_u2r1_X)\n"
   ]
  },
  {
   "cell_type": "markdown",
   "metadata": {},
   "source": [
    "#### Test"
   ]
  },
  {
   "cell_type": "code",
   "execution_count": 156,
   "metadata": {},
   "outputs": [],
   "source": [
    "dos1_test_X = preprocessing.StandardScaler().fit_transform(network_test_dos1_X)\n"
   ]
  },
  {
   "cell_type": "code",
   "execution_count": 157,
   "metadata": {},
   "outputs": [],
   "source": [
    "probe1_test_X = preprocessing.StandardScaler().fit_transform(network_test_probe1_X)\n"
   ]
  },
  {
   "cell_type": "code",
   "execution_count": 158,
   "metadata": {},
   "outputs": [],
   "source": [
    "r2l1_test_X = preprocessing.StandardScaler().fit_transform(network_test_r2l1_X)\n"
   ]
  },
  {
   "cell_type": "code",
   "execution_count": 159,
   "metadata": {},
   "outputs": [],
   "source": [
    "u2r1_test_X = preprocessing.StandardScaler().fit_transform(network_test_u2r1_X)\n"
   ]
  },
  {
   "cell_type": "code",
   "execution_count": 160,
   "metadata": {},
   "outputs": [
    {
     "data": {
      "text/plain": [
       "0.9486832980505138"
      ]
     },
     "execution_count": 160,
     "metadata": {},
     "output_type": "execute_result"
    }
   ],
   "source": [
    "dos1_test_X.std()"
   ]
  },
  {
   "cell_type": "markdown",
   "metadata": {},
   "source": [
    "### Building Decision Tree Model"
   ]
  },
  {
   "cell_type": "markdown",
   "metadata": {},
   "source": [
    "### DOS"
   ]
  },
  {
   "cell_type": "code",
   "execution_count": 161,
   "metadata": {},
   "outputs": [],
   "source": [
    "from sklearn import metrics\n",
    "from sklearn.tree import DecisionTreeClassifier, export_graphviz\n",
    "from sklearn.model_selection import GridSearchCV"
   ]
  },
  {
   "cell_type": "code",
   "execution_count": 162,
   "metadata": {},
   "outputs": [],
   "source": [
    "param_grid = {'max_depth': np.arange(3, 12),\n",
    "             'max_features': np.arange(5,15)}"
   ]
  },
  {
   "cell_type": "code",
   "execution_count": 163,
   "metadata": {},
   "outputs": [
    {
     "data": {
      "text/plain": [
       "GridSearchCV(cv=5, error_score='raise-deprecating',\n",
       "             estimator=DecisionTreeClassifier(class_weight=None,\n",
       "                                              criterion='gini', max_depth=None,\n",
       "                                              max_features=None,\n",
       "                                              max_leaf_nodes=None,\n",
       "                                              min_impurity_decrease=0.0,\n",
       "                                              min_impurity_split=None,\n",
       "                                              min_samples_leaf=1,\n",
       "                                              min_samples_split=2,\n",
       "                                              min_weight_fraction_leaf=0.0,\n",
       "                                              presort=False, random_state=None,\n",
       "                                              splitter='best'),\n",
       "             iid='warn', n_jobs=None,\n",
       "             param_grid={'max_depth': array([ 3,  4,  5,  6,  7,  8,  9, 10, 11]),\n",
       "                         'max_features': array([ 5,  6,  7,  8,  9, 10, 11, 12, 13, 14])},\n",
       "             pre_dispatch='2*n_jobs', refit=True, return_train_score=False,\n",
       "             scoring='roc_auc', verbose=0)"
      ]
     },
     "execution_count": 163,
     "metadata": {},
     "output_type": "execute_result"
    }
   ],
   "source": [
    "tree_dos = GridSearchCV(DecisionTreeClassifier(), param_grid, cv = 5, scoring='roc_auc')\n",
    "tree_dos.fit( dos1_X, network_train_dos1_Y )"
   ]
  },
  {
   "cell_type": "code",
   "execution_count": 191,
   "metadata": {},
   "outputs": [
    {
     "data": {
      "text/plain": [
       "(113270, 120)"
      ]
     },
     "execution_count": 191,
     "metadata": {},
     "output_type": "execute_result"
    }
   ],
   "source": [
    "dos1_X.shape"
   ]
  },
  {
   "cell_type": "code",
   "execution_count": 192,
   "metadata": {},
   "outputs": [
    {
     "data": {
      "text/plain": [
       "0.999769523957926"
      ]
     },
     "execution_count": 192,
     "metadata": {},
     "output_type": "execute_result"
    }
   ],
   "source": [
    "tree_dos.best_score_"
   ]
  },
  {
   "cell_type": "code",
   "execution_count": 193,
   "metadata": {},
   "outputs": [
    {
     "data": {
      "text/plain": [
       "{'max_depth': 10, 'max_features': 10}"
      ]
     },
     "execution_count": 193,
     "metadata": {},
     "output_type": "execute_result"
    }
   ],
   "source": [
    "tree_dos.best_params_"
   ]
  },
  {
   "cell_type": "code",
   "execution_count": 195,
   "metadata": {},
   "outputs": [
    {
     "data": {
      "text/plain": [
       "0.9995564866724421"
      ]
     },
     "execution_count": 195,
     "metadata": {},
     "output_type": "execute_result"
    }
   ],
   "source": [
    "metrics.roc_auc_score(network_train_dos1_Y, pd.DataFrame(tree_dos.predict_proba(dos1_X))[1])"
   ]
  },
  {
   "cell_type": "code",
   "execution_count": 200,
   "metadata": {},
   "outputs": [],
   "source": [
    "train_pred_dos = tree_dos.predict(dos1_X)"
   ]
  },
  {
   "cell_type": "code",
   "execution_count": 201,
   "metadata": {},
   "outputs": [
    {
     "data": {
      "text/plain": [
       "array([0, 0, 1, ..., 0, 1, 0])"
      ]
     },
     "execution_count": 201,
     "metadata": {},
     "output_type": "execute_result"
    }
   ],
   "source": [
    "train_pred_dos"
   ]
  },
  {
   "cell_type": "code",
   "execution_count": 202,
   "metadata": {},
   "outputs": [
    {
     "name": "stdout",
     "output_type": "stream",
     "text": [
      "              precision    recall  f1-score   support\n",
      "\n",
      "           0       0.99      1.00      0.99     67343\n",
      "           1       1.00      0.98      0.99     45927\n",
      "\n",
      "    accuracy                           0.99    113270\n",
      "   macro avg       0.99      0.99      0.99    113270\n",
      "weighted avg       0.99      0.99      0.99    113270\n",
      "\n"
     ]
    }
   ],
   "source": [
    "print(metrics.classification_report(network_train_dos1_Y, train_pred_dos))"
   ]
  },
  {
   "cell_type": "code",
   "execution_count": 203,
   "metadata": {},
   "outputs": [],
   "source": [
    "import matplotlib.pyplot as plt\n",
    "import seaborn as sns\n",
    "%matplotlib inline"
   ]
  },
  {
   "cell_type": "code",
   "execution_count": 204,
   "metadata": {},
   "outputs": [
    {
     "data": {
      "text/plain": [
       "Text(0.5, 15.0, 'Predicted label')"
      ]
     },
     "execution_count": 204,
     "metadata": {},
     "output_type": "execute_result"
    },
    {
     "data": {
      "image/png": "[encoded data removed]",
      "text/plain": [
       "<Figure size 432x288 with 2 Axes>"
      ]
     },
     "metadata": {
      "needs_background": "light"
     },
     "output_type": "display_data"
    }
   ],
   "source": [
    "#plt.figure(1 , figsize = (10 , 5))\n",
    "tree_cm_dos = metrics.confusion_matrix( train_pred_dos,\n",
    "                                 network_train_dos1_Y,\n",
    "                                 [1,0] )\n",
    "\n",
    "sns.heatmap(tree_cm_dos, annot=True,\n",
    "         fmt='.0f',\n",
    "         xticklabels = [\"ATTACK\", \"NORMAL\"] , yticklabels = [\"ATTACK\", \"NORMAL\"] )\n",
    "\n",
    "plt.ylabel('True label')\n",
    "plt.xlabel('Predicted label')"
   ]
  },
  {
   "cell_type": "code",
   "execution_count": 205,
   "metadata": {},
   "outputs": [
    {
     "data": {
      "text/plain": [
       "DecisionTreeClassifier(class_weight=None, criterion='gini', max_depth=10,\n",
       "                       max_features=10, max_leaf_nodes=None,\n",
       "                       min_impurity_decrease=0.0, min_impurity_split=None,\n",
       "                       min_samples_leaf=1, min_samples_split=2,\n",
       "                       min_weight_fraction_leaf=0.0, presort=False,\n",
       "                       random_state=None, splitter='best')"
      ]
     },
     "execution_count": 205,
     "metadata": {},
     "output_type": "execute_result"
    }
   ],
   "source": [
    "clf_tree_dos = DecisionTreeClassifier( max_depth =10, max_features=10 )\n",
    "clf_tree_dos.fit( dos1_X, network_train_dos1_Y )"
   ]
  },
  {
   "cell_type": "code",
   "execution_count": 206,
   "metadata": {},
   "outputs": [
    {
     "data": {
      "text/plain": [
       "array([6.96276886e-03, 2.80946300e-05, 5.87365817e-04, 5.46502567e-03,\n",
       "       8.16923918e-04, 4.21087563e-04, 7.26584097e-05, 2.66296608e-03,\n",
       "       1.63955120e-03, 1.94309323e-03, 3.04165355e-03, 1.88117460e-04,\n",
       "       1.87297533e-05, 7.20590398e-04, 0.00000000e+00, 0.00000000e+00,\n",
       "       0.00000000e+00, 1.69888434e-03, 0.00000000e+00, 1.69627955e-07,\n",
       "       0.00000000e+00, 0.00000000e+00, 1.08937240e-04, 0.00000000e+00,\n",
       "       1.22876042e-02, 0.00000000e+00, 0.00000000e+00, 0.00000000e+00,\n",
       "       1.41879244e-03, 0.00000000e+00, 0.00000000e+00, 1.63156270e-02,\n",
       "       0.00000000e+00, 0.00000000e+00, 0.00000000e+00, 3.73943649e-05,\n",
       "       0.00000000e+00, 5.35127514e-02, 0.00000000e+00, 0.00000000e+00,\n",
       "       0.00000000e+00, 1.02001302e-01, 4.72498289e-06, 0.00000000e+00,\n",
       "       1.36473953e-10, 0.00000000e+00, 0.00000000e+00, 0.00000000e+00,\n",
       "       0.00000000e+00, 0.00000000e+00, 0.00000000e+00, 0.00000000e+00,\n",
       "       0.00000000e+00, 0.00000000e+00, 6.75737324e-04, 0.00000000e+00,\n",
       "       0.00000000e+00, 0.00000000e+00, 0.00000000e+00, 0.00000000e+00,\n",
       "       0.00000000e+00, 0.00000000e+00, 0.00000000e+00, 0.00000000e+00,\n",
       "       0.00000000e+00, 0.00000000e+00, 4.84350058e-03, 0.00000000e+00,\n",
       "       0.00000000e+00, 0.00000000e+00, 0.00000000e+00, 0.00000000e+00,\n",
       "       0.00000000e+00, 0.00000000e+00, 0.00000000e+00, 0.00000000e+00,\n",
       "       0.00000000e+00, 0.00000000e+00, 0.00000000e+00, 0.00000000e+00,\n",
       "       0.00000000e+00, 0.00000000e+00, 0.00000000e+00, 0.00000000e+00,\n",
       "       0.00000000e+00, 0.00000000e+00, 0.00000000e+00, 0.00000000e+00,\n",
       "       0.00000000e+00, 0.00000000e+00, 0.00000000e+00, 0.00000000e+00,\n",
       "       0.00000000e+00, 0.00000000e+00, 0.00000000e+00, 0.00000000e+00,\n",
       "       4.24541075e-06, 0.00000000e+00, 0.00000000e+00, 0.00000000e+00,\n",
       "       0.00000000e+00, 0.00000000e+00, 0.00000000e+00, 0.00000000e+00,\n",
       "       4.47440361e-05, 0.00000000e+00, 0.00000000e+00, 0.00000000e+00,\n",
       "       0.00000000e+00, 0.00000000e+00, 0.00000000e+00, 0.00000000e+00,\n",
       "       7.40828575e-01, 2.89427998e-05, 1.78378603e-06, 4.22437634e-04,\n",
       "       5.18943376e-03, 0.00000000e+00, 0.00000000e+00, 3.60057850e-02])"
      ]
     },
     "execution_count": 206,
     "metadata": {},
     "output_type": "execute_result"
    }
   ],
   "source": [
    "clf_tree_dos.feature_importances_"
   ]
  },
  {
   "cell_type": "code",
   "execution_count": 208,
   "metadata": {},
   "outputs": [],
   "source": [
    "var_imp_dos = pd.concat([pd.Series(network_train_dos1_X.columns), pd.Series(clf_tree_dos.feature_importances_)], axis=1)\n",
    "var_imp_dos.columns = ['feature', 'importance']"
   ]
  },
  {
   "cell_type": "code",
   "execution_count": 210,
   "metadata": {},
   "outputs": [
    {
     "data": {
      "text/html": [
       "<div>\n",
       "<style scoped>\n",
       "    .dataframe tbody tr th:only-of-type {\n",
       "        vertical-align: middle;\n",
       "    }\n",
       "\n",
       "    .dataframe tbody tr th {\n",
       "        vertical-align: top;\n",
       "    }\n",
       "\n",
       "    .dataframe thead th {\n",
       "        text-align: right;\n",
       "    }\n",
       "</style>\n",
       "<table border=\"1\" class=\"dataframe\">\n",
       "  <thead>\n",
       "    <tr style=\"text-align: right;\">\n",
       "      <th></th>\n",
       "      <th>feature</th>\n",
       "      <th>importance</th>\n",
       "    </tr>\n",
       "  </thead>\n",
       "  <tbody>\n",
       "    <tr>\n",
       "      <td>0</td>\n",
       "      <td>SRC_BYTES</td>\n",
       "      <td>0.741</td>\n",
       "    </tr>\n",
       "    <tr>\n",
       "      <td>1</td>\n",
       "      <td>SAME_SRV_RATE</td>\n",
       "      <td>0.102</td>\n",
       "    </tr>\n",
       "    <tr>\n",
       "      <td>2</td>\n",
       "      <td>PROTOCOL_TYPE_tcp</td>\n",
       "      <td>0.054</td>\n",
       "    </tr>\n",
       "    <tr>\n",
       "      <td>3</td>\n",
       "      <td>WRONG_FRAGMENT</td>\n",
       "      <td>0.036</td>\n",
       "    </tr>\n",
       "    <tr>\n",
       "      <td>4</td>\n",
       "      <td>NUM_COMPROMISED</td>\n",
       "      <td>0.016</td>\n",
       "    </tr>\n",
       "    <tr>\n",
       "      <td>5</td>\n",
       "      <td>HOT</td>\n",
       "      <td>0.012</td>\n",
       "    </tr>\n",
       "    <tr>\n",
       "      <td>6</td>\n",
       "      <td>COUNT</td>\n",
       "      <td>0.007</td>\n",
       "    </tr>\n",
       "    <tr>\n",
       "      <td>7</td>\n",
       "      <td>DST_HOST_COUNT</td>\n",
       "      <td>0.005</td>\n",
       "    </tr>\n",
       "    <tr>\n",
       "      <td>8</td>\n",
       "      <td>SRV_SERROR_RATE</td>\n",
       "      <td>0.005</td>\n",
       "    </tr>\n",
       "    <tr>\n",
       "      <td>9</td>\n",
       "      <td>SERVICE_http</td>\n",
       "      <td>0.005</td>\n",
       "    </tr>\n",
       "  </tbody>\n",
       "</table>\n",
       "</div>"
      ],
      "text/plain": [
       "             feature  importance\n",
       "0          SRC_BYTES       0.741\n",
       "1      SAME_SRV_RATE       0.102\n",
       "2  PROTOCOL_TYPE_tcp       0.054\n",
       "3     WRONG_FRAGMENT       0.036\n",
       "4    NUM_COMPROMISED       0.016\n",
       "5                HOT       0.012\n",
       "6              COUNT       0.007\n",
       "7     DST_HOST_COUNT       0.005\n",
       "8    SRV_SERROR_RATE       0.005\n",
       "9       SERVICE_http       0.005"
      ]
     },
     "execution_count": 210,
     "metadata": {},
     "output_type": "execute_result"
    }
   ],
   "source": [
    "var_imp_dos.sort_values('importance', ascending=False).iloc[0:10].reset_index(drop=True)"
   ]
  },
  {
   "cell_type": "code",
   "execution_count": 213,
   "metadata": {},
   "outputs": [],
   "source": [
    "DOS_sel_features=var_imp_dos.sort_values('importance', ascending=False).iloc[0:10].reset_index(drop=True).feature.tolist()"
   ]
  },
  {
   "cell_type": "markdown",
   "metadata": {},
   "source": [
    "#### Test"
   ]
  },
  {
   "cell_type": "code",
   "execution_count": 220,
   "metadata": {},
   "outputs": [],
   "source": [
    "test_pred_dos_Y = clf_tree_dos.predict(dos1_test_X)"
   ]
  },
  {
   "cell_type": "code",
   "execution_count": 221,
   "metadata": {},
   "outputs": [
    {
     "data": {
      "text/plain": [
       "array([1, 1, 0, ..., 0, 0, 0])"
      ]
     },
     "execution_count": 221,
     "metadata": {},
     "output_type": "execute_result"
    }
   ],
   "source": [
    "test_pred_dos_Y"
   ]
  },
  {
   "cell_type": "code",
   "execution_count": 222,
   "metadata": {},
   "outputs": [
    {
     "data": {
      "text/plain": [
       "Text(0.5, 15.0, 'Predicted label')"
      ]
     },
     "execution_count": 222,
     "metadata": {},
     "output_type": "execute_result"
    },
    {
     "data": {
      "image/png": "[encoded data removed]",
      "text/plain": [
       "<Figure size 432x288 with 2 Axes>"
      ]
     },
     "metadata": {
      "needs_background": "light"
     },
     "output_type": "display_data"
    }
   ],
   "source": [
    "#plt.figure(1 , figsize = (10 , 5))\n",
    "tree_test_dos = metrics.confusion_matrix( test_pred_dos_Y,\n",
    "                                 network_test_dos1_Y,\n",
    "                                 [1,0] )\n",
    "sns.heatmap(tree_test_dos, annot=True,\n",
    "         fmt='.0f',\n",
    "         xticklabels = [\"ATTACK\", \"NORMAL\"] , yticklabels = [\"ATTACK\", \"NORMAL\"] )\n",
    "\n",
    "plt.ylabel('True label')\n",
    "plt.xlabel('Predicted label')"
   ]
  },
  {
   "cell_type": "code",
   "execution_count": 223,
   "metadata": {},
   "outputs": [
    {
     "name": "stdout",
     "output_type": "stream",
     "text": [
      "              precision    recall  f1-score   support\n",
      "\n",
      "           0       0.82      0.97      0.89     10004\n",
      "           1       0.94      0.70      0.80      7167\n",
      "\n",
      "    accuracy                           0.86     17171\n",
      "   macro avg       0.88      0.83      0.85     17171\n",
      "weighted avg       0.87      0.86      0.85     17171\n",
      "\n"
     ]
    }
   ],
   "source": [
    "print(metrics.classification_report(network_test_dos1_Y, test_pred_dos_Y))"
   ]
  },
  {
   "cell_type": "code",
   "execution_count": null,
   "metadata": {},
   "outputs": [],
   "source": [
    "tree_dos.best_score_"
   ]
  },
  {
   "cell_type": "code",
   "execution_count": null,
   "metadata": {},
   "outputs": [],
   "source": []
  },
  {
   "cell_type": "markdown",
   "metadata": {},
   "source": [
    "### PROBE"
   ]
  },
  {
   "cell_type": "code",
   "execution_count": 226,
   "metadata": {},
   "outputs": [],
   "source": [
    "from sklearn import metrics\n",
    "from sklearn.tree import DecisionTreeClassifier, export_graphviz\n",
    "from sklearn.model_selection import GridSearchCV"
   ]
  },
  {
   "cell_type": "code",
   "execution_count": 227,
   "metadata": {},
   "outputs": [],
   "source": [
    "param_grid = {'max_depth': np.arange(3, 12),\n",
    "             'max_features': np.arange(5,15)}"
   ]
  },
  {
   "cell_type": "code",
   "execution_count": 228,
   "metadata": {},
   "outputs": [
    {
     "data": {
      "text/plain": [
       "GridSearchCV(cv=8, error_score='raise-deprecating',\n",
       "             estimator=DecisionTreeClassifier(class_weight=None,\n",
       "                                              criterion='gini', max_depth=None,\n",
       "                                              max_features=None,\n",
       "                                              max_leaf_nodes=None,\n",
       "                                              min_impurity_decrease=0.0,\n",
       "                                              min_impurity_split=None,\n",
       "                                              min_samples_leaf=1,\n",
       "                                              min_samples_split=2,\n",
       "                                              min_weight_fraction_leaf=0.0,\n",
       "                                              presort=False, random_state=None,\n",
       "                                              splitter='best'),\n",
       "             iid='warn', n_jobs=None,\n",
       "             param_grid={'max_depth': array([ 3,  4,  5,  6,  7,  8,  9, 10, 11]),\n",
       "                         'max_features': array([ 5,  6,  7,  8,  9, 10, 11, 12, 13, 14])},\n",
       "             pre_dispatch='2*n_jobs', refit=True, return_train_score=False,\n",
       "             scoring='roc_auc', verbose=0)"
      ]
     },
     "execution_count": 228,
     "metadata": {},
     "output_type": "execute_result"
    }
   ],
   "source": [
    "tree_probe = GridSearchCV(DecisionTreeClassifier(), param_grid, cv = 8, scoring='roc_auc')\n",
    "tree_probe.fit( probe1_X, network_train_probe1_Y )"
   ]
  },
  {
   "cell_type": "code",
   "execution_count": 230,
   "metadata": {},
   "outputs": [
    {
     "data": {
      "text/plain": [
       "(78999, 120)"
      ]
     },
     "execution_count": 230,
     "metadata": {},
     "output_type": "execute_result"
    }
   ],
   "source": [
    "probe1_X.shape"
   ]
  },
  {
   "cell_type": "code",
   "execution_count": 231,
   "metadata": {},
   "outputs": [
    {
     "data": {
      "text/plain": [
       "0.9986471850083679"
      ]
     },
     "execution_count": 231,
     "metadata": {},
     "output_type": "execute_result"
    }
   ],
   "source": [
    "tree_probe.best_score_"
   ]
  },
  {
   "cell_type": "code",
   "execution_count": 234,
   "metadata": {},
   "outputs": [
    {
     "data": {
      "text/plain": [
       "{'max_depth': 10, 'max_features': 13}"
      ]
     },
     "execution_count": 234,
     "metadata": {},
     "output_type": "execute_result"
    }
   ],
   "source": [
    "tree_probe.best_params_"
   ]
  },
  {
   "cell_type": "code",
   "execution_count": 235,
   "metadata": {},
   "outputs": [
    {
     "data": {
      "text/plain": [
       "0.9998504191365013"
      ]
     },
     "execution_count": 235,
     "metadata": {},
     "output_type": "execute_result"
    }
   ],
   "source": [
    "metrics.roc_auc_score(network_train_probe1_Y, pd.DataFrame(tree_probe.predict_proba(probe1_X))[1])"
   ]
  },
  {
   "cell_type": "code",
   "execution_count": 236,
   "metadata": {},
   "outputs": [],
   "source": [
    "train_pred_probe = tree_probe.predict(probe1_X)"
   ]
  },
  {
   "cell_type": "code",
   "execution_count": 239,
   "metadata": {},
   "outputs": [
    {
     "data": {
      "text/plain": [
       "array([0, 0, 0, ..., 0, 0, 0])"
      ]
     },
     "execution_count": 239,
     "metadata": {},
     "output_type": "execute_result"
    }
   ],
   "source": [
    "train_pred_probe"
   ]
  },
  {
   "cell_type": "code",
   "execution_count": 240,
   "metadata": {},
   "outputs": [
    {
     "name": "stdout",
     "output_type": "stream",
     "text": [
      "              precision    recall  f1-score   support\n",
      "\n",
      "           0       1.00      1.00      1.00     67343\n",
      "           1       0.99      1.00      0.99     11656\n",
      "\n",
      "    accuracy                           1.00     78999\n",
      "   macro avg       0.99      1.00      1.00     78999\n",
      "weighted avg       1.00      1.00      1.00     78999\n",
      "\n"
     ]
    }
   ],
   "source": [
    "print(metrics.classification_report(network_train_probe1_Y, train_pred_probe))"
   ]
  },
  {
   "cell_type": "code",
   "execution_count": 241,
   "metadata": {},
   "outputs": [],
   "source": [
    "import matplotlib.pyplot as plt\n",
    "import seaborn as sns\n",
    "%matplotlib inline"
   ]
  },
  {
   "cell_type": "code",
   "execution_count": 242,
   "metadata": {},
   "outputs": [
    {
     "data": {
      "text/plain": [
       "Text(0.5, 15.0, 'Predicted label')"
      ]
     },
     "execution_count": 242,
     "metadata": {},
     "output_type": "execute_result"
    },
    {
     "data": {
      "image/png": "[encoded data removed]",
      "text/plain": [
       "<Figure size 432x288 with 2 Axes>"
      ]
     },
     "metadata": {
      "needs_background": "light"
     },
     "output_type": "display_data"
    }
   ],
   "source": [
    "#plt.figure(1 , figsize = (10 , 5))\n",
    "tree_cm_probe = metrics.confusion_matrix( train_pred_probe,\n",
    "                                 network_train_probe1_Y,\n",
    "                                 [1,0] )\n",
    "\n",
    "sns.heatmap(tree_cm_probe, annot=True,\n",
    "         fmt='.0f',\n",
    "         xticklabels = [\"PROBE\", \"NORMAL\"] , yticklabels = [\"PROBE\", \"NORMAL\"] )\n",
    "\n",
    "plt.ylabel('True label')\n",
    "plt.xlabel('Predicted label')"
   ]
  },
  {
   "cell_type": "code",
   "execution_count": 243,
   "metadata": {},
   "outputs": [
    {
     "data": {
      "text/plain": [
       "DecisionTreeClassifier(class_weight=None, criterion='gini', max_depth=10,\n",
       "                       max_features=13, max_leaf_nodes=None,\n",
       "                       min_impurity_decrease=0.0, min_impurity_split=None,\n",
       "                       min_samples_leaf=1, min_samples_split=2,\n",
       "                       min_weight_fraction_leaf=0.0, presort=False,\n",
       "                       random_state=None, splitter='best')"
      ]
     },
     "execution_count": 243,
     "metadata": {},
     "output_type": "execute_result"
    }
   ],
   "source": [
    "clf_tree_probe = DecisionTreeClassifier( max_depth =10, max_features=13 )\n",
    "clf_tree_probe.fit( probe1_X, network_train_probe1_Y )"
   ]
  },
  {
   "cell_type": "code",
   "execution_count": 244,
   "metadata": {},
   "outputs": [
    {
     "data": {
      "text/plain": [
       "array([3.87088519e-03, 1.29546639e-03, 8.92415894e-02, 2.38288565e-03,\n",
       "       3.79204930e-03, 9.00376578e-03, 2.71140747e-01, 8.60177565e-04,\n",
       "       1.06872991e-04, 2.95032068e-01, 8.70489665e-03, 1.13609551e-01,\n",
       "       1.87846759e-03, 4.91759287e-04, 7.31841084e-06, 7.40811556e-04,\n",
       "       0.00000000e+00, 0.00000000e+00, 6.05854462e-04, 2.08032957e-04,\n",
       "       0.00000000e+00, 0.00000000e+00, 0.00000000e+00, 0.00000000e+00,\n",
       "       0.00000000e+00, 2.97432740e-06, 0.00000000e+00, 0.00000000e+00,\n",
       "       2.70605028e-02, 5.25196434e-04, 0.00000000e+00, 0.00000000e+00,\n",
       "       0.00000000e+00, 7.84383521e-05, 0.00000000e+00, 1.25750540e-04,\n",
       "       0.00000000e+00, 5.52438377e-03, 1.45326825e-04, 2.62390998e-04,\n",
       "       0.00000000e+00, 4.09541013e-03, 2.49122493e-04, 0.00000000e+00,\n",
       "       0.00000000e+00, 0.00000000e+00, 1.21952875e-04, 0.00000000e+00,\n",
       "       0.00000000e+00, 0.00000000e+00, 0.00000000e+00, 0.00000000e+00,\n",
       "       0.00000000e+00, 0.00000000e+00, 0.00000000e+00, 0.00000000e+00,\n",
       "       1.34191537e-03, 7.90192522e-05, 0.00000000e+00, 0.00000000e+00,\n",
       "       5.33342824e-04, 2.03839683e-04, 2.11920779e-03, 0.00000000e+00,\n",
       "       0.00000000e+00, 0.00000000e+00, 1.13976729e-04, 0.00000000e+00,\n",
       "       7.58453487e-05, 0.00000000e+00, 0.00000000e+00, 0.00000000e+00,\n",
       "       0.00000000e+00, 0.00000000e+00, 0.00000000e+00, 0.00000000e+00,\n",
       "       0.00000000e+00, 0.00000000e+00, 0.00000000e+00, 0.00000000e+00,\n",
       "       0.00000000e+00, 0.00000000e+00, 0.00000000e+00, 0.00000000e+00,\n",
       "       0.00000000e+00, 0.00000000e+00, 0.00000000e+00, 0.00000000e+00,\n",
       "       0.00000000e+00, 0.00000000e+00, 0.00000000e+00, 5.97108834e-04,\n",
       "       0.00000000e+00, 0.00000000e+00, 0.00000000e+00, 0.00000000e+00,\n",
       "       0.00000000e+00, 0.00000000e+00, 2.88934662e-04, 0.00000000e+00,\n",
       "       0.00000000e+00, 0.00000000e+00, 1.25587197e-03, 1.96216823e-04,\n",
       "       1.03084798e-05, 0.00000000e+00, 0.00000000e+00, 2.78436897e-03,\n",
       "       0.00000000e+00, 0.00000000e+00, 0.00000000e+00, 0.00000000e+00,\n",
       "       1.37641650e-01, 3.12496431e-05, 1.50819579e-04, 1.13442582e-02,\n",
       "       6.74180878e-05, 0.00000000e+00, 0.00000000e+00, 0.00000000e+00])"
      ]
     },
     "execution_count": 244,
     "metadata": {},
     "output_type": "execute_result"
    }
   ],
   "source": [
    "clf_tree_probe.feature_importances_"
   ]
  },
  {
   "cell_type": "code",
   "execution_count": 245,
   "metadata": {},
   "outputs": [],
   "source": [
    "var_imp_probe = pd.concat([pd.Series(network_train_probe1_X.columns), pd.Series(clf_tree_probe.feature_importances_)], axis=1)\n",
    "var_imp_probe.columns = ['feature', 'importance']"
   ]
  },
  {
   "cell_type": "code",
   "execution_count": 247,
   "metadata": {},
   "outputs": [
    {
     "data": {
      "text/html": [
       "<div>\n",
       "<style scoped>\n",
       "    .dataframe tbody tr th:only-of-type {\n",
       "        vertical-align: middle;\n",
       "    }\n",
       "\n",
       "    .dataframe tbody tr th {\n",
       "        vertical-align: top;\n",
       "    }\n",
       "\n",
       "    .dataframe thead th {\n",
       "        text-align: right;\n",
       "    }\n",
       "</style>\n",
       "<table border=\"1\" class=\"dataframe\">\n",
       "  <thead>\n",
       "    <tr style=\"text-align: right;\">\n",
       "      <th></th>\n",
       "      <th>feature</th>\n",
       "      <th>importance</th>\n",
       "    </tr>\n",
       "  </thead>\n",
       "  <tbody>\n",
       "    <tr>\n",
       "      <td>0</td>\n",
       "      <td>DST_HOST_SRV_COUNT</td>\n",
       "      <td>0.295</td>\n",
       "    </tr>\n",
       "    <tr>\n",
       "      <td>1</td>\n",
       "      <td>DST_HOST_SAME_SRC_PORT_RATE</td>\n",
       "      <td>0.271</td>\n",
       "    </tr>\n",
       "    <tr>\n",
       "      <td>2</td>\n",
       "      <td>SRC_BYTES</td>\n",
       "      <td>0.138</td>\n",
       "    </tr>\n",
       "    <tr>\n",
       "      <td>3</td>\n",
       "      <td>DST_HOST_SRV_RERROR_RATE</td>\n",
       "      <td>0.114</td>\n",
       "    </tr>\n",
       "    <tr>\n",
       "      <td>4</td>\n",
       "      <td>DST_BYTES</td>\n",
       "      <td>0.089</td>\n",
       "    </tr>\n",
       "    <tr>\n",
       "      <td>5</td>\n",
       "      <td>LAST_FLAG</td>\n",
       "      <td>0.027</td>\n",
       "    </tr>\n",
       "    <tr>\n",
       "      <td>6</td>\n",
       "      <td>SRV_RERROR_RATE</td>\n",
       "      <td>0.011</td>\n",
       "    </tr>\n",
       "    <tr>\n",
       "      <td>7</td>\n",
       "      <td>DST_HOST_RERROR_RATE</td>\n",
       "      <td>0.009</td>\n",
       "    </tr>\n",
       "    <tr>\n",
       "      <td>8</td>\n",
       "      <td>DST_HOST_SRV_DIFF_HOST_RATE</td>\n",
       "      <td>0.009</td>\n",
       "    </tr>\n",
       "    <tr>\n",
       "      <td>9</td>\n",
       "      <td>PROTOCOL_TYPE_tcp</td>\n",
       "      <td>0.006</td>\n",
       "    </tr>\n",
       "    <tr>\n",
       "      <td>10</td>\n",
       "      <td>SAME_SRV_RATE</td>\n",
       "      <td>0.004</td>\n",
       "    </tr>\n",
       "    <tr>\n",
       "      <td>11</td>\n",
       "      <td>COUNT</td>\n",
       "      <td>0.004</td>\n",
       "    </tr>\n",
       "    <tr>\n",
       "      <td>12</td>\n",
       "      <td>DST_HOST_DIFF_SRV_RATE</td>\n",
       "      <td>0.004</td>\n",
       "    </tr>\n",
       "  </tbody>\n",
       "</table>\n",
       "</div>"
      ],
      "text/plain": [
       "                        feature  importance\n",
       "0            DST_HOST_SRV_COUNT       0.295\n",
       "1   DST_HOST_SAME_SRC_PORT_RATE       0.271\n",
       "2                     SRC_BYTES       0.138\n",
       "3      DST_HOST_SRV_RERROR_RATE       0.114\n",
       "4                     DST_BYTES       0.089\n",
       "5                     LAST_FLAG       0.027\n",
       "6               SRV_RERROR_RATE       0.011\n",
       "7          DST_HOST_RERROR_RATE       0.009\n",
       "8   DST_HOST_SRV_DIFF_HOST_RATE       0.009\n",
       "9             PROTOCOL_TYPE_tcp       0.006\n",
       "10                SAME_SRV_RATE       0.004\n",
       "11                        COUNT       0.004\n",
       "12       DST_HOST_DIFF_SRV_RATE       0.004"
      ]
     },
     "execution_count": 247,
     "metadata": {},
     "output_type": "execute_result"
    }
   ],
   "source": [
    "var_imp_probe.sort_values('importance', ascending=False).iloc[0:13].reset_index(drop=True)"
   ]
  },
  {
   "cell_type": "code",
   "execution_count": 248,
   "metadata": {},
   "outputs": [],
   "source": [
    "PROBE_sel_features=var_imp_probe.sort_values('importance', ascending=False).iloc[0:13].reset_index(drop=True).feature.tolist()"
   ]
  },
  {
   "cell_type": "code",
   "execution_count": 249,
   "metadata": {},
   "outputs": [
    {
     "data": {
      "text/plain": [
       "['DST_HOST_SRV_COUNT',\n",
       " 'DST_HOST_SAME_SRC_PORT_RATE',\n",
       " 'SRC_BYTES',\n",
       " 'DST_HOST_SRV_RERROR_RATE',\n",
       " 'DST_BYTES',\n",
       " 'LAST_FLAG',\n",
       " 'SRV_RERROR_RATE',\n",
       " 'DST_HOST_RERROR_RATE',\n",
       " 'DST_HOST_SRV_DIFF_HOST_RATE',\n",
       " 'PROTOCOL_TYPE_tcp',\n",
       " 'SAME_SRV_RATE',\n",
       " 'COUNT',\n",
       " 'DST_HOST_DIFF_SRV_RATE']"
      ]
     },
     "execution_count": 249,
     "metadata": {},
     "output_type": "execute_result"
    }
   ],
   "source": [
    "PROBE_sel_features"
   ]
  },
  {
   "cell_type": "markdown",
   "metadata": {},
   "source": [
    "#### Test"
   ]
  },
  {
   "cell_type": "code",
   "execution_count": 250,
   "metadata": {},
   "outputs": [],
   "source": [
    "test_pred_probe_Y = clf_tree_probe.predict(probe1_test_X)"
   ]
  },
  {
   "cell_type": "code",
   "execution_count": 251,
   "metadata": {},
   "outputs": [
    {
     "data": {
      "text/plain": [
       "array([0, 1, 0, ..., 0, 0, 0])"
      ]
     },
     "execution_count": 251,
     "metadata": {},
     "output_type": "execute_result"
    }
   ],
   "source": [
    "test_pred_probe_Y"
   ]
  },
  {
   "cell_type": "code",
   "execution_count": 252,
   "metadata": {},
   "outputs": [
    {
     "data": {
      "text/plain": [
       "Text(0.5, 15.0, 'Predicted label')"
      ]
     },
     "execution_count": 252,
     "metadata": {},
     "output_type": "execute_result"
    },
    {
     "data": {
      "image/png": "[encoded data removed]",
      "text/plain": [
       "<Figure size 432x288 with 2 Axes>"
      ]
     },
     "metadata": {
      "needs_background": "light"
     },
     "output_type": "display_data"
    }
   ],
   "source": [
    "#plt.figure(1 , figsize = (10 , 5))\n",
    "tree_test_probe = metrics.confusion_matrix( test_pred_probe_Y,\n",
    "                                 network_test_probe1_Y,\n",
    "                                 [1,0] )\n",
    "sns.heatmap(tree_test_probe, annot=True,\n",
    "         fmt='.0f',\n",
    "         xticklabels = [\"PROBE\", \"NORMAL\"] , yticklabels = [\"PROBE\", \"NORMAL\"] )\n",
    "\n",
    "plt.ylabel('True label')\n",
    "plt.xlabel('Predicted label')"
   ]
  },
  {
   "cell_type": "code",
   "execution_count": 253,
   "metadata": {},
   "outputs": [
    {
     "name": "stdout",
     "output_type": "stream",
     "text": [
      "              precision    recall  f1-score   support\n",
      "\n",
      "           0       0.91      0.93      0.92     10004\n",
      "           1       0.68      0.62      0.65      2421\n",
      "\n",
      "    accuracy                           0.87     12425\n",
      "   macro avg       0.80      0.77      0.78     12425\n",
      "weighted avg       0.87      0.87      0.87     12425\n",
      "\n"
     ]
    }
   ],
   "source": [
    "print(metrics.classification_report(network_test_probe1_Y, test_pred_probe_Y))"
   ]
  },
  {
   "cell_type": "markdown",
   "metadata": {},
   "source": [
    "### R2L"
   ]
  },
  {
   "cell_type": "code",
   "execution_count": 255,
   "metadata": {},
   "outputs": [],
   "source": [
    "from sklearn import metrics\n",
    "from sklearn.tree import DecisionTreeClassifier, export_graphviz\n",
    "from sklearn.model_selection import GridSearchCV"
   ]
  },
  {
   "cell_type": "code",
   "execution_count": 256,
   "metadata": {},
   "outputs": [],
   "source": [
    "param_grid = {'max_depth': np.arange(3, 12),\n",
    "             'max_features': np.arange(5,15)}"
   ]
  },
  {
   "cell_type": "code",
   "execution_count": 257,
   "metadata": {},
   "outputs": [
    {
     "data": {
      "text/plain": [
       "GridSearchCV(cv=8, error_score='raise-deprecating',\n",
       "             estimator=DecisionTreeClassifier(class_weight=None,\n",
       "                                              criterion='gini', max_depth=None,\n",
       "                                              max_features=None,\n",
       "                                              max_leaf_nodes=None,\n",
       "                                              min_impurity_decrease=0.0,\n",
       "                                              min_impurity_split=None,\n",
       "                                              min_samples_leaf=1,\n",
       "                                              min_samples_split=2,\n",
       "                                              min_weight_fraction_leaf=0.0,\n",
       "                                              presort=False, random_state=None,\n",
       "                                              splitter='best'),\n",
       "             iid='warn', n_jobs=None,\n",
       "             param_grid={'max_depth': array([ 3,  4,  5,  6,  7,  8,  9, 10, 11]),\n",
       "                         'max_features': array([ 5,  6,  7,  8,  9, 10, 11, 12, 13, 14])},\n",
       "             pre_dispatch='2*n_jobs', refit=True, return_train_score=False,\n",
       "             scoring='roc_auc', verbose=0)"
      ]
     },
     "execution_count": 257,
     "metadata": {},
     "output_type": "execute_result"
    }
   ],
   "source": [
    "tree_r2l = GridSearchCV(DecisionTreeClassifier(), param_grid, cv = 8, scoring='roc_auc')\n",
    "tree_r2l.fit( r2l1_X, network_train_r2l1_Y )"
   ]
  },
  {
   "cell_type": "code",
   "execution_count": 258,
   "metadata": {},
   "outputs": [
    {
     "data": {
      "text/plain": [
       "(68338, 120)"
      ]
     },
     "execution_count": 258,
     "metadata": {},
     "output_type": "execute_result"
    }
   ],
   "source": [
    "r2l1_X.shape"
   ]
  },
  {
   "cell_type": "code",
   "execution_count": 259,
   "metadata": {},
   "outputs": [
    {
     "data": {
      "text/plain": [
       "0.9932311042086924"
      ]
     },
     "execution_count": 259,
     "metadata": {},
     "output_type": "execute_result"
    }
   ],
   "source": [
    "tree_r2l.best_score_"
   ]
  },
  {
   "cell_type": "code",
   "execution_count": 260,
   "metadata": {},
   "outputs": [
    {
     "data": {
      "text/plain": [
       "{'max_depth': 9, 'max_features': 13}"
      ]
     },
     "execution_count": 260,
     "metadata": {},
     "output_type": "execute_result"
    }
   ],
   "source": [
    "tree_r2l.best_params_"
   ]
  },
  {
   "cell_type": "code",
   "execution_count": 261,
   "metadata": {},
   "outputs": [
    {
     "data": {
      "text/plain": [
       "0.999837485394094"
      ]
     },
     "execution_count": 261,
     "metadata": {},
     "output_type": "execute_result"
    }
   ],
   "source": [
    "metrics.roc_auc_score(network_train_r2l1_Y, pd.DataFrame(tree_r2l.predict_proba(r2l1_X))[1])"
   ]
  },
  {
   "cell_type": "code",
   "execution_count": 268,
   "metadata": {},
   "outputs": [],
   "source": [
    "import matplotlib.pyplot as plt\n",
    "import seaborn as sns\n",
    "%matplotlib inline"
   ]
  },
  {
   "cell_type": "code",
   "execution_count": 274,
   "metadata": {},
   "outputs": [
    {
     "data": {
      "text/plain": [
       "DecisionTreeClassifier(class_weight=None, criterion='gini', max_depth=10,\n",
       "                       max_features=13, max_leaf_nodes=None,\n",
       "                       min_impurity_decrease=0.0, min_impurity_split=None,\n",
       "                       min_samples_leaf=1, min_samples_split=2,\n",
       "                       min_weight_fraction_leaf=0.0, presort=False,\n",
       "                       random_state=None, splitter='best')"
      ]
     },
     "execution_count": 274,
     "metadata": {},
     "output_type": "execute_result"
    }
   ],
   "source": [
    "clf_tree_r2l = DecisionTreeClassifier( max_depth =10, max_features=13 )\n",
    "clf_tree_r2l.fit( r2l1_X, network_train_r2l1_Y )"
   ]
  },
  {
   "cell_type": "code",
   "execution_count": 275,
   "metadata": {},
   "outputs": [],
   "source": [
    "train_pred_r2l = clf_tree_r2l.predict(r2l1_X)"
   ]
  },
  {
   "cell_type": "code",
   "execution_count": 276,
   "metadata": {},
   "outputs": [
    {
     "data": {
      "text/plain": [
       "Text(0.5, 15.0, 'Predicted label')"
      ]
     },
     "execution_count": 276,
     "metadata": {},
     "output_type": "execute_result"
    },
    {
     "data": {
      "image/png": "[encoded data removed]",
      "text/plain": [
       "<Figure size 432x288 with 2 Axes>"
      ]
     },
     "metadata": {
      "needs_background": "light"
     },
     "output_type": "display_data"
    }
   ],
   "source": [
    "#plt.figure(1 , figsize = (10 , 5))\n",
    "tree_cm_r2l = metrics.confusion_matrix( train_pred_r2l,\n",
    "                                 network_train_r2l1_Y,\n",
    "                                 [1,0] )\n",
    "\n",
    "sns.heatmap(tree_cm_r2l, annot=True,\n",
    "         fmt='.0f',\n",
    "         xticklabels = [\"R2L\", \"NORMAL\"] , yticklabels = [\"R2L\", \"NORMAL\"] )\n",
    "\n",
    "plt.ylabel('True label')\n",
    "plt.xlabel('Predicted label')"
   ]
  },
  {
   "cell_type": "code",
   "execution_count": 277,
   "metadata": {},
   "outputs": [
    {
     "name": "stdout",
     "output_type": "stream",
     "text": [
      "              precision    recall  f1-score   support\n",
      "\n",
      "           0       1.00      1.00      1.00     67343\n",
      "           1       0.88      0.97      0.93       995\n",
      "\n",
      "    accuracy                           1.00     68338\n",
      "   macro avg       0.94      0.99      0.96     68338\n",
      "weighted avg       1.00      1.00      1.00     68338\n",
      "\n"
     ]
    }
   ],
   "source": [
    "print(metrics.classification_report(network_train_r2l1_Y, train_pred_r2l))"
   ]
  },
  {
   "cell_type": "code",
   "execution_count": 278,
   "metadata": {},
   "outputs": [
    {
     "data": {
      "text/plain": [
       "array([9.98316240e-05, 5.00684064e-06, 3.99116288e-02, 4.38768287e-03,\n",
       "       6.67343133e-02, 4.41565730e-02, 1.17368431e-01, 5.19864592e-02,\n",
       "       1.71828831e-04, 2.33988042e-03, 4.89451943e-04, 0.00000000e+00,\n",
       "       1.52934016e-02, 2.13543930e-02, 0.00000000e+00, 1.97864987e-02,\n",
       "       0.00000000e+00, 0.00000000e+00, 0.00000000e+00, 4.55453893e-04,\n",
       "       2.04864862e-05, 0.00000000e+00, 1.35419768e-02, 0.00000000e+00,\n",
       "       2.14360775e-03, 9.35624293e-02, 0.00000000e+00, 0.00000000e+00,\n",
       "       4.00588776e-01, 1.62288830e-03, 1.19200806e-03, 0.00000000e+00,\n",
       "       1.75127812e-03, 0.00000000e+00, 0.00000000e+00, 1.89466363e-02,\n",
       "       0.00000000e+00, 9.18939458e-05, 0.00000000e+00, 0.00000000e+00,\n",
       "       9.73552347e-04, 8.81771236e-03, 9.61809121e-04, 0.00000000e+00,\n",
       "       0.00000000e+00, 0.00000000e+00, 0.00000000e+00, 0.00000000e+00,\n",
       "       0.00000000e+00, 0.00000000e+00, 0.00000000e+00, 0.00000000e+00,\n",
       "       0.00000000e+00, 0.00000000e+00, 7.14793519e-08, 0.00000000e+00,\n",
       "       0.00000000e+00, 0.00000000e+00, 0.00000000e+00, 0.00000000e+00,\n",
       "       0.00000000e+00, 0.00000000e+00, 1.48189600e-02, 0.00000000e+00,\n",
       "       0.00000000e+00, 0.00000000e+00, 1.38451438e-04, 0.00000000e+00,\n",
       "       0.00000000e+00, 0.00000000e+00, 4.81087398e-03, 0.00000000e+00,\n",
       "       0.00000000e+00, 0.00000000e+00, 0.00000000e+00, 0.00000000e+00,\n",
       "       0.00000000e+00, 0.00000000e+00, 0.00000000e+00, 0.00000000e+00,\n",
       "       0.00000000e+00, 0.00000000e+00, 0.00000000e+00, 0.00000000e+00,\n",
       "       0.00000000e+00, 0.00000000e+00, 0.00000000e+00, 0.00000000e+00,\n",
       "       0.00000000e+00, 0.00000000e+00, 0.00000000e+00, 0.00000000e+00,\n",
       "       0.00000000e+00, 0.00000000e+00, 0.00000000e+00, 0.00000000e+00,\n",
       "       0.00000000e+00, 0.00000000e+00, 0.00000000e+00, 0.00000000e+00,\n",
       "       0.00000000e+00, 0.00000000e+00, 0.00000000e+00, 0.00000000e+00,\n",
       "       0.00000000e+00, 0.00000000e+00, 0.00000000e+00, 0.00000000e+00,\n",
       "       0.00000000e+00, 0.00000000e+00, 0.00000000e+00, 0.00000000e+00,\n",
       "       4.95072878e-02, 1.76075947e-03, 0.00000000e+00, 2.07706070e-04,\n",
       "       0.00000000e+00, 0.00000000e+00, 0.00000000e+00, 0.00000000e+00])"
      ]
     },
     "execution_count": 278,
     "metadata": {},
     "output_type": "execute_result"
    }
   ],
   "source": [
    "clf_tree_r2l.feature_importances_"
   ]
  },
  {
   "cell_type": "code",
   "execution_count": 279,
   "metadata": {},
   "outputs": [],
   "source": [
    "var_imp_r2l = pd.concat([pd.Series(network_train_r2l1_X.columns), pd.Series(clf_tree_r2l.feature_importances_)], axis=1)\n",
    "var_imp_r2l.columns = ['feature', 'importance']"
   ]
  },
  {
   "cell_type": "code",
   "execution_count": 281,
   "metadata": {},
   "outputs": [
    {
     "data": {
      "text/html": [
       "<div>\n",
       "<style scoped>\n",
       "    .dataframe tbody tr th:only-of-type {\n",
       "        vertical-align: middle;\n",
       "    }\n",
       "\n",
       "    .dataframe tbody tr th {\n",
       "        vertical-align: top;\n",
       "    }\n",
       "\n",
       "    .dataframe thead th {\n",
       "        text-align: right;\n",
       "    }\n",
       "</style>\n",
       "<table border=\"1\" class=\"dataframe\">\n",
       "  <thead>\n",
       "    <tr style=\"text-align: right;\">\n",
       "      <th></th>\n",
       "      <th>feature</th>\n",
       "      <th>importance</th>\n",
       "    </tr>\n",
       "  </thead>\n",
       "  <tbody>\n",
       "    <tr>\n",
       "      <td>0</td>\n",
       "      <td>LAST_FLAG</td>\n",
       "      <td>0.401</td>\n",
       "    </tr>\n",
       "    <tr>\n",
       "      <td>1</td>\n",
       "      <td>DST_HOST_SAME_SRC_PORT_RATE</td>\n",
       "      <td>0.117</td>\n",
       "    </tr>\n",
       "    <tr>\n",
       "      <td>2</td>\n",
       "      <td>IS_GUEST_LOGIN</td>\n",
       "      <td>0.094</td>\n",
       "    </tr>\n",
       "    <tr>\n",
       "      <td>3</td>\n",
       "      <td>DST_HOST_DIFF_SRV_RATE</td>\n",
       "      <td>0.067</td>\n",
       "    </tr>\n",
       "    <tr>\n",
       "      <td>4</td>\n",
       "      <td>DST_HOST_SAME_SRV_RATE</td>\n",
       "      <td>0.052</td>\n",
       "    </tr>\n",
       "    <tr>\n",
       "      <td>5</td>\n",
       "      <td>SRC_BYTES</td>\n",
       "      <td>0.050</td>\n",
       "    </tr>\n",
       "    <tr>\n",
       "      <td>6</td>\n",
       "      <td>DST_HOST_RERROR_RATE</td>\n",
       "      <td>0.044</td>\n",
       "    </tr>\n",
       "    <tr>\n",
       "      <td>7</td>\n",
       "      <td>DST_BYTES</td>\n",
       "      <td>0.040</td>\n",
       "    </tr>\n",
       "    <tr>\n",
       "      <td>8</td>\n",
       "      <td>DURATION</td>\n",
       "      <td>0.021</td>\n",
       "    </tr>\n",
       "    <tr>\n",
       "      <td>9</td>\n",
       "      <td>FLAG_RSTO</td>\n",
       "      <td>0.020</td>\n",
       "    </tr>\n",
       "    <tr>\n",
       "      <td>10</td>\n",
       "      <td>NUM_ROOT</td>\n",
       "      <td>0.019</td>\n",
       "    </tr>\n",
       "    <tr>\n",
       "      <td>11</td>\n",
       "      <td>DST_HOST_SRV_SERROR_RATE</td>\n",
       "      <td>0.015</td>\n",
       "    </tr>\n",
       "    <tr>\n",
       "      <td>12</td>\n",
       "      <td>SERVICE_ftp_data</td>\n",
       "      <td>0.015</td>\n",
       "    </tr>\n",
       "  </tbody>\n",
       "</table>\n",
       "</div>"
      ],
      "text/plain": [
       "                        feature  importance\n",
       "0                     LAST_FLAG       0.401\n",
       "1   DST_HOST_SAME_SRC_PORT_RATE       0.117\n",
       "2                IS_GUEST_LOGIN       0.094\n",
       "3        DST_HOST_DIFF_SRV_RATE       0.067\n",
       "4        DST_HOST_SAME_SRV_RATE       0.052\n",
       "5                     SRC_BYTES       0.050\n",
       "6          DST_HOST_RERROR_RATE       0.044\n",
       "7                     DST_BYTES       0.040\n",
       "8                      DURATION       0.021\n",
       "9                     FLAG_RSTO       0.020\n",
       "10                     NUM_ROOT       0.019\n",
       "11     DST_HOST_SRV_SERROR_RATE       0.015\n",
       "12             SERVICE_ftp_data       0.015"
      ]
     },
     "execution_count": 281,
     "metadata": {},
     "output_type": "execute_result"
    }
   ],
   "source": [
    "var_imp_r2l.sort_values('importance', ascending=False).iloc[0:13].reset_index(drop=True)"
   ]
  },
  {
   "cell_type": "code",
   "execution_count": 282,
   "metadata": {},
   "outputs": [],
   "source": [
    "R2L_sel_features=var_imp_r2l.sort_values('importance', ascending=False).iloc[0:13].reset_index(drop=True).feature.tolist()"
   ]
  },
  {
   "cell_type": "code",
   "execution_count": 283,
   "metadata": {},
   "outputs": [
    {
     "data": {
      "text/plain": [
       "['LAST_FLAG',\n",
       " 'DST_HOST_SAME_SRC_PORT_RATE',\n",
       " 'IS_GUEST_LOGIN',\n",
       " 'DST_HOST_DIFF_SRV_RATE',\n",
       " 'DST_HOST_SAME_SRV_RATE',\n",
       " 'SRC_BYTES',\n",
       " 'DST_HOST_RERROR_RATE',\n",
       " 'DST_BYTES',\n",
       " 'DURATION',\n",
       " 'FLAG_RSTO',\n",
       " 'NUM_ROOT',\n",
       " 'DST_HOST_SRV_SERROR_RATE',\n",
       " 'SERVICE_ftp_data']"
      ]
     },
     "execution_count": 283,
     "metadata": {},
     "output_type": "execute_result"
    }
   ],
   "source": [
    "R2L_sel_features"
   ]
  },
  {
   "cell_type": "markdown",
   "metadata": {},
   "source": [
    "#### Test"
   ]
  },
  {
   "cell_type": "code",
   "execution_count": 284,
   "metadata": {},
   "outputs": [],
   "source": [
    "test_pred_r2l_Y = clf_tree_r2l.predict(r2l1_test_X)"
   ]
  },
  {
   "cell_type": "code",
   "execution_count": 285,
   "metadata": {},
   "outputs": [
    {
     "data": {
      "text/plain": [
       "array([0, 0, 0, ..., 0, 0, 0])"
      ]
     },
     "execution_count": 285,
     "metadata": {},
     "output_type": "execute_result"
    }
   ],
   "source": [
    "test_pred_r2l_Y"
   ]
  },
  {
   "cell_type": "code",
   "execution_count": 286,
   "metadata": {},
   "outputs": [
    {
     "data": {
      "text/plain": [
       "Text(0.5, 15.0, 'Predicted label')"
      ]
     },
     "execution_count": 286,
     "metadata": {},
     "output_type": "execute_result"
    },
    {
     "data": {
      "image/png": "[encoded data removed]",
      "text/plain": [
       "<Figure size 432x288 with 2 Axes>"
      ]
     },
     "metadata": {
      "needs_background": "light"
     },
     "output_type": "display_data"
    }
   ],
   "source": [
    "#plt.figure(1 , figsize = (10 , 5))\n",
    "tree_test_r2l = metrics.confusion_matrix( test_pred_r2l_Y,\n",
    "                                 network_test_r2l1_Y,\n",
    "                                 [1,0] )\n",
    "sns.heatmap(tree_test_r2l, annot=True,\n",
    "         fmt='.0f',\n",
    "         xticklabels = [\"R2L\", \"NORMAL\"] , yticklabels = [\"R2L\", \"NORMAL\"] )\n",
    "\n",
    "plt.ylabel('True label')\n",
    "plt.xlabel('Predicted label')"
   ]
  },
  {
   "cell_type": "code",
   "execution_count": 287,
   "metadata": {},
   "outputs": [
    {
     "name": "stdout",
     "output_type": "stream",
     "text": [
      "              precision    recall  f1-score   support\n",
      "\n",
      "           0       0.79      1.00      0.88     10004\n",
      "           1       0.87      0.10      0.18      2885\n",
      "\n",
      "    accuracy                           0.80     12889\n",
      "   macro avg       0.83      0.55      0.53     12889\n",
      "weighted avg       0.81      0.80      0.73     12889\n",
      "\n"
     ]
    }
   ],
   "source": [
    "print(metrics.classification_report(network_test_r2l1_Y, test_pred_r2l_Y))"
   ]
  },
  {
   "cell_type": "markdown",
   "metadata": {},
   "source": [
    "### U2R"
   ]
  },
  {
   "cell_type": "code",
   "execution_count": 288,
   "metadata": {},
   "outputs": [],
   "source": [
    "from sklearn import metrics\n",
    "from sklearn.tree import DecisionTreeClassifier, export_graphviz\n",
    "from sklearn.model_selection import GridSearchCV"
   ]
  },
  {
   "cell_type": "code",
   "execution_count": 289,
   "metadata": {},
   "outputs": [],
   "source": [
    "param_grid = {'max_depth': np.arange(3, 12),\n",
    "             'max_features': np.arange(5,15)}"
   ]
  },
  {
   "cell_type": "code",
   "execution_count": 339,
   "metadata": {},
   "outputs": [
    {
     "data": {
      "text/plain": [
       "GridSearchCV(cv=8, error_score='raise-deprecating',\n",
       "             estimator=DecisionTreeClassifier(class_weight=None,\n",
       "                                              criterion='gini', max_depth=None,\n",
       "                                              max_features=None,\n",
       "                                              max_leaf_nodes=None,\n",
       "                                              min_impurity_decrease=0.0,\n",
       "                                              min_impurity_split=None,\n",
       "                                              min_samples_leaf=1,\n",
       "                                              min_samples_split=2,\n",
       "                                              min_weight_fraction_leaf=0.0,\n",
       "                                              presort=False, random_state=None,\n",
       "                                              splitter='best'),\n",
       "             iid='warn', n_jobs=None,\n",
       "             param_grid={'max_depth': array([ 3,  4,  5,  6,  7,  8,  9, 10, 11]),\n",
       "                         'max_features': array([ 5,  6,  7,  8,  9, 10, 11, 12, 13, 14])},\n",
       "             pre_dispatch='2*n_jobs', refit=True, return_train_score=False,\n",
       "             scoring='roc_auc', verbose=0)"
      ]
     },
     "execution_count": 339,
     "metadata": {},
     "output_type": "execute_result"
    }
   ],
   "source": [
    "tree_u2r = GridSearchCV(DecisionTreeClassifier(), param_grid, cv = 8, scoring='roc_auc')\n",
    "tree_u2r.fit( u2r1_X, network_train_u2r1_Y )"
   ]
  },
  {
   "cell_type": "code",
   "execution_count": 340,
   "metadata": {},
   "outputs": [
    {
     "data": {
      "text/plain": [
       "(134686, 120)"
      ]
     },
     "execution_count": 340,
     "metadata": {},
     "output_type": "execute_result"
    }
   ],
   "source": [
    "u2r1_X.shape"
   ]
  },
  {
   "cell_type": "code",
   "execution_count": 341,
   "metadata": {},
   "outputs": [
    {
     "data": {
      "text/plain": [
       "0.9997871384826402"
      ]
     },
     "execution_count": 341,
     "metadata": {},
     "output_type": "execute_result"
    }
   ],
   "source": [
    "tree_u2r.best_score_"
   ]
  },
  {
   "cell_type": "code",
   "execution_count": 342,
   "metadata": {},
   "outputs": [
    {
     "data": {
      "text/plain": [
       "{'max_depth': 11, 'max_features': 10}"
      ]
     },
     "execution_count": 342,
     "metadata": {},
     "output_type": "execute_result"
    }
   ],
   "source": [
    "tree_u2r.best_params_"
   ]
  },
  {
   "cell_type": "code",
   "execution_count": 343,
   "metadata": {},
   "outputs": [
    {
     "data": {
      "text/plain": [
       "0.999515563745284"
      ]
     },
     "execution_count": 343,
     "metadata": {},
     "output_type": "execute_result"
    }
   ],
   "source": [
    "metrics.roc_auc_score(network_train_u2r1_Y, pd.DataFrame(tree_u2r.predict_proba(u2r1_X))[1])"
   ]
  },
  {
   "cell_type": "code",
   "execution_count": 344,
   "metadata": {},
   "outputs": [
    {
     "data": {
      "text/plain": [
       "DecisionTreeClassifier(class_weight=None, criterion='gini', max_depth=11,\n",
       "                       max_features=10, max_leaf_nodes=None,\n",
       "                       min_impurity_decrease=0.0, min_impurity_split=None,\n",
       "                       min_samples_leaf=1, min_samples_split=2,\n",
       "                       min_weight_fraction_leaf=0.0, presort=False,\n",
       "                       random_state=None, splitter='best')"
      ]
     },
     "execution_count": 344,
     "metadata": {},
     "output_type": "execute_result"
    }
   ],
   "source": [
    "clf_tree_u2r = DecisionTreeClassifier( max_depth =11, max_features=10 )\n",
    "clf_tree_u2r.fit( u2r1_X, network_train_u2r1_Y )"
   ]
  },
  {
   "cell_type": "code",
   "execution_count": 345,
   "metadata": {},
   "outputs": [
    {
     "data": {
      "text/plain": [
       "array([1.27656267e-02, 9.45986317e-07, 8.86342198e-04, 7.12377936e-04,\n",
       "       1.06539079e-03, 2.86469406e-04, 0.00000000e+00, 1.24965202e-03,\n",
       "       2.07515864e-04, 8.53260727e-02, 2.07774747e-04, 0.00000000e+00,\n",
       "       5.41305218e-04, 9.24865958e-02, 0.00000000e+00, 0.00000000e+00,\n",
       "       0.00000000e+00, 0.00000000e+00, 0.00000000e+00, 0.00000000e+00,\n",
       "       0.00000000e+00, 0.00000000e+00, 1.85336436e-03, 0.00000000e+00,\n",
       "       3.32052977e-07, 0.00000000e+00, 0.00000000e+00, 0.00000000e+00,\n",
       "       3.05890375e-03, 0.00000000e+00, 0.00000000e+00, 1.93810845e-01,\n",
       "       0.00000000e+00, 2.80336142e-01, 0.00000000e+00, 4.11879928e-04,\n",
       "       0.00000000e+00, 0.00000000e+00, 4.14186924e-03, 2.96655173e-05,\n",
       "       5.95692603e-06, 0.00000000e+00, 0.00000000e+00, 0.00000000e+00,\n",
       "       0.00000000e+00, 0.00000000e+00, 0.00000000e+00, 0.00000000e+00,\n",
       "       0.00000000e+00, 0.00000000e+00, 0.00000000e+00, 0.00000000e+00,\n",
       "       0.00000000e+00, 0.00000000e+00, 0.00000000e+00, 0.00000000e+00,\n",
       "       0.00000000e+00, 0.00000000e+00, 0.00000000e+00, 0.00000000e+00,\n",
       "       0.00000000e+00, 0.00000000e+00, 1.67982916e-01, 0.00000000e+00,\n",
       "       0.00000000e+00, 0.00000000e+00, 9.76070255e-04, 0.00000000e+00,\n",
       "       0.00000000e+00, 0.00000000e+00, 0.00000000e+00, 0.00000000e+00,\n",
       "       0.00000000e+00, 0.00000000e+00, 0.00000000e+00, 0.00000000e+00,\n",
       "       0.00000000e+00, 0.00000000e+00, 0.00000000e+00, 0.00000000e+00,\n",
       "       0.00000000e+00, 0.00000000e+00, 0.00000000e+00, 0.00000000e+00,\n",
       "       0.00000000e+00, 0.00000000e+00, 0.00000000e+00, 0.00000000e+00,\n",
       "       0.00000000e+00, 0.00000000e+00, 0.00000000e+00, 0.00000000e+00,\n",
       "       0.00000000e+00, 0.00000000e+00, 0.00000000e+00, 0.00000000e+00,\n",
       "       0.00000000e+00, 0.00000000e+00, 0.00000000e+00, 0.00000000e+00,\n",
       "       0.00000000e+00, 0.00000000e+00, 2.27364749e-02, 0.00000000e+00,\n",
       "       0.00000000e+00, 0.00000000e+00, 0.00000000e+00, 0.00000000e+00,\n",
       "       0.00000000e+00, 0.00000000e+00, 0.00000000e+00, 0.00000000e+00,\n",
       "       1.28919510e-01, 0.00000000e+00, 0.00000000e+00, 0.00000000e+00,\n",
       "       0.00000000e+00, 0.00000000e+00, 0.00000000e+00, 0.00000000e+00])"
      ]
     },
     "execution_count": 345,
     "metadata": {},
     "output_type": "execute_result"
    }
   ],
   "source": [
    "clf_tree_u2r.feature_importances_"
   ]
  },
  {
   "cell_type": "code",
   "execution_count": 346,
   "metadata": {},
   "outputs": [],
   "source": [
    "train_pred_u2r = clf_tree_u2r.predict(u2r1_X)"
   ]
  },
  {
   "cell_type": "code",
   "execution_count": 347,
   "metadata": {},
   "outputs": [
    {
     "data": {
      "text/plain": [
       "array([0, 0, 0, ..., 1, 1, 1])"
      ]
     },
     "execution_count": 347,
     "metadata": {},
     "output_type": "execute_result"
    }
   ],
   "source": [
    "train_pred_u2r"
   ]
  },
  {
   "cell_type": "code",
   "execution_count": 348,
   "metadata": {},
   "outputs": [
    {
     "name": "stdout",
     "output_type": "stream",
     "text": [
      "              precision    recall  f1-score   support\n",
      "\n",
      "           0       1.00      1.00      1.00     67343\n",
      "           1       1.00      1.00      1.00     67343\n",
      "\n",
      "    accuracy                           1.00    134686\n",
      "   macro avg       1.00      1.00      1.00    134686\n",
      "weighted avg       1.00      1.00      1.00    134686\n",
      "\n"
     ]
    }
   ],
   "source": [
    "print(metrics.classification_report(network_train_u2r1_Y, train_pred_u2r))"
   ]
  },
  {
   "cell_type": "code",
   "execution_count": 349,
   "metadata": {},
   "outputs": [],
   "source": [
    "import matplotlib.pyplot as plt\n",
    "import seaborn as sns\n",
    "%matplotlib inline"
   ]
  },
  {
   "cell_type": "code",
   "execution_count": 350,
   "metadata": {},
   "outputs": [
    {
     "data": {
      "text/plain": [
       "Text(0.5, 15.0, 'Predicted label')"
      ]
     },
     "execution_count": 350,
     "metadata": {},
     "output_type": "execute_result"
    },
    {
     "data": {
      "image/png": "[encoded data removed]",
      "text/plain": [
       "<Figure size 432x288 with 2 Axes>"
      ]
     },
     "metadata": {
      "needs_background": "light"
     },
     "output_type": "display_data"
    }
   ],
   "source": [
    "#plt.figure(1 , figsize = (10 , 5))\n",
    "tree_cm_u2r = metrics.confusion_matrix( train_pred_u2r,\n",
    "                                 network_train_u2r1_Y,\n",
    "                                 [1,0] )\n",
    "\n",
    "sns.heatmap(tree_cm_u2r, annot=True,\n",
    "         fmt='.0f',\n",
    "         xticklabels = [\"U2R\", \"NORMAL\"] , yticklabels = [\"U2R\", \"NORMAL\"] )\n",
    "\n",
    "plt.ylabel('True label')\n",
    "plt.xlabel('Predicted label')"
   ]
  },
  {
   "cell_type": "code",
   "execution_count": 351,
   "metadata": {},
   "outputs": [],
   "source": [
    "var_imp_u2r = pd.concat([pd.Series(network_train_u2r1_X.columns), pd.Series(clf_tree_u2r.feature_importances_)], axis=1)\n",
    "var_imp_u2r.columns = ['feature', 'importance']"
   ]
  },
  {
   "cell_type": "code",
   "execution_count": 353,
   "metadata": {},
   "outputs": [
    {
     "data": {
      "text/html": [
       "<div>\n",
       "<style scoped>\n",
       "    .dataframe tbody tr th:only-of-type {\n",
       "        vertical-align: middle;\n",
       "    }\n",
       "\n",
       "    .dataframe tbody tr th {\n",
       "        vertical-align: top;\n",
       "    }\n",
       "\n",
       "    .dataframe thead th {\n",
       "        text-align: right;\n",
       "    }\n",
       "</style>\n",
       "<table border=\"1\" class=\"dataframe\">\n",
       "  <thead>\n",
       "    <tr style=\"text-align: right;\">\n",
       "      <th></th>\n",
       "      <th>feature</th>\n",
       "      <th>importance</th>\n",
       "    </tr>\n",
       "  </thead>\n",
       "  <tbody>\n",
       "    <tr>\n",
       "      <td>0</td>\n",
       "      <td>NUM_FILE_CREATIONS</td>\n",
       "      <td>0.280</td>\n",
       "    </tr>\n",
       "    <tr>\n",
       "      <td>1</td>\n",
       "      <td>NUM_COMPROMISED</td>\n",
       "      <td>0.194</td>\n",
       "    </tr>\n",
       "    <tr>\n",
       "      <td>2</td>\n",
       "      <td>SERVICE_ftp_data</td>\n",
       "      <td>0.168</td>\n",
       "    </tr>\n",
       "    <tr>\n",
       "      <td>3</td>\n",
       "      <td>SRC_BYTES</td>\n",
       "      <td>0.129</td>\n",
       "    </tr>\n",
       "    <tr>\n",
       "      <td>4</td>\n",
       "      <td>DURATION</td>\n",
       "      <td>0.092</td>\n",
       "    </tr>\n",
       "    <tr>\n",
       "      <td>5</td>\n",
       "      <td>DST_HOST_SRV_COUNT</td>\n",
       "      <td>0.085</td>\n",
       "    </tr>\n",
       "    <tr>\n",
       "      <td>6</td>\n",
       "      <td>SERVICE_telnet</td>\n",
       "      <td>0.023</td>\n",
       "    </tr>\n",
       "    <tr>\n",
       "      <td>7</td>\n",
       "      <td>COUNT</td>\n",
       "      <td>0.013</td>\n",
       "    </tr>\n",
       "    <tr>\n",
       "      <td>8</td>\n",
       "      <td>PROTOCOL_TYPE_udp</td>\n",
       "      <td>0.004</td>\n",
       "    </tr>\n",
       "    <tr>\n",
       "      <td>9</td>\n",
       "      <td>LAST_FLAG</td>\n",
       "      <td>0.003</td>\n",
       "    </tr>\n",
       "  </tbody>\n",
       "</table>\n",
       "</div>"
      ],
      "text/plain": [
       "              feature  importance\n",
       "0  NUM_FILE_CREATIONS       0.280\n",
       "1     NUM_COMPROMISED       0.194\n",
       "2    SERVICE_ftp_data       0.168\n",
       "3           SRC_BYTES       0.129\n",
       "4            DURATION       0.092\n",
       "5  DST_HOST_SRV_COUNT       0.085\n",
       "6      SERVICE_telnet       0.023\n",
       "7               COUNT       0.013\n",
       "8   PROTOCOL_TYPE_udp       0.004\n",
       "9           LAST_FLAG       0.003"
      ]
     },
     "execution_count": 353,
     "metadata": {},
     "output_type": "execute_result"
    }
   ],
   "source": [
    "var_imp_u2r.sort_values('importance', ascending=False).iloc[0:10].reset_index(drop=True)"
   ]
  },
  {
   "cell_type": "code",
   "execution_count": 354,
   "metadata": {},
   "outputs": [],
   "source": [
    "U2R_sel_features=var_imp_u2r.sort_values('importance', ascending=False).iloc[0:10].reset_index(drop=True).feature.tolist()"
   ]
  },
  {
   "cell_type": "markdown",
   "metadata": {},
   "source": [
    "#### Test"
   ]
  },
  {
   "cell_type": "code",
   "execution_count": 355,
   "metadata": {},
   "outputs": [],
   "source": [
    "test_pred_u2r_Y = clf_tree_u2r.predict(u2r1_test_X)"
   ]
  },
  {
   "cell_type": "code",
   "execution_count": 356,
   "metadata": {},
   "outputs": [
    {
     "data": {
      "text/plain": [
       "array([0, 0, 0, ..., 0, 0, 0])"
      ]
     },
     "execution_count": 356,
     "metadata": {},
     "output_type": "execute_result"
    }
   ],
   "source": [
    "test_pred_u2r_Y"
   ]
  },
  {
   "cell_type": "code",
   "execution_count": 357,
   "metadata": {},
   "outputs": [
    {
     "data": {
      "text/plain": [
       "Text(0.5, 15.0, 'Predicted label')"
      ]
     },
     "execution_count": 357,
     "metadata": {},
     "output_type": "execute_result"
    },
    {
     "data": {
      "image/png": "[encoded data removed]",
      "text/plain": [
       "<Figure size 432x288 with 2 Axes>"
      ]
     },
     "metadata": {
      "needs_background": "light"
     },
     "output_type": "display_data"
    }
   ],
   "source": [
    "#plt.figure(1 , figsize = (10 , 5))\n",
    "tree_test_u2r = metrics.confusion_matrix( test_pred_u2r_Y,\n",
    "                                 network_test_u2r1_Y,\n",
    "                                 [1,0] )\n",
    "sns.heatmap(tree_test_u2r, annot=True,\n",
    "         fmt='.0f',\n",
    "         xticklabels = [\"U2R\", \"NORMAL\"] , yticklabels = [\"U2R\", \"NORMAL\"] )\n",
    "\n",
    "plt.ylabel('True label')\n",
    "plt.xlabel('Predicted label')"
   ]
  },
  {
   "cell_type": "code",
   "execution_count": 358,
   "metadata": {},
   "outputs": [
    {
     "name": "stdout",
     "output_type": "stream",
     "text": [
      "              precision    recall  f1-score   support\n",
      "\n",
      "           0       0.99      1.00      1.00     10004\n",
      "           1       0.88      0.22      0.36        67\n",
      "\n",
      "    accuracy                           0.99     10071\n",
      "   macro avg       0.94      0.61      0.68     10071\n",
      "weighted avg       0.99      0.99      0.99     10071\n",
      "\n"
     ]
    }
   ],
   "source": [
    "print(metrics.classification_report(network_test_u2r1_Y, test_pred_u2r_Y))"
   ]
  }
 ],
 "metadata": {
  "kernelspec": {
   "display_name": "Python 3",
   "language": "python",
   "name": "python3"
  },
  "language_info": {
   "codemirror_mode": {
    "name": "ipython",
    "version": 3
   },
   "file_extension": ".py",
   "mimetype": "text/x-python",
   "name": "python",
   "nbconvert_exporter": "python",
   "pygments_lexer": "ipython3",
   "version": "3.7.4"
  }
 },
 "nbformat": 4,
 "nbformat_minor": 2
}
